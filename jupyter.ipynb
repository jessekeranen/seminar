{
 "cells": [
  {
   "cell_type": "code",
   "execution_count": 1953,
   "outputs": [],
   "source": [
    "import pandas as pd\n",
    "import numpy as np\n",
    "import statistics\n",
    "import datetime"
   ],
   "metadata": {
    "collapsed": false
   }
  },
  {
   "cell_type": "markdown",
   "source": [
    "Function for data frame manipulations that are same for all data frames."
   ],
   "metadata": {
    "collapsed": false
   }
  },
  {
   "cell_type": "code",
   "execution_count": 1954,
   "outputs": [],
   "source": [
    "def df_maniplualtion(path):\n",
    "    data_frame = pd.read_csv(path)\n",
    "    data_frame = data_frame.rename(columns={\"Name\": \"Date\"})\n",
    "    data_frame[\"Date\"] = pd.to_datetime(data_frame[\"Date\"], format=\"%d/%m/%Y\")\n",
    "    data_frame.set_index('Date', inplace=True)\n",
    "    return data_frame"
   ],
   "metadata": {
    "collapsed": false
   }
  },
  {
   "cell_type": "markdown",
   "source": [
    "Dependant variable data frame"
   ],
   "metadata": {
    "collapsed": false
   }
  },
  {
   "cell_type": "code",
   "execution_count": 1955,
   "outputs": [
    {
     "data": {
      "text/plain": "            JAPAN-DS Market - TOT RETURN IND  \\\nDate                                           \n1989-12-31                           1007.32   \n1990-01-31                            958.47   \n1990-02-28                            894.37   \n1990-03-30                            779.75   \n1990-04-30                            777.05   \n...                                      ...   \n2020-05-29                            980.89   \n2020-06-30                            980.94   \n2020-07-31                            946.83   \n2020-08-31                           1021.91   \n2020-09-30                           1030.48   \n\n            JP OVERNIGHT UNCOLLATERISED CALL MONEY RATE (AVG.) NADJ  \nDate                                                                 \n1989-12-31                                             6.4480        \n1990-01-31                                             6.5810        \n1990-02-28                                             6.6430        \n1990-03-30                                             6.8170        \n1990-04-30                                             7.1630        \n...                                                       ...        \n2020-05-29                                            -0.0015        \n2020-06-30                                            -0.0015        \n2020-07-31                                            -0.0015        \n2020-08-31                                            -0.0015        \n2020-09-30                                            -0.0015        \n\n[370 rows x 2 columns]",
      "text/html": "<div>\n<style scoped>\n    .dataframe tbody tr th:only-of-type {\n        vertical-align: middle;\n    }\n\n    .dataframe tbody tr th {\n        vertical-align: top;\n    }\n\n    .dataframe thead th {\n        text-align: right;\n    }\n</style>\n<table border=\"1\" class=\"dataframe\">\n  <thead>\n    <tr style=\"text-align: right;\">\n      <th></th>\n      <th>JAPAN-DS Market - TOT RETURN IND</th>\n      <th>JP OVERNIGHT UNCOLLATERISED CALL MONEY RATE (AVG.) NADJ</th>\n    </tr>\n    <tr>\n      <th>Date</th>\n      <th></th>\n      <th></th>\n    </tr>\n  </thead>\n  <tbody>\n    <tr>\n      <th>1989-12-31</th>\n      <td>1007.32</td>\n      <td>6.4480</td>\n    </tr>\n    <tr>\n      <th>1990-01-31</th>\n      <td>958.47</td>\n      <td>6.5810</td>\n    </tr>\n    <tr>\n      <th>1990-02-28</th>\n      <td>894.37</td>\n      <td>6.6430</td>\n    </tr>\n    <tr>\n      <th>1990-03-30</th>\n      <td>779.75</td>\n      <td>6.8170</td>\n    </tr>\n    <tr>\n      <th>1990-04-30</th>\n      <td>777.05</td>\n      <td>7.1630</td>\n    </tr>\n    <tr>\n      <th>...</th>\n      <td>...</td>\n      <td>...</td>\n    </tr>\n    <tr>\n      <th>2020-05-29</th>\n      <td>980.89</td>\n      <td>-0.0015</td>\n    </tr>\n    <tr>\n      <th>2020-06-30</th>\n      <td>980.94</td>\n      <td>-0.0015</td>\n    </tr>\n    <tr>\n      <th>2020-07-31</th>\n      <td>946.83</td>\n      <td>-0.0015</td>\n    </tr>\n    <tr>\n      <th>2020-08-31</th>\n      <td>1021.91</td>\n      <td>-0.0015</td>\n    </tr>\n    <tr>\n      <th>2020-09-30</th>\n      <td>1030.48</td>\n      <td>-0.0015</td>\n    </tr>\n  </tbody>\n</table>\n<p>370 rows × 2 columns</p>\n</div>"
     },
     "execution_count": 1955,
     "metadata": {},
     "output_type": "execute_result"
    }
   ],
   "source": [
    "dependentVariable = df_maniplualtion('data/depVariable.csv')\n",
    "dependentVariable"
   ],
   "metadata": {
    "collapsed": false
   }
  },
  {
   "cell_type": "markdown",
   "source": [
    "Monthly data"
   ],
   "metadata": {
    "collapsed": false
   }
  },
  {
   "cell_type": "code",
   "execution_count": 1956,
   "outputs": [
    {
     "data": {
      "text/plain": "            JAPAN-DS Market - DIVIDEND YIELD  JAPAN-DS Market - PRICE INDEX  \\\nDate                                                                          \n1989-12-31                              0.43                         768.21   \n1990-01-31                              0.45                         730.66   \n1990-02-28                              0.49                         681.56   \n1990-03-30                              0.56                         593.94   \n1990-04-30                              0.56                         591.61   \n...                                      ...                            ...   \n2020-05-29                              2.47                         496.02   \n2020-06-30                              2.48                         495.02   \n2020-07-31                              2.54                         476.77   \n2020-08-31                              2.34                         513.59   \n2020-09-30                              2.33                         516.88   \n\n            JAPAN-DS Market - TOT RETURN IND  JAPAN-DS Market - PER  \\\nDate                                                                  \n1989-12-31                           1007.32                   60.6   \n1990-01-31                            958.47                   57.4   \n1990-02-28                            894.37                   53.3   \n1990-03-30                            779.75                   46.5   \n1990-04-30                            777.05                   46.4   \n...                                      ...                    ...   \n2020-05-29                            980.89                   16.8   \n2020-06-30                            980.94                   16.9   \n2020-07-31                            946.83                   17.1   \n2020-08-31                           1021.91                   20.3   \n2020-09-30                           1030.48                   20.4   \n\n            JAPAN-DS Market - PRICE/BOOK RATIO  \\\nDate                                             \n1989-12-31                                4.05   \n1990-01-31                                3.82   \n1990-02-28                                3.59   \n1990-03-30                                3.10   \n1990-04-30                                2.98   \n...                                        ...   \n2020-05-29                                1.22   \n2020-06-30                                1.23   \n2020-07-31                                1.19   \n2020-08-31                                1.28   \n2020-09-30                                1.28   \n\n            JAPAN-DS Market - PE RATIO 12M FWD  \\\nDate                                             \n1989-12-31                               40.88   \n1990-01-31                               40.78   \n1990-02-28                               38.91   \n1990-03-30                               35.38   \n1990-04-30                               30.98   \n...                                        ...   \n2020-05-29                               14.54   \n2020-06-30                               16.85   \n2020-07-31                               17.35   \n2020-08-31                               17.90   \n2020-09-30                               17.92   \n\n            JAPAN-DS Market - MARKET VALUE  JAPAN-DS Market - ROE  \\\nDate                                                                \n1989-12-31                       535950600                   8.35   \n1990-01-31                       513422800                   8.23   \n1990-02-28                       479338500                   8.22   \n1990-03-30                       418150400                   8.23   \n1990-04-30                       420146400                   7.91   \n...                                    ...                    ...   \n2020-05-29                       588487400                   6.42   \n2020-06-30                       586178800                   5.06   \n2020-07-31                       567044900                   5.05   \n2020-08-31                       609797100                   5.03   \n2020-09-30                       613872400                   4.68   \n\n            JAPAN-DS Market - TOTAL ASSETS  JAPAN-DS Market - NET DEBT  ...  \\\nDate                                                                    ...   \n1989-12-31                    3.378970e+11                6.317994e+10  ...   \n1990-01-31                    3.407350e+11                6.325462e+10  ...   \n1990-02-28                    3.410670e+11                6.319519e+10  ...   \n1990-03-30                    3.411190e+11                6.319455e+10  ...   \n1990-04-30                    3.998830e+11                6.928813e+10  ...   \n...                                    ...                         ...  ...   \n2020-05-29                    2.969930e+12                5.128516e+09  ...   \n2020-06-30                    3.028680e+12               -1.295236e+10  ...   \n2020-07-31                    3.028840e+12               -1.288441e+10  ...   \n2020-08-31                    3.028970e+12               -1.414199e+10  ...   \n2020-09-30                    3.070080e+12               -3.557344e+10  ...   \n\n            NIKKEI STOCK AVERAGE VOLATILITY INDEX - PRICE INDEX  \\\nDate                                                              \n1989-12-31                                              20.32     \n1990-01-31                                              17.56     \n1990-02-28                                              15.92     \n1990-03-30                                              28.07     \n1990-04-30                                              55.05     \n...                                                       ...     \n2020-05-29                                              27.60     \n2020-06-30                                              29.12     \n2020-07-31                                              25.96     \n2020-08-31                                              22.99     \n2020-09-30                                              23.70     \n\n            JP ISSUES: CORPORATE STRAIGHT BONDS CURN  \\\nDate                                                   \n1989-12-31                                     15000   \n1990-01-31                                         0   \n1990-02-28                                    144000   \n1990-03-30                                    120000   \n1990-04-30                                    310000   \n...                                              ...   \n2020-05-29                                    681000   \n2020-06-30                                   1910700   \n2020-07-31                                   2543300   \n2020-08-31                                    256500   \n2020-09-30                                   1854700   \n\n            JP STOCKS: PUBLIC OFFERINGS - AMOUNT RAISED CURN  \\\nDate                                                           \n1989-12-31                                          13236.45   \n1990-01-31                                           3668.14   \n1990-02-28                                           4862.99   \n1990-03-30                                           7573.41   \n1990-04-30                                           1176.16   \n...                                                      ...   \n2020-05-29                                              0.00   \n2020-06-30                                             58.64   \n2020-07-31                                            567.57   \n2020-08-31                                             52.56   \n2020-09-30                                            886.94   \n\n            JP OVERNIGHT UNCOLLATERISED CALL MONEY RATE (AVG.) NADJ  \\\nDate                                                                  \n1989-12-31                                             6.4480         \n1990-01-31                                             6.5810         \n1990-02-28                                             6.6430         \n1990-03-30                                             6.8170         \n1990-04-30                                             7.1630         \n...                                                       ...         \n2020-05-29                                            -0.0015         \n2020-06-30                                            -0.0015         \n2020-07-31                                            -0.0015         \n2020-08-31                                            -0.0015         \n2020-09-30                                            -0.0015         \n\n            JP CPI: NATIONAL MEASURE - ANNUAL INFLATION RATE NADJ  \\\nDate                                                                \n1989-12-31                                               2.64       \n1990-01-31                                               3.34       \n1990-02-28                                               3.82       \n1990-03-30                                               3.56       \n1990-04-30                                               2.71       \n...                                                       ...       \n2020-05-29                                               0.00       \n2020-06-30                                               0.10       \n2020-07-31                                               0.30       \n2020-08-31                                               0.20       \n2020-09-30                                               0.10       \n\n            JP MONEY SUPPLY: M2 (METHO-BREAK, APR. 2003) CURA  \\\nDate                                                            \n1989-12-31                                           455632.2   \n1990-01-31                                           461555.6   \n1990-02-28                                           469357.7   \n1990-03-30                                           471653.1   \n1990-04-30                                           479005.5   \n...                                                       ...   \n2020-05-29                                          1077196.9   \n2020-06-30                                          1099866.6   \n2020-07-31                                          1108556.4   \n2020-08-31                                          1118419.7   \n2020-09-30                                          1125114.4   \n\n            JP JAPANESE YEN TO US $ NADJ  JP PETROLEUM: CONSUMPTION VOLN  \\\nDate                                                                       \n1989-12-31                      143.7079                         6252.45   \n1990-01-31                      144.9468                         5702.94   \n1990-02-28                      145.6150                         6045.61   \n1990-03-30                      153.1964                         5666.58   \n1990-04-30                      158.3026                         4826.67   \n...                                  ...                             ...   \n2020-05-29                      107.2668                         2728.10   \n2020-06-30                      107.6050                         2860.43   \n2020-07-31                      106.7357                         2981.48   \n2020-08-31                      106.0465                         3037.23   \n2020-09-30                      105.6116                         3059.70   \n\n            JP UNEMPLOYMENT RATE (METHO BREAK OCT 2010) SADJ  \\\nDate                                                           \n1989-12-31                                               2.1   \n1990-01-31                                               2.2   \n1990-02-28                                               2.2   \n1990-03-30                                               2.0   \n1990-04-30                                               2.1   \n...                                                      ...   \n2020-05-29                                               2.9   \n2020-06-30                                               2.8   \n2020-07-31                                               2.9   \n2020-08-31                                               3.0   \n2020-09-30                                               3.0   \n\n            JP INDUSTRIAL PRODUCTION - MINING & MANUFACTURING VOLA  \nDate                                                                \n1989-12-31                                              104.4       \n1990-01-31                                              103.5       \n1990-02-28                                              104.4       \n1990-03-30                                              106.4       \n1990-04-30                                              106.4       \n...                                                       ...       \n2020-05-29                                               78.7       \n2020-06-30                                               80.2       \n2020-07-31                                               87.2       \n2020-08-31                                               88.1       \n2020-09-30                                               91.5       \n\n[370 rows x 21 columns]",
      "text/html": "<div>\n<style scoped>\n    .dataframe tbody tr th:only-of-type {\n        vertical-align: middle;\n    }\n\n    .dataframe tbody tr th {\n        vertical-align: top;\n    }\n\n    .dataframe thead th {\n        text-align: right;\n    }\n</style>\n<table border=\"1\" class=\"dataframe\">\n  <thead>\n    <tr style=\"text-align: right;\">\n      <th></th>\n      <th>JAPAN-DS Market - DIVIDEND YIELD</th>\n      <th>JAPAN-DS Market - PRICE INDEX</th>\n      <th>JAPAN-DS Market - TOT RETURN IND</th>\n      <th>JAPAN-DS Market - PER</th>\n      <th>JAPAN-DS Market - PRICE/BOOK RATIO</th>\n      <th>JAPAN-DS Market - PE RATIO 12M FWD</th>\n      <th>JAPAN-DS Market - MARKET VALUE</th>\n      <th>JAPAN-DS Market - ROE</th>\n      <th>JAPAN-DS Market - TOTAL ASSETS</th>\n      <th>JAPAN-DS Market - NET DEBT</th>\n      <th>...</th>\n      <th>NIKKEI STOCK AVERAGE VOLATILITY INDEX - PRICE INDEX</th>\n      <th>JP ISSUES: CORPORATE STRAIGHT BONDS CURN</th>\n      <th>JP STOCKS: PUBLIC OFFERINGS - AMOUNT RAISED CURN</th>\n      <th>JP OVERNIGHT UNCOLLATERISED CALL MONEY RATE (AVG.) NADJ</th>\n      <th>JP CPI: NATIONAL MEASURE - ANNUAL INFLATION RATE NADJ</th>\n      <th>JP MONEY SUPPLY: M2 (METHO-BREAK, APR. 2003) CURA</th>\n      <th>JP JAPANESE YEN TO US $ NADJ</th>\n      <th>JP PETROLEUM: CONSUMPTION VOLN</th>\n      <th>JP UNEMPLOYMENT RATE (METHO BREAK OCT 2010) SADJ</th>\n      <th>JP INDUSTRIAL PRODUCTION - MINING &amp; MANUFACTURING VOLA</th>\n    </tr>\n    <tr>\n      <th>Date</th>\n      <th></th>\n      <th></th>\n      <th></th>\n      <th></th>\n      <th></th>\n      <th></th>\n      <th></th>\n      <th></th>\n      <th></th>\n      <th></th>\n      <th></th>\n      <th></th>\n      <th></th>\n      <th></th>\n      <th></th>\n      <th></th>\n      <th></th>\n      <th></th>\n      <th></th>\n      <th></th>\n      <th></th>\n    </tr>\n  </thead>\n  <tbody>\n    <tr>\n      <th>1989-12-31</th>\n      <td>0.43</td>\n      <td>768.21</td>\n      <td>1007.32</td>\n      <td>60.6</td>\n      <td>4.05</td>\n      <td>40.88</td>\n      <td>535950600</td>\n      <td>8.35</td>\n      <td>3.378970e+11</td>\n      <td>6.317994e+10</td>\n      <td>...</td>\n      <td>20.32</td>\n      <td>15000</td>\n      <td>13236.45</td>\n      <td>6.4480</td>\n      <td>2.64</td>\n      <td>455632.2</td>\n      <td>143.7079</td>\n      <td>6252.45</td>\n      <td>2.1</td>\n      <td>104.4</td>\n    </tr>\n    <tr>\n      <th>1990-01-31</th>\n      <td>0.45</td>\n      <td>730.66</td>\n      <td>958.47</td>\n      <td>57.4</td>\n      <td>3.82</td>\n      <td>40.78</td>\n      <td>513422800</td>\n      <td>8.23</td>\n      <td>3.407350e+11</td>\n      <td>6.325462e+10</td>\n      <td>...</td>\n      <td>17.56</td>\n      <td>0</td>\n      <td>3668.14</td>\n      <td>6.5810</td>\n      <td>3.34</td>\n      <td>461555.6</td>\n      <td>144.9468</td>\n      <td>5702.94</td>\n      <td>2.2</td>\n      <td>103.5</td>\n    </tr>\n    <tr>\n      <th>1990-02-28</th>\n      <td>0.49</td>\n      <td>681.56</td>\n      <td>894.37</td>\n      <td>53.3</td>\n      <td>3.59</td>\n      <td>38.91</td>\n      <td>479338500</td>\n      <td>8.22</td>\n      <td>3.410670e+11</td>\n      <td>6.319519e+10</td>\n      <td>...</td>\n      <td>15.92</td>\n      <td>144000</td>\n      <td>4862.99</td>\n      <td>6.6430</td>\n      <td>3.82</td>\n      <td>469357.7</td>\n      <td>145.6150</td>\n      <td>6045.61</td>\n      <td>2.2</td>\n      <td>104.4</td>\n    </tr>\n    <tr>\n      <th>1990-03-30</th>\n      <td>0.56</td>\n      <td>593.94</td>\n      <td>779.75</td>\n      <td>46.5</td>\n      <td>3.10</td>\n      <td>35.38</td>\n      <td>418150400</td>\n      <td>8.23</td>\n      <td>3.411190e+11</td>\n      <td>6.319455e+10</td>\n      <td>...</td>\n      <td>28.07</td>\n      <td>120000</td>\n      <td>7573.41</td>\n      <td>6.8170</td>\n      <td>3.56</td>\n      <td>471653.1</td>\n      <td>153.1964</td>\n      <td>5666.58</td>\n      <td>2.0</td>\n      <td>106.4</td>\n    </tr>\n    <tr>\n      <th>1990-04-30</th>\n      <td>0.56</td>\n      <td>591.61</td>\n      <td>777.05</td>\n      <td>46.4</td>\n      <td>2.98</td>\n      <td>30.98</td>\n      <td>420146400</td>\n      <td>7.91</td>\n      <td>3.998830e+11</td>\n      <td>6.928813e+10</td>\n      <td>...</td>\n      <td>55.05</td>\n      <td>310000</td>\n      <td>1176.16</td>\n      <td>7.1630</td>\n      <td>2.71</td>\n      <td>479005.5</td>\n      <td>158.3026</td>\n      <td>4826.67</td>\n      <td>2.1</td>\n      <td>106.4</td>\n    </tr>\n    <tr>\n      <th>...</th>\n      <td>...</td>\n      <td>...</td>\n      <td>...</td>\n      <td>...</td>\n      <td>...</td>\n      <td>...</td>\n      <td>...</td>\n      <td>...</td>\n      <td>...</td>\n      <td>...</td>\n      <td>...</td>\n      <td>...</td>\n      <td>...</td>\n      <td>...</td>\n      <td>...</td>\n      <td>...</td>\n      <td>...</td>\n      <td>...</td>\n      <td>...</td>\n      <td>...</td>\n      <td>...</td>\n    </tr>\n    <tr>\n      <th>2020-05-29</th>\n      <td>2.47</td>\n      <td>496.02</td>\n      <td>980.89</td>\n      <td>16.8</td>\n      <td>1.22</td>\n      <td>14.54</td>\n      <td>588487400</td>\n      <td>6.42</td>\n      <td>2.969930e+12</td>\n      <td>5.128516e+09</td>\n      <td>...</td>\n      <td>27.60</td>\n      <td>681000</td>\n      <td>0.00</td>\n      <td>-0.0015</td>\n      <td>0.00</td>\n      <td>1077196.9</td>\n      <td>107.2668</td>\n      <td>2728.10</td>\n      <td>2.9</td>\n      <td>78.7</td>\n    </tr>\n    <tr>\n      <th>2020-06-30</th>\n      <td>2.48</td>\n      <td>495.02</td>\n      <td>980.94</td>\n      <td>16.9</td>\n      <td>1.23</td>\n      <td>16.85</td>\n      <td>586178800</td>\n      <td>5.06</td>\n      <td>3.028680e+12</td>\n      <td>-1.295236e+10</td>\n      <td>...</td>\n      <td>29.12</td>\n      <td>1910700</td>\n      <td>58.64</td>\n      <td>-0.0015</td>\n      <td>0.10</td>\n      <td>1099866.6</td>\n      <td>107.6050</td>\n      <td>2860.43</td>\n      <td>2.8</td>\n      <td>80.2</td>\n    </tr>\n    <tr>\n      <th>2020-07-31</th>\n      <td>2.54</td>\n      <td>476.77</td>\n      <td>946.83</td>\n      <td>17.1</td>\n      <td>1.19</td>\n      <td>17.35</td>\n      <td>567044900</td>\n      <td>5.05</td>\n      <td>3.028840e+12</td>\n      <td>-1.288441e+10</td>\n      <td>...</td>\n      <td>25.96</td>\n      <td>2543300</td>\n      <td>567.57</td>\n      <td>-0.0015</td>\n      <td>0.30</td>\n      <td>1108556.4</td>\n      <td>106.7357</td>\n      <td>2981.48</td>\n      <td>2.9</td>\n      <td>87.2</td>\n    </tr>\n    <tr>\n      <th>2020-08-31</th>\n      <td>2.34</td>\n      <td>513.59</td>\n      <td>1021.91</td>\n      <td>20.3</td>\n      <td>1.28</td>\n      <td>17.90</td>\n      <td>609797100</td>\n      <td>5.03</td>\n      <td>3.028970e+12</td>\n      <td>-1.414199e+10</td>\n      <td>...</td>\n      <td>22.99</td>\n      <td>256500</td>\n      <td>52.56</td>\n      <td>-0.0015</td>\n      <td>0.20</td>\n      <td>1118419.7</td>\n      <td>106.0465</td>\n      <td>3037.23</td>\n      <td>3.0</td>\n      <td>88.1</td>\n    </tr>\n    <tr>\n      <th>2020-09-30</th>\n      <td>2.33</td>\n      <td>516.88</td>\n      <td>1030.48</td>\n      <td>20.4</td>\n      <td>1.28</td>\n      <td>17.92</td>\n      <td>613872400</td>\n      <td>4.68</td>\n      <td>3.070080e+12</td>\n      <td>-3.557344e+10</td>\n      <td>...</td>\n      <td>23.70</td>\n      <td>1854700</td>\n      <td>886.94</td>\n      <td>-0.0015</td>\n      <td>0.10</td>\n      <td>1125114.4</td>\n      <td>105.6116</td>\n      <td>3059.70</td>\n      <td>3.0</td>\n      <td>91.5</td>\n    </tr>\n  </tbody>\n</table>\n<p>370 rows × 21 columns</p>\n</div>"
     },
     "execution_count": 1956,
     "metadata": {},
     "output_type": "execute_result"
    }
   ],
   "source": [
    "monthlyIndex = df_maniplualtion('data/Monthly.csv')\n",
    "monthlyIndex"
   ],
   "metadata": {
    "collapsed": false
   }
  },
  {
   "cell_type": "markdown",
   "source": [
    "Change variable"
   ],
   "metadata": {
    "collapsed": false
   }
  },
  {
   "cell_type": "code",
   "execution_count": 1957,
   "outputs": [
    {
     "data": {
      "text/plain": "            JAPAN-DS Market - DIVIDEND YIELD  JAPAN-DS Market - PRICE INDEX  \\\nDate                                                                          \n1989-11-30                              0.44                         755.76   \n1989-12-29                              0.43                         768.21   \n1990-01-31                              0.45                         730.66   \n1990-02-28                              0.49                         681.56   \n1990-03-30                              0.56                         593.94   \n...                                      ...                            ...   \n2020-05-29                              2.47                         496.02   \n2020-06-30                              2.48                         495.02   \n2020-07-31                              2.54                         476.77   \n2020-08-31                              2.34                         513.59   \n2020-09-30                              2.33                         516.88   \n\n            JAPAN-DS Market - TOT RETURN IND  JAPAN-DS Market - MARKET VALUE  \\\nDate                                                                           \n1989-11-30                            990.66                       525260000   \n1989-12-29                           1007.32                       535950600   \n1990-01-31                            958.47                       513422800   \n1990-02-28                            894.37                       479338500   \n1990-03-30                            779.75                       418150400   \n...                                      ...                             ...   \n2020-05-29                            980.89                       588487400   \n2020-06-30                            980.94                       586178800   \n2020-07-31                            946.83                       567044900   \n2020-08-31                           1021.91                       609797100   \n2020-09-30                           1030.48                       613872400   \n\n            US REFINERS ACQUISITION COST OF DOM. & IMPORTED CRUDE OIL CURN  \\\nDate                                                                         \n1989-11-30                                              18.39                \n1989-12-29                                              19.54                \n1990-01-31                                              20.64                \n1990-02-28                                              20.31                \n1990-03-30                                              19.14                \n...                                                       ...                \n2020-05-29                                              23.84                \n2020-06-30                                              36.80                \n2020-07-31                                              40.07                \n2020-08-31                                              42.41                \n2020-09-30                                              39.83                \n\n            WD CRUDE OIL PRODUCTION - WORLD VOLN  \\\nDate                                               \n1989-11-30                             53478.675   \n1989-12-29                             53091.781   \n1990-01-31                             52775.965   \n1990-02-28                             52968.492   \n1990-03-30                             53715.599   \n...                                          ...   \n2020-05-29                             71450.412   \n2020-06-30                             70323.206   \n2020-07-31                             71584.837   \n2020-08-31                             72715.275   \n2020-09-30                             72588.907   \n\n            JP INDUSTRIAL PRODUCTION - MINING & MANUFACTURING VOLA  \\\nDate                                                                 \n1989-11-30                                              104.0        \n1989-12-29                                              104.4        \n1990-01-31                                              103.5        \n1990-02-28                                              104.4        \n1990-03-30                                              106.4        \n...                                                       ...        \n2020-05-29                                               78.7        \n2020-06-30                                               80.2        \n2020-07-31                                               87.2        \n2020-08-31                                               88.1        \n2020-09-30                                               91.5        \n\n            NIKKEI STOCK AVERAGE VOLATILITY INDEX - PRICE INDEX  \\\nDate                                                              \n1989-11-30                                               8.68     \n1989-12-29                                              20.32     \n1990-01-31                                              17.56     \n1990-02-28                                              15.92     \n1990-03-30                                              28.07     \n...                                                       ...     \n2020-05-29                                              27.60     \n2020-06-30                                              29.12     \n2020-07-31                                              25.96     \n2020-08-31                                              22.99     \n2020-09-30                                              23.70     \n\n            JP UNEMPLOYMENT RATE (METHO BREAK OCT 2010) SADJ  \\\nDate                                                           \n1989-11-30                                               2.2   \n1989-12-29                                               2.1   \n1990-01-31                                               2.2   \n1990-02-28                                               2.2   \n1990-03-30                                               2.0   \n...                                                      ...   \n2020-05-29                                               2.9   \n2020-06-30                                               2.8   \n2020-07-31                                               2.9   \n2020-08-31                                               3.0   \n2020-09-30                                               3.0   \n\n            JP MONEY SUPPLY: M2 (METHO-BREAK, APR. 2003) CURA  \\\nDate                                                            \n1989-11-30                                           449496.1   \n1989-12-29                                           455632.2   \n1990-01-31                                           461555.6   \n1990-02-28                                           469357.7   \n1990-03-30                                           471653.1   \n...                                                       ...   \n2020-05-29                                          1077196.9   \n2020-06-30                                          1099866.6   \n2020-07-31                                          1108556.4   \n2020-08-31                                          1118419.7   \n2020-09-30                                          1125114.4   \n\n            JP PETROLEUM: CONSUMPTION VOLN  \nDate                                        \n1989-11-30                         5396.87  \n1989-12-29                         6252.45  \n1990-01-31                         5702.94  \n1990-02-28                         6045.61  \n1990-03-30                         5666.58  \n...                                    ...  \n2020-05-29                         2728.10  \n2020-06-30                         2860.43  \n2020-07-31                         2981.48  \n2020-08-31                         3037.23  \n2020-09-30                         3059.70  \n\n[371 rows x 11 columns]",
      "text/html": "<div>\n<style scoped>\n    .dataframe tbody tr th:only-of-type {\n        vertical-align: middle;\n    }\n\n    .dataframe tbody tr th {\n        vertical-align: top;\n    }\n\n    .dataframe thead th {\n        text-align: right;\n    }\n</style>\n<table border=\"1\" class=\"dataframe\">\n  <thead>\n    <tr style=\"text-align: right;\">\n      <th></th>\n      <th>JAPAN-DS Market - DIVIDEND YIELD</th>\n      <th>JAPAN-DS Market - PRICE INDEX</th>\n      <th>JAPAN-DS Market - TOT RETURN IND</th>\n      <th>JAPAN-DS Market - MARKET VALUE</th>\n      <th>US REFINERS ACQUISITION COST OF DOM. &amp; IMPORTED CRUDE OIL CURN</th>\n      <th>WD CRUDE OIL PRODUCTION - WORLD VOLN</th>\n      <th>JP INDUSTRIAL PRODUCTION - MINING &amp; MANUFACTURING VOLA</th>\n      <th>NIKKEI STOCK AVERAGE VOLATILITY INDEX - PRICE INDEX</th>\n      <th>JP UNEMPLOYMENT RATE (METHO BREAK OCT 2010) SADJ</th>\n      <th>JP MONEY SUPPLY: M2 (METHO-BREAK, APR. 2003) CURA</th>\n      <th>JP PETROLEUM: CONSUMPTION VOLN</th>\n    </tr>\n    <tr>\n      <th>Date</th>\n      <th></th>\n      <th></th>\n      <th></th>\n      <th></th>\n      <th></th>\n      <th></th>\n      <th></th>\n      <th></th>\n      <th></th>\n      <th></th>\n      <th></th>\n    </tr>\n  </thead>\n  <tbody>\n    <tr>\n      <th>1989-11-30</th>\n      <td>0.44</td>\n      <td>755.76</td>\n      <td>990.66</td>\n      <td>525260000</td>\n      <td>18.39</td>\n      <td>53478.675</td>\n      <td>104.0</td>\n      <td>8.68</td>\n      <td>2.2</td>\n      <td>449496.1</td>\n      <td>5396.87</td>\n    </tr>\n    <tr>\n      <th>1989-12-29</th>\n      <td>0.43</td>\n      <td>768.21</td>\n      <td>1007.32</td>\n      <td>535950600</td>\n      <td>19.54</td>\n      <td>53091.781</td>\n      <td>104.4</td>\n      <td>20.32</td>\n      <td>2.1</td>\n      <td>455632.2</td>\n      <td>6252.45</td>\n    </tr>\n    <tr>\n      <th>1990-01-31</th>\n      <td>0.45</td>\n      <td>730.66</td>\n      <td>958.47</td>\n      <td>513422800</td>\n      <td>20.64</td>\n      <td>52775.965</td>\n      <td>103.5</td>\n      <td>17.56</td>\n      <td>2.2</td>\n      <td>461555.6</td>\n      <td>5702.94</td>\n    </tr>\n    <tr>\n      <th>1990-02-28</th>\n      <td>0.49</td>\n      <td>681.56</td>\n      <td>894.37</td>\n      <td>479338500</td>\n      <td>20.31</td>\n      <td>52968.492</td>\n      <td>104.4</td>\n      <td>15.92</td>\n      <td>2.2</td>\n      <td>469357.7</td>\n      <td>6045.61</td>\n    </tr>\n    <tr>\n      <th>1990-03-30</th>\n      <td>0.56</td>\n      <td>593.94</td>\n      <td>779.75</td>\n      <td>418150400</td>\n      <td>19.14</td>\n      <td>53715.599</td>\n      <td>106.4</td>\n      <td>28.07</td>\n      <td>2.0</td>\n      <td>471653.1</td>\n      <td>5666.58</td>\n    </tr>\n    <tr>\n      <th>...</th>\n      <td>...</td>\n      <td>...</td>\n      <td>...</td>\n      <td>...</td>\n      <td>...</td>\n      <td>...</td>\n      <td>...</td>\n      <td>...</td>\n      <td>...</td>\n      <td>...</td>\n      <td>...</td>\n    </tr>\n    <tr>\n      <th>2020-05-29</th>\n      <td>2.47</td>\n      <td>496.02</td>\n      <td>980.89</td>\n      <td>588487400</td>\n      <td>23.84</td>\n      <td>71450.412</td>\n      <td>78.7</td>\n      <td>27.60</td>\n      <td>2.9</td>\n      <td>1077196.9</td>\n      <td>2728.10</td>\n    </tr>\n    <tr>\n      <th>2020-06-30</th>\n      <td>2.48</td>\n      <td>495.02</td>\n      <td>980.94</td>\n      <td>586178800</td>\n      <td>36.80</td>\n      <td>70323.206</td>\n      <td>80.2</td>\n      <td>29.12</td>\n      <td>2.8</td>\n      <td>1099866.6</td>\n      <td>2860.43</td>\n    </tr>\n    <tr>\n      <th>2020-07-31</th>\n      <td>2.54</td>\n      <td>476.77</td>\n      <td>946.83</td>\n      <td>567044900</td>\n      <td>40.07</td>\n      <td>71584.837</td>\n      <td>87.2</td>\n      <td>25.96</td>\n      <td>2.9</td>\n      <td>1108556.4</td>\n      <td>2981.48</td>\n    </tr>\n    <tr>\n      <th>2020-08-31</th>\n      <td>2.34</td>\n      <td>513.59</td>\n      <td>1021.91</td>\n      <td>609797100</td>\n      <td>42.41</td>\n      <td>72715.275</td>\n      <td>88.1</td>\n      <td>22.99</td>\n      <td>3.0</td>\n      <td>1118419.7</td>\n      <td>3037.23</td>\n    </tr>\n    <tr>\n      <th>2020-09-30</th>\n      <td>2.33</td>\n      <td>516.88</td>\n      <td>1030.48</td>\n      <td>613872400</td>\n      <td>39.83</td>\n      <td>72588.907</td>\n      <td>91.5</td>\n      <td>23.70</td>\n      <td>3.0</td>\n      <td>1125114.4</td>\n      <td>3059.70</td>\n    </tr>\n  </tbody>\n</table>\n<p>371 rows × 11 columns</p>\n</div>"
     },
     "execution_count": 1957,
     "metadata": {},
     "output_type": "execute_result"
    }
   ],
   "source": [
    "changeVariables = df_maniplualtion('data/changeVariable.csv')\n",
    "changeVariables"
   ],
   "metadata": {
    "collapsed": false
   }
  },
  {
   "cell_type": "markdown",
   "source": [
    "Smoothed 10 years earnings to price ratio"
   ],
   "metadata": {
    "collapsed": false
   }
  },
  {
   "cell_type": "code",
   "execution_count": 1958,
   "outputs": [
    {
     "data": {
      "text/plain": "            JAPAN-DS Market - PER  JAPAN-DS Market - PRICE INDEX  \\\nDate                                                               \n1979-12-31                   20.2                         118.31   \n1980-01-31                   20.5                         120.37   \n1980-02-29                   20.4                         120.00   \n1980-03-31                   19.6                         116.55   \n1980-04-30                   19.9                         120.00   \n...                           ...                            ...   \n2020-05-29                   16.8                         496.02   \n2020-06-30                   16.9                         495.02   \n2020-07-31                   17.1                         476.77   \n2020-08-31                   20.3                         513.59   \n2020-09-30                   20.4                         516.88   \n\n            JAPAN-DS Market - TOT RETURN IND  JAPAN-DS Market - DIVIDEND YIELD  \nDate                                                                            \n1979-12-31                            138.41                              1.89  \n1980-01-31                            141.06                              1.85  \n1980-02-29                            140.83                              1.82  \n1980-03-31                            136.99                              1.90  \n1980-04-30                            141.28                              1.86  \n...                                      ...                               ...  \n2020-05-29                            980.89                              2.47  \n2020-06-30                            980.94                              2.48  \n2020-07-31                            946.83                              2.54  \n2020-08-31                           1021.91                              2.34  \n2020-09-30                           1030.48                              2.33  \n\n[490 rows x 4 columns]",
      "text/html": "<div>\n<style scoped>\n    .dataframe tbody tr th:only-of-type {\n        vertical-align: middle;\n    }\n\n    .dataframe tbody tr th {\n        vertical-align: top;\n    }\n\n    .dataframe thead th {\n        text-align: right;\n    }\n</style>\n<table border=\"1\" class=\"dataframe\">\n  <thead>\n    <tr style=\"text-align: right;\">\n      <th></th>\n      <th>JAPAN-DS Market - PER</th>\n      <th>JAPAN-DS Market - PRICE INDEX</th>\n      <th>JAPAN-DS Market - TOT RETURN IND</th>\n      <th>JAPAN-DS Market - DIVIDEND YIELD</th>\n    </tr>\n    <tr>\n      <th>Date</th>\n      <th></th>\n      <th></th>\n      <th></th>\n      <th></th>\n    </tr>\n  </thead>\n  <tbody>\n    <tr>\n      <th>1979-12-31</th>\n      <td>20.2</td>\n      <td>118.31</td>\n      <td>138.41</td>\n      <td>1.89</td>\n    </tr>\n    <tr>\n      <th>1980-01-31</th>\n      <td>20.5</td>\n      <td>120.37</td>\n      <td>141.06</td>\n      <td>1.85</td>\n    </tr>\n    <tr>\n      <th>1980-02-29</th>\n      <td>20.4</td>\n      <td>120.00</td>\n      <td>140.83</td>\n      <td>1.82</td>\n    </tr>\n    <tr>\n      <th>1980-03-31</th>\n      <td>19.6</td>\n      <td>116.55</td>\n      <td>136.99</td>\n      <td>1.90</td>\n    </tr>\n    <tr>\n      <th>1980-04-30</th>\n      <td>19.9</td>\n      <td>120.00</td>\n      <td>141.28</td>\n      <td>1.86</td>\n    </tr>\n    <tr>\n      <th>...</th>\n      <td>...</td>\n      <td>...</td>\n      <td>...</td>\n      <td>...</td>\n    </tr>\n    <tr>\n      <th>2020-05-29</th>\n      <td>16.8</td>\n      <td>496.02</td>\n      <td>980.89</td>\n      <td>2.47</td>\n    </tr>\n    <tr>\n      <th>2020-06-30</th>\n      <td>16.9</td>\n      <td>495.02</td>\n      <td>980.94</td>\n      <td>2.48</td>\n    </tr>\n    <tr>\n      <th>2020-07-31</th>\n      <td>17.1</td>\n      <td>476.77</td>\n      <td>946.83</td>\n      <td>2.54</td>\n    </tr>\n    <tr>\n      <th>2020-08-31</th>\n      <td>20.3</td>\n      <td>513.59</td>\n      <td>1021.91</td>\n      <td>2.34</td>\n    </tr>\n    <tr>\n      <th>2020-09-30</th>\n      <td>20.4</td>\n      <td>516.88</td>\n      <td>1030.48</td>\n      <td>2.33</td>\n    </tr>\n  </tbody>\n</table>\n<p>490 rows × 4 columns</p>\n</div>"
     },
     "execution_count": 1958,
     "metadata": {},
     "output_type": "execute_result"
    }
   ],
   "source": [
    "smoothedEP = df_maniplualtion('data/smoothedPE.csv')\n",
    "smoothedEP"
   ],
   "metadata": {
    "collapsed": false
   }
  },
  {
   "cell_type": "markdown",
   "source": [
    "Variance data frame"
   ],
   "metadata": {
    "collapsed": false
   }
  },
  {
   "cell_type": "code",
   "execution_count": 1959,
   "outputs": [
    {
     "data": {
      "text/plain": "               var\nDate              \n1989-11-30  755.76\n1989-12-01  752.46\n1989-12-04  756.28\n1989-12-05  759.63\n1989-12-06  764.02\n...            ...\n2020-09-24  515.01\n2020-09-25  517.64\n2020-09-28  525.94\n2020-09-29  525.63\n2020-09-30  516.88\n\n[8045 rows x 1 columns]",
      "text/html": "<div>\n<style scoped>\n    .dataframe tbody tr th:only-of-type {\n        vertical-align: middle;\n    }\n\n    .dataframe tbody tr th {\n        vertical-align: top;\n    }\n\n    .dataframe thead th {\n        text-align: right;\n    }\n</style>\n<table border=\"1\" class=\"dataframe\">\n  <thead>\n    <tr style=\"text-align: right;\">\n      <th></th>\n      <th>var</th>\n    </tr>\n    <tr>\n      <th>Date</th>\n      <th></th>\n    </tr>\n  </thead>\n  <tbody>\n    <tr>\n      <th>1989-11-30</th>\n      <td>755.76</td>\n    </tr>\n    <tr>\n      <th>1989-12-01</th>\n      <td>752.46</td>\n    </tr>\n    <tr>\n      <th>1989-12-04</th>\n      <td>756.28</td>\n    </tr>\n    <tr>\n      <th>1989-12-05</th>\n      <td>759.63</td>\n    </tr>\n    <tr>\n      <th>1989-12-06</th>\n      <td>764.02</td>\n    </tr>\n    <tr>\n      <th>...</th>\n      <td>...</td>\n    </tr>\n    <tr>\n      <th>2020-09-24</th>\n      <td>515.01</td>\n    </tr>\n    <tr>\n      <th>2020-09-25</th>\n      <td>517.64</td>\n    </tr>\n    <tr>\n      <th>2020-09-28</th>\n      <td>525.94</td>\n    </tr>\n    <tr>\n      <th>2020-09-29</th>\n      <td>525.63</td>\n    </tr>\n    <tr>\n      <th>2020-09-30</th>\n      <td>516.88</td>\n    </tr>\n  </tbody>\n</table>\n<p>8045 rows × 1 columns</p>\n</div>"
     },
     "execution_count": 1959,
     "metadata": {},
     "output_type": "execute_result"
    }
   ],
   "source": [
    "stockVariance = df_maniplualtion('data/stockVar.csv')\n",
    "stockVariance = stockVariance.rename(columns={\"JAPAN-DS Market - PRICE INDEX\": \"var\"})\n",
    "stockVariance"
   ],
   "metadata": {
    "collapsed": false
   }
  },
  {
   "cell_type": "markdown",
   "source": [
    "Net equity expansion"
   ],
   "metadata": {
    "collapsed": false
   }
  },
  {
   "cell_type": "code",
   "execution_count": 1960,
   "outputs": [
    {
     "data": {
      "text/plain": "            JAPAN-DS Market - MARKET VALUE  JAPAN-DS Market - PRICE INDEX\nDate                                                                     \n1988-10-30                       388626200                         585.76\n1988-11-30                       416910600                         626.23\n1988-12-30                       431281700                         645.93\n1989-01-30                       452533200                         673.61\n1989-02-28                       448808700                         665.72\n...                                    ...                            ...\n2020-05-30                       588487400                         496.02\n2020-06-30                       586178800                         495.02\n2020-07-30                       582071600                         489.43\n2020-08-30                       606329300                         509.77\n2020-09-30                       613872400                         516.88\n\n[384 rows x 2 columns]",
      "text/html": "<div>\n<style scoped>\n    .dataframe tbody tr th:only-of-type {\n        vertical-align: middle;\n    }\n\n    .dataframe tbody tr th {\n        vertical-align: top;\n    }\n\n    .dataframe thead th {\n        text-align: right;\n    }\n</style>\n<table border=\"1\" class=\"dataframe\">\n  <thead>\n    <tr style=\"text-align: right;\">\n      <th></th>\n      <th>JAPAN-DS Market - MARKET VALUE</th>\n      <th>JAPAN-DS Market - PRICE INDEX</th>\n    </tr>\n    <tr>\n      <th>Date</th>\n      <th></th>\n      <th></th>\n    </tr>\n  </thead>\n  <tbody>\n    <tr>\n      <th>1988-10-30</th>\n      <td>388626200</td>\n      <td>585.76</td>\n    </tr>\n    <tr>\n      <th>1988-11-30</th>\n      <td>416910600</td>\n      <td>626.23</td>\n    </tr>\n    <tr>\n      <th>1988-12-30</th>\n      <td>431281700</td>\n      <td>645.93</td>\n    </tr>\n    <tr>\n      <th>1989-01-30</th>\n      <td>452533200</td>\n      <td>673.61</td>\n    </tr>\n    <tr>\n      <th>1989-02-28</th>\n      <td>448808700</td>\n      <td>665.72</td>\n    </tr>\n    <tr>\n      <th>...</th>\n      <td>...</td>\n      <td>...</td>\n    </tr>\n    <tr>\n      <th>2020-05-30</th>\n      <td>588487400</td>\n      <td>496.02</td>\n    </tr>\n    <tr>\n      <th>2020-06-30</th>\n      <td>586178800</td>\n      <td>495.02</td>\n    </tr>\n    <tr>\n      <th>2020-07-30</th>\n      <td>582071600</td>\n      <td>489.43</td>\n    </tr>\n    <tr>\n      <th>2020-08-30</th>\n      <td>606329300</td>\n      <td>509.77</td>\n    </tr>\n    <tr>\n      <th>2020-09-30</th>\n      <td>613872400</td>\n      <td>516.88</td>\n    </tr>\n  </tbody>\n</table>\n<p>384 rows × 2 columns</p>\n</div>"
     },
     "execution_count": 1960,
     "metadata": {},
     "output_type": "execute_result"
    }
   ],
   "source": [
    "netIssue = df_maniplualtion('data/netEquExp.csv')\n",
    "netIssue"
   ],
   "metadata": {
    "collapsed": false
   }
  },
  {
   "cell_type": "code",
   "execution_count": 1961,
   "outputs": [
    {
     "data": {
      "text/plain": "                   0\nDate                \n1989-12-31       NaN\n1990-01-31 -0.053979\n1990-02-28 -0.072413\n1990-03-30 -0.133838\n1990-04-30 -0.009432\n...              ...\n2020-05-29  0.071111\n2020-06-30  0.000052\n2020-07-31 -0.034772\n2020-08-31  0.079297\n2020-09-30  0.008388\n\n[370 rows x 1 columns]",
      "text/html": "<div>\n<style scoped>\n    .dataframe tbody tr th:only-of-type {\n        vertical-align: middle;\n    }\n\n    .dataframe tbody tr th {\n        vertical-align: top;\n    }\n\n    .dataframe thead th {\n        text-align: right;\n    }\n</style>\n<table border=\"1\" class=\"dataframe\">\n  <thead>\n    <tr style=\"text-align: right;\">\n      <th></th>\n      <th>0</th>\n    </tr>\n    <tr>\n      <th>Date</th>\n      <th></th>\n    </tr>\n  </thead>\n  <tbody>\n    <tr>\n      <th>1989-12-31</th>\n      <td>NaN</td>\n    </tr>\n    <tr>\n      <th>1990-01-31</th>\n      <td>-0.053979</td>\n    </tr>\n    <tr>\n      <th>1990-02-28</th>\n      <td>-0.072413</td>\n    </tr>\n    <tr>\n      <th>1990-03-30</th>\n      <td>-0.133838</td>\n    </tr>\n    <tr>\n      <th>1990-04-30</th>\n      <td>-0.009432</td>\n    </tr>\n    <tr>\n      <th>...</th>\n      <td>...</td>\n    </tr>\n    <tr>\n      <th>2020-05-29</th>\n      <td>0.071111</td>\n    </tr>\n    <tr>\n      <th>2020-06-30</th>\n      <td>0.000052</td>\n    </tr>\n    <tr>\n      <th>2020-07-31</th>\n      <td>-0.034772</td>\n    </tr>\n    <tr>\n      <th>2020-08-31</th>\n      <td>0.079297</td>\n    </tr>\n    <tr>\n      <th>2020-09-30</th>\n      <td>0.008388</td>\n    </tr>\n  </tbody>\n</table>\n<p>370 rows × 1 columns</p>\n</div>"
     },
     "execution_count": 1961,
     "metadata": {},
     "output_type": "execute_result"
    }
   ],
   "source": [
    "notCompVwretd = pd.DataFrame(dependentVariable[\"JAPAN-DS Market - TOT RETURN IND\"].pct_change(1) - ((dependentVariable[\"JP OVERNIGHT UNCOLLATERISED CALL MONEY RATE (AVG.) NADJ\"]/100)/12))\n",
    "notCompVwretd"
   ],
   "metadata": {
    "collapsed": false
   }
  },
  {
   "cell_type": "markdown",
   "source": [
    "Excess market return following Li et al (2013) for regression: log(1+ret%) - log (1+tbill%)"
   ],
   "metadata": {
    "collapsed": false
   }
  },
  {
   "cell_type": "code",
   "execution_count": 1962,
   "outputs": [
    {
     "name": "stderr",
     "output_type": "stream",
     "text": [
      "/Users/jessekeranen/PycharmProjects/pythonProject/venv/lib/python3.9/site-packages/pandas/core/arraylike.py:402: RuntimeWarning: invalid value encountered in log\n",
      "  result = getattr(ufunc, method)(*inputs, **kwargs)\n"
     ]
    },
    {
     "data": {
      "text/plain": "            totalReturnChange\nDate                         \n1990-01-31          -0.055180\n1990-02-28          -0.074739\n1990-03-30          -0.142811\n1990-04-30          -0.009420\n1990-05-31           0.087576\n...                       ...\n2020-05-29           0.068696\n2020-06-30           0.000052\n2020-07-31          -0.035390\n2020-08-31           0.076310\n2020-09-30           0.008353\n\n[369 rows x 1 columns]",
      "text/html": "<div>\n<style scoped>\n    .dataframe tbody tr th:only-of-type {\n        vertical-align: middle;\n    }\n\n    .dataframe tbody tr th {\n        vertical-align: top;\n    }\n\n    .dataframe thead th {\n        text-align: right;\n    }\n</style>\n<table border=\"1\" class=\"dataframe\">\n  <thead>\n    <tr style=\"text-align: right;\">\n      <th></th>\n      <th>totalReturnChange</th>\n    </tr>\n    <tr>\n      <th>Date</th>\n      <th></th>\n    </tr>\n  </thead>\n  <tbody>\n    <tr>\n      <th>1990-01-31</th>\n      <td>-0.055180</td>\n    </tr>\n    <tr>\n      <th>1990-02-28</th>\n      <td>-0.074739</td>\n    </tr>\n    <tr>\n      <th>1990-03-30</th>\n      <td>-0.142811</td>\n    </tr>\n    <tr>\n      <th>1990-04-30</th>\n      <td>-0.009420</td>\n    </tr>\n    <tr>\n      <th>1990-05-31</th>\n      <td>0.087576</td>\n    </tr>\n    <tr>\n      <th>...</th>\n      <td>...</td>\n    </tr>\n    <tr>\n      <th>2020-05-29</th>\n      <td>0.068696</td>\n    </tr>\n    <tr>\n      <th>2020-06-30</th>\n      <td>0.000052</td>\n    </tr>\n    <tr>\n      <th>2020-07-31</th>\n      <td>-0.035390</td>\n    </tr>\n    <tr>\n      <th>2020-08-31</th>\n      <td>0.076310</td>\n    </tr>\n    <tr>\n      <th>2020-09-30</th>\n      <td>0.008353</td>\n    </tr>\n  </tbody>\n</table>\n<p>369 rows × 1 columns</p>\n</div>"
     },
     "execution_count": 1962,
     "metadata": {},
     "output_type": "execute_result"
    }
   ],
   "source": [
    "dependentVariable[\"JAPAN-DS Market - TOT RETURN IND\"] = np.log(dependentVariable[\"JAPAN-DS Market - TOT RETURN IND\"]/dependentVariable[\"JAPAN-DS Market - TOT RETURN IND\"].shift(1))\n",
    "\n",
    "dependentVariable[\"JP OVERNIGHT UNCOLLATERISED CALL MONEY RATE (AVG.) NADJ\"] = np.log(1+(dependentVariable[\"JP OVERNIGHT UNCOLLATERISED CALL MONEY RATE (AVG.) NADJ\"]/100)/12)\n",
    "\n",
    "dependentVariable[\"JAPAN-DS Market - TOT RETURN IND\"] -= dependentVariable[\"JP OVERNIGHT UNCOLLATERISED CALL MONEY RATE (AVG.) NADJ\"]\n",
    "\n",
    "dependentVariable = dependentVariable.drop(columns=[\"JP OVERNIGHT UNCOLLATERISED CALL MONEY RATE (AVG.) NADJ\"])\n",
    "dependentVariable = dependentVariable.rename(columns={\"JAPAN-DS Market - TOT RETURN IND\": \"totalReturnChange\"})\n",
    "dependentVariable = dependentVariable.dropna()\n",
    "dependentVariable"
   ],
   "metadata": {
    "collapsed": false
   }
  },
  {
   "cell_type": "markdown",
   "source": [
    "Help variables for valuation ratios"
   ],
   "metadata": {
    "collapsed": false
   }
  },
  {
   "cell_type": "code",
   "execution_count": 1963,
   "outputs": [],
   "source": [
    "dividends = monthlyIndex[\"JAPAN-DS Market - PRICE INDEX\"]/monthlyIndex[\"JAPAN-DS Market - TOT RETURN IND\"]\n",
    "price = dividends/monthlyIndex[\"JAPAN-DS Market - DIVIDEND YIELD\"]*100\n",
    "earnings = price/monthlyIndex[\"JAPAN-DS Market - PER\"]\n",
    "dividendPriceRatio = pd.DataFrame(monthlyIndex[\"JAPAN-DS Market - DIVIDEND YIELD\"]/100)\n",
    "bookToMarketRatio = 1/pd.DataFrame(monthlyIndex[\"JAPAN-DS Market - PRICE/BOOK RATIO\"])\n",
    "earningsToPriceRatio = 1/pd.DataFrame(monthlyIndex[\"JAPAN-DS Market - PER\"])"
   ],
   "metadata": {
    "collapsed": false
   }
  },
  {
   "cell_type": "markdown",
   "source": [
    "Volatility and variance variables"
   ],
   "metadata": {
    "collapsed": false
   }
  },
  {
   "cell_type": "code",
   "execution_count": 1964,
   "outputs": [
    {
     "name": "stderr",
     "output_type": "stream",
     "text": [
      "/Users/jessekeranen/PycharmProjects/pythonProject/venv/lib/python3.9/site-packages/pandas/core/arraylike.py:402: RuntimeWarning: invalid value encountered in log\n",
      "  result = getattr(ufunc, method)(*inputs, **kwargs)\n"
     ]
    }
   ],
   "source": [
    "volatilityIndex = pd.DataFrame(np.log(1 + changeVariables[\"NIKKEI STOCK AVERAGE VOLATILITY INDEX - PRICE INDEX\"].diff() / changeVariables[\"NIKKEI STOCK AVERAGE VOLATILITY INDEX - PRICE INDEX\"].shift(1)))\n",
    "\n",
    "volatilityIndex = volatilityIndex.dropna()"
   ],
   "metadata": {
    "collapsed": false
   }
  },
  {
   "cell_type": "code",
   "execution_count": 1965,
   "outputs": [
    {
     "data": {
      "text/plain": "                 var\nDate                \n1989-12-01 -0.004366\n1989-12-04  0.005077\n1989-12-05  0.004430\n1989-12-06  0.005779\n1989-12-07  0.005091\n...              ...\n2020-09-24 -0.010433\n2020-09-25  0.005107\n2020-09-28  0.016034\n2020-09-29 -0.000589\n2020-09-30 -0.016647\n\n[8044 rows x 1 columns]",
      "text/html": "<div>\n<style scoped>\n    .dataframe tbody tr th:only-of-type {\n        vertical-align: middle;\n    }\n\n    .dataframe tbody tr th {\n        vertical-align: top;\n    }\n\n    .dataframe thead th {\n        text-align: right;\n    }\n</style>\n<table border=\"1\" class=\"dataframe\">\n  <thead>\n    <tr style=\"text-align: right;\">\n      <th></th>\n      <th>var</th>\n    </tr>\n    <tr>\n      <th>Date</th>\n      <th></th>\n    </tr>\n  </thead>\n  <tbody>\n    <tr>\n      <th>1989-12-01</th>\n      <td>-0.004366</td>\n    </tr>\n    <tr>\n      <th>1989-12-04</th>\n      <td>0.005077</td>\n    </tr>\n    <tr>\n      <th>1989-12-05</th>\n      <td>0.004430</td>\n    </tr>\n    <tr>\n      <th>1989-12-06</th>\n      <td>0.005779</td>\n    </tr>\n    <tr>\n      <th>1989-12-07</th>\n      <td>0.005091</td>\n    </tr>\n    <tr>\n      <th>...</th>\n      <td>...</td>\n    </tr>\n    <tr>\n      <th>2020-09-24</th>\n      <td>-0.010433</td>\n    </tr>\n    <tr>\n      <th>2020-09-25</th>\n      <td>0.005107</td>\n    </tr>\n    <tr>\n      <th>2020-09-28</th>\n      <td>0.016034</td>\n    </tr>\n    <tr>\n      <th>2020-09-29</th>\n      <td>-0.000589</td>\n    </tr>\n    <tr>\n      <th>2020-09-30</th>\n      <td>-0.016647</td>\n    </tr>\n  </tbody>\n</table>\n<p>8044 rows × 1 columns</p>\n</div>"
     },
     "execution_count": 1965,
     "metadata": {},
     "output_type": "execute_result"
    }
   ],
   "source": [
    "stockVariance = pd.DataFrame((stockVariance[\"var\"].diff() / stockVariance[\"var\"].shift(1)).dropna())\n",
    "stockVariance"
   ],
   "metadata": {
    "collapsed": false
   }
  },
  {
   "cell_type": "markdown",
   "source": [
    "Here my results differ a bit from Conway's results. Maybe we can discuss this next time we meet."
   ],
   "metadata": {
    "collapsed": false
   }
  },
  {
   "cell_type": "code",
   "execution_count": 1966,
   "outputs": [
    {
     "data": {
      "text/plain": "                 var\nDate                \n1989-12-29  0.000042\n1990-01-31  0.000051\n1990-02-28  0.000103\n1990-03-30  0.000172\n1990-04-30  0.000234\n...              ...\n2020-05-29  0.000161\n2020-06-30  0.000161\n2020-07-31  0.000161\n2020-08-31  0.000161\n2020-09-30  0.000161\n\n[370 rows x 1 columns]",
      "text/html": "<div>\n<style scoped>\n    .dataframe tbody tr th:only-of-type {\n        vertical-align: middle;\n    }\n\n    .dataframe tbody tr th {\n        vertical-align: top;\n    }\n\n    .dataframe thead th {\n        text-align: right;\n    }\n</style>\n<table border=\"1\" class=\"dataframe\">\n  <thead>\n    <tr style=\"text-align: right;\">\n      <th></th>\n      <th>var</th>\n    </tr>\n    <tr>\n      <th>Date</th>\n      <th></th>\n    </tr>\n  </thead>\n  <tbody>\n    <tr>\n      <th>1989-12-29</th>\n      <td>0.000042</td>\n    </tr>\n    <tr>\n      <th>1990-01-31</th>\n      <td>0.000051</td>\n    </tr>\n    <tr>\n      <th>1990-02-28</th>\n      <td>0.000103</td>\n    </tr>\n    <tr>\n      <th>1990-03-30</th>\n      <td>0.000172</td>\n    </tr>\n    <tr>\n      <th>1990-04-30</th>\n      <td>0.000234</td>\n    </tr>\n    <tr>\n      <th>...</th>\n      <td>...</td>\n    </tr>\n    <tr>\n      <th>2020-05-29</th>\n      <td>0.000161</td>\n    </tr>\n    <tr>\n      <th>2020-06-30</th>\n      <td>0.000161</td>\n    </tr>\n    <tr>\n      <th>2020-07-31</th>\n      <td>0.000161</td>\n    </tr>\n    <tr>\n      <th>2020-08-31</th>\n      <td>0.000161</td>\n    </tr>\n    <tr>\n      <th>2020-09-30</th>\n      <td>0.000161</td>\n    </tr>\n  </tbody>\n</table>\n<p>370 rows × 1 columns</p>\n</div>"
     },
     "execution_count": 1966,
     "metadata": {},
     "output_type": "execute_result"
    }
   ],
   "source": [
    "stockVariance = stockVariance.rolling(8044, min_periods=2).var()\n",
    "stockVariance = stockVariance.loc[stockVariance.groupby(stockVariance.index.to_period('M')).apply(lambda x: x.index.max())]\n",
    "stockVariance"
   ],
   "metadata": {
    "collapsed": false
   }
  },
  {
   "cell_type": "code",
   "execution_count": 1967,
   "outputs": [
    {
     "data": {
      "text/plain": "                   0\nDate                \n1989-12-29  0.002371\n1990-01-31  0.002476\n1990-02-28  0.002691\n1990-03-30  0.003070\n1990-04-30  0.003065\n...              ...\n2020-05-29  0.026802\n2020-06-30  0.027017\n2020-07-31  0.027828\n2020-08-31  0.025790\n2020-09-30  0.025828\n\n[370 rows x 1 columns]",
      "text/html": "<div>\n<style scoped>\n    .dataframe tbody tr th:only-of-type {\n        vertical-align: middle;\n    }\n\n    .dataframe tbody tr th {\n        vertical-align: top;\n    }\n\n    .dataframe thead th {\n        text-align: right;\n    }\n</style>\n<table border=\"1\" class=\"dataframe\">\n  <thead>\n    <tr style=\"text-align: right;\">\n      <th></th>\n      <th>0</th>\n    </tr>\n    <tr>\n      <th>Date</th>\n      <th></th>\n    </tr>\n  </thead>\n  <tbody>\n    <tr>\n      <th>1989-12-29</th>\n      <td>0.002371</td>\n    </tr>\n    <tr>\n      <th>1990-01-31</th>\n      <td>0.002476</td>\n    </tr>\n    <tr>\n      <th>1990-02-28</th>\n      <td>0.002691</td>\n    </tr>\n    <tr>\n      <th>1990-03-30</th>\n      <td>0.003070</td>\n    </tr>\n    <tr>\n      <th>1990-04-30</th>\n      <td>0.003065</td>\n    </tr>\n    <tr>\n      <th>...</th>\n      <td>...</td>\n    </tr>\n    <tr>\n      <th>2020-05-29</th>\n      <td>0.026802</td>\n    </tr>\n    <tr>\n      <th>2020-06-30</th>\n      <td>0.027017</td>\n    </tr>\n    <tr>\n      <th>2020-07-31</th>\n      <td>0.027828</td>\n    </tr>\n    <tr>\n      <th>2020-08-31</th>\n      <td>0.025790</td>\n    </tr>\n    <tr>\n      <th>2020-09-30</th>\n      <td>0.025828</td>\n    </tr>\n  </tbody>\n</table>\n<p>370 rows × 1 columns</p>\n</div>"
     },
     "execution_count": 1967,
     "metadata": {},
     "output_type": "execute_result"
    }
   ],
   "source": [
    "sDividends = smoothedEP[\"JAPAN-DS Market - PRICE INDEX\"]/smoothedEP[\"JAPAN-DS Market - TOT RETURN IND\"]\n",
    "sPrice = sDividends/smoothedEP[\"JAPAN-DS Market - DIVIDEND YIELD\"]*100\n",
    "sEarnings = sPrice/smoothedEP[\"JAPAN-DS Market - PER\"]\n",
    "sEarnings = sEarnings.rolling(119).mean()\n",
    "smoothedEP = sEarnings.dropna()\n",
    "\n",
    "# Dates for December 1989 don't match in price and smoothedEP, so I change them manually.\n",
    "price1 = price.copy()\n",
    "price1.index.array[0] = '1989-12-29'\n",
    "\n",
    "smoothedEP = (1/price1/smoothedEP).dropna()\n",
    "\n",
    "# Small difference again, but not big\n",
    "smoothedEP = pd.DataFrame(smoothedEP)\n",
    "smoothedEP"
   ],
   "metadata": {
    "collapsed": false
   }
  },
  {
   "cell_type": "code",
   "execution_count": 1968,
   "outputs": [],
   "source": [
    "percentEquityIssuing = pd.DataFrame(monthlyIndex[\"JP STOCKS: PUBLIC OFFERINGS - AMOUNT RAISED CURN\"]/(monthlyIndex[\"JP ISSUES: CORPORATE STRAIGHT BONDS CURN\"] + monthlyIndex[\"JP STOCKS: PUBLIC OFFERINGS - AMOUNT RAISED CURN\"]))\n",
    "percentEquityIssuing = pd.DataFrame(percentEquityIssuing.fillna(0))\n",
    "inflationRate = pd.DataFrame(monthlyIndex[\"JP CPI: NATIONAL MEASURE - ANNUAL INFLATION RATE NADJ\"]/100)"
   ],
   "metadata": {
    "collapsed": false
   }
  },
  {
   "cell_type": "code",
   "execution_count": 1969,
   "outputs": [],
   "source": [
    "def change(x, column):\n",
    "    return pd.DataFrame((x[column].diff() / x[column].shift(1)).dropna())"
   ],
   "metadata": {
    "collapsed": false
   }
  },
  {
   "cell_type": "code",
   "execution_count": 1970,
   "outputs": [],
   "source": [
    "realMoneySupply = change(changeVariables, \"JP MONEY SUPPLY: M2 (METHO-BREAK, APR. 2003) CURA\")\n",
    "petroleumConsumption = change(changeVariables, \"JP PETROLEUM: CONSUMPTION VOLN\")\n",
    "unemploymentRate = change(changeVariables, \"JP UNEMPLOYMENT RATE (METHO BREAK OCT 2010) SADJ\")\n",
    "industrialProduction = change(changeVariables, \"JP INDUSTRIAL PRODUCTION - MINING & MANUFACTURING VOLA\")\n",
    "crudeOilPriceChange = change(changeVariables, \"US REFINERS ACQUISITION COST OF DOM. & IMPORTED CRUDE OIL CURN\")\n",
    "crudeOilProduction = change(changeVariables, \"WD CRUDE OIL PRODUCTION - WORLD VOLN\")"
   ],
   "metadata": {
    "collapsed": false
   }
  },
  {
   "cell_type": "code",
   "execution_count": 1971,
   "outputs": [
    {
     "data": {
      "text/plain": "                   0\nDate                \n1989-01-30  0.012065\n1989-02-28  0.015677\n1989-03-30  0.018582\n1989-04-30  0.022132\n1989-05-30  0.024454\n...              ...\n2020-05-30 -0.008399\n2020-06-30 -0.010856\n2020-07-30 -0.006121\n2020-08-30 -0.005424\n2020-09-30 -0.005604\n\n[381 rows x 1 columns]",
      "text/html": "<div>\n<style scoped>\n    .dataframe tbody tr th:only-of-type {\n        vertical-align: middle;\n    }\n\n    .dataframe tbody tr th {\n        vertical-align: top;\n    }\n\n    .dataframe thead th {\n        text-align: right;\n    }\n</style>\n<table border=\"1\" class=\"dataframe\">\n  <thead>\n    <tr style=\"text-align: right;\">\n      <th></th>\n      <th>0</th>\n    </tr>\n    <tr>\n      <th>Date</th>\n      <th></th>\n    </tr>\n  </thead>\n  <tbody>\n    <tr>\n      <th>1989-01-30</th>\n      <td>0.012065</td>\n    </tr>\n    <tr>\n      <th>1989-02-28</th>\n      <td>0.015677</td>\n    </tr>\n    <tr>\n      <th>1989-03-30</th>\n      <td>0.018582</td>\n    </tr>\n    <tr>\n      <th>1989-04-30</th>\n      <td>0.022132</td>\n    </tr>\n    <tr>\n      <th>1989-05-30</th>\n      <td>0.024454</td>\n    </tr>\n    <tr>\n      <th>...</th>\n      <td>...</td>\n    </tr>\n    <tr>\n      <th>2020-05-30</th>\n      <td>-0.008399</td>\n    </tr>\n    <tr>\n      <th>2020-06-30</th>\n      <td>-0.010856</td>\n    </tr>\n    <tr>\n      <th>2020-07-30</th>\n      <td>-0.006121</td>\n    </tr>\n    <tr>\n      <th>2020-08-30</th>\n      <td>-0.005424</td>\n    </tr>\n    <tr>\n      <th>2020-09-30</th>\n      <td>-0.005604</td>\n    </tr>\n  </tbody>\n</table>\n<p>381 rows × 1 columns</p>\n</div>"
     },
     "execution_count": 1971,
     "metadata": {},
     "output_type": "execute_result"
    }
   ],
   "source": [
    "mv = netIssue[\"JAPAN-DS Market - MARKET VALUE\"]\n",
    "\n",
    "temp9 = netIssue[\"JAPAN-DS Market - PRICE INDEX\"].diff() / netIssue[\"JAPAN-DS Market - PRICE INDEX\"].shift(1)\n",
    "netIssue = netIssue[\"JAPAN-DS Market - MARKET VALUE\"] - netIssue[\"JAPAN-DS Market - MARKET VALUE\"].shift(1)*(1+temp9)\n",
    "\n",
    "#Slight differences again, could be because of rolling functions\n",
    "netIssue = (netIssue.rolling(window=12, min_periods=3).sum()).dropna()\n",
    "netIssue = (netIssue/mv).dropna()\n",
    "netIssue = pd.DataFrame(netIssue)\n",
    "\n",
    "netIssue"
   ],
   "metadata": {
    "collapsed": false
   }
  },
  {
   "cell_type": "code",
   "execution_count": 1972,
   "outputs": [
    {
     "name": "stderr",
     "output_type": "stream",
     "text": [
      "/Users/jessekeranen/PycharmProjects/pythonProject/venv/lib/python3.9/site-packages/pandas/core/arraylike.py:402: RuntimeWarning: invalid value encountered in log\n",
      "  result = getattr(ufunc, method)(*inputs, **kwargs)\n"
     ]
    },
    {
     "data": {
      "text/plain": "                   0\nDate                \n1989-12-29 -2.297618\n1990-01-31 -2.329411\n1990-02-28 -2.263085\n1990-03-30 -2.257990\n1990-04-30 -2.333612\n...              ...\n2020-05-29 -2.065549\n2020-06-30 -2.065820\n2020-07-31 -2.111701\n2020-08-31 -2.078604\n2020-09-30 -2.095370\n\n[370 rows x 1 columns]",
      "text/html": "<div>\n<style scoped>\n    .dataframe tbody tr th:only-of-type {\n        vertical-align: middle;\n    }\n\n    .dataframe tbody tr th {\n        vertical-align: top;\n    }\n\n    .dataframe thead th {\n        text-align: right;\n    }\n</style>\n<table border=\"1\" class=\"dataframe\">\n  <thead>\n    <tr style=\"text-align: right;\">\n      <th></th>\n      <th>0</th>\n    </tr>\n    <tr>\n      <th>Date</th>\n      <th></th>\n    </tr>\n  </thead>\n  <tbody>\n    <tr>\n      <th>1989-12-29</th>\n      <td>-2.297618</td>\n    </tr>\n    <tr>\n      <th>1990-01-31</th>\n      <td>-2.329411</td>\n    </tr>\n    <tr>\n      <th>1990-02-28</th>\n      <td>-2.263085</td>\n    </tr>\n    <tr>\n      <th>1990-03-30</th>\n      <td>-2.257990</td>\n    </tr>\n    <tr>\n      <th>1990-04-30</th>\n      <td>-2.333612</td>\n    </tr>\n    <tr>\n      <th>...</th>\n      <td>...</td>\n    </tr>\n    <tr>\n      <th>2020-05-29</th>\n      <td>-2.065549</td>\n    </tr>\n    <tr>\n      <th>2020-06-30</th>\n      <td>-2.065820</td>\n    </tr>\n    <tr>\n      <th>2020-07-31</th>\n      <td>-2.111701</td>\n    </tr>\n    <tr>\n      <th>2020-08-31</th>\n      <td>-2.078604</td>\n    </tr>\n    <tr>\n      <th>2020-09-30</th>\n      <td>-2.095370</td>\n    </tr>\n  </tbody>\n</table>\n<p>370 rows × 1 columns</p>\n</div>"
     },
     "execution_count": 1972,
     "metadata": {},
     "output_type": "execute_result"
    }
   ],
   "source": [
    "netPY = (monthlyIndex[\"JAPAN-DS Market - DIVIDEND YIELD\"]/100) + (((changeVariables[\"JAPAN-DS Market - MARKET VALUE\"].shift(1) * (changeVariables[\"JAPAN-DS Market - PRICE INDEX\"]/changeVariables[\"JAPAN-DS Market - PRICE INDEX\"].shift(1))) - changeVariables[\"JAPAN-DS Market - MARKET VALUE\"])/changeVariables[\"JAPAN-DS Market - MARKET VALUE\"])\n",
    "netPY = pd.DataFrame((np.log(0.1 + netPY)).dropna())\n",
    "netPY"
   ],
   "metadata": {
    "collapsed": false
   }
  },
  {
   "cell_type": "code",
   "execution_count": 1973,
   "outputs": [],
   "source": [
    "def rollingmean(length):\n",
    "    temp = dependentVariable.rolling(length).mean().shift(-length)\n",
    "    temp[\"totalReturnChange\"] = temp[\"totalReturnChange\"].shift(1)\n",
    "    return pd.DataFrame(temp)"
   ],
   "metadata": {
    "collapsed": false
   }
  },
  {
   "cell_type": "code",
   "execution_count": 1974,
   "outputs": [
    {
     "data": {
      "text/plain": "            totalReturnChange\nDate                         \n1990-01-31                NaN\n1990-02-28          -0.013811\n1990-03-30          -0.012198\n1990-04-30          -0.010192\n1990-05-31          -0.009574\n...                       ...\n2020-05-29                NaN\n2020-06-30                NaN\n2020-07-31                NaN\n2020-08-31                NaN\n2020-09-30                NaN\n\n[369 rows x 1 columns]",
      "text/html": "<div>\n<style scoped>\n    .dataframe tbody tr th:only-of-type {\n        vertical-align: middle;\n    }\n\n    .dataframe tbody tr th {\n        vertical-align: top;\n    }\n\n    .dataframe thead th {\n        text-align: right;\n    }\n</style>\n<table border=\"1\" class=\"dataframe\">\n  <thead>\n    <tr style=\"text-align: right;\">\n      <th></th>\n      <th>totalReturnChange</th>\n    </tr>\n    <tr>\n      <th>Date</th>\n      <th></th>\n    </tr>\n  </thead>\n  <tbody>\n    <tr>\n      <th>1990-01-31</th>\n      <td>NaN</td>\n    </tr>\n    <tr>\n      <th>1990-02-28</th>\n      <td>-0.013811</td>\n    </tr>\n    <tr>\n      <th>1990-03-30</th>\n      <td>-0.012198</td>\n    </tr>\n    <tr>\n      <th>1990-04-30</th>\n      <td>-0.010192</td>\n    </tr>\n    <tr>\n      <th>1990-05-31</th>\n      <td>-0.009574</td>\n    </tr>\n    <tr>\n      <th>...</th>\n      <td>...</td>\n    </tr>\n    <tr>\n      <th>2020-05-29</th>\n      <td>NaN</td>\n    </tr>\n    <tr>\n      <th>2020-06-30</th>\n      <td>NaN</td>\n    </tr>\n    <tr>\n      <th>2020-07-31</th>\n      <td>NaN</td>\n    </tr>\n    <tr>\n      <th>2020-08-31</th>\n      <td>NaN</td>\n    </tr>\n    <tr>\n      <th>2020-09-30</th>\n      <td>NaN</td>\n    </tr>\n  </tbody>\n</table>\n<p>369 rows × 1 columns</p>\n</div>"
     },
     "execution_count": 1974,
     "metadata": {},
     "output_type": "execute_result"
    }
   ],
   "source": [
    "mk12 = rollingmean(12)\n",
    "mk24 = rollingmean(24)\n",
    "mk36 = rollingmean(36)\n",
    "mk48 = rollingmean(48)\n",
    "\n",
    "mk48"
   ],
   "metadata": {
    "collapsed": false
   }
  },
  {
   "cell_type": "code",
   "execution_count": 1975,
   "outputs": [],
   "source": [
    "finalmonthlyOnlyIV = dividendPriceRatio.merge(bookToMarketRatio, on=\"Date\")\n",
    "finalmonthlyOnlyIV = finalmonthlyOnlyIV.merge(earningsToPriceRatio, on=\"Date\")\n",
    "finalmonthlyOnlyIV = finalmonthlyOnlyIV.merge(smoothedEP, on=\"Date\")\n",
    "finalmonthlyOnlyIV = finalmonthlyOnlyIV.merge(percentEquityIssuing, on=\"Date\")\n",
    "# ToDo change dates on netIssue file\n",
    "#finalmonthlyOnlyIV = finalmonthlyOnlyIV.merge(netIssue, on=\"Date\")\n",
    "finalmonthlyOnlyIV = finalmonthlyOnlyIV.merge(netPY, on=\"Date\")\n",
    "finalmonthlyOnlyIV = finalmonthlyOnlyIV.merge(inflationRate, on=\"Date\")\n",
    "finalmonthlyOnlyIV = finalmonthlyOnlyIV.merge(realMoneySupply, on=\"Date\")\n",
    "finalmonthlyOnlyIV = finalmonthlyOnlyIV.merge(crudeOilPriceChange, on=\"Date\")\n",
    "finalmonthlyOnlyIV = finalmonthlyOnlyIV.merge(crudeOilProduction, on=\"Date\")\n",
    "finalmonthlyOnlyIV = finalmonthlyOnlyIV.merge(petroleumConsumption, on=\"Date\")\n",
    "finalmonthlyOnlyIV = finalmonthlyOnlyIV.merge(industrialProduction, on=\"Date\")\n",
    "finalmonthlyOnlyIV = finalmonthlyOnlyIV.merge(unemploymentRate, on=\"Date\")\n",
    "finalmonthlyOnlyIV = finalmonthlyOnlyIV.merge(stockVariance, on=\"Date\")\n",
    "finalmonthlyOnlyIV = finalmonthlyOnlyIV.merge(volatilityIndex, on=\"Date\")\n",
    "#ToDo change column names when we have all variables"
   ],
   "metadata": {
    "collapsed": false
   }
  },
  {
   "cell_type": "code",
   "execution_count": 1976,
   "outputs": [
    {
     "data": {
      "text/plain": "            JAPAN-DS Market - DIVIDEND YIELD  \\\nDate                                           \n1989-12-29                            0.0043   \n1990-01-31                            0.0045   \n1990-02-28                            0.0049   \n1990-03-30                            0.0056   \n1990-04-30                            0.0056   \n...                                      ...   \n2020-05-29                            0.0247   \n2020-06-30                            0.0248   \n2020-07-31                            0.0254   \n2020-08-31                            0.0234   \n2020-09-30                            0.0233   \n\n            JAPAN-DS Market - PRICE/BOOK RATIO  JAPAN-DS Market - PER  \\\nDate                                                                    \n1989-12-29                            0.246914               0.016502   \n1990-01-31                            0.261780               0.017422   \n1990-02-28                            0.278552               0.018762   \n1990-03-30                            0.322581               0.021505   \n1990-04-30                            0.335570               0.021552   \n...                                        ...                    ...   \n2020-05-29                            0.819672               0.059524   \n2020-06-30                            0.813008               0.059172   \n2020-07-31                            0.840336               0.058480   \n2020-08-31                            0.781250               0.049261   \n2020-09-30                            0.781250               0.049020   \n\n                 0_x       0_y         0  \\\nDate                                       \n1989-12-29  0.002371  0.468772 -2.297618   \n1990-01-31  0.002476  1.000000 -2.329411   \n1990-02-28  0.002691  0.032668 -2.263085   \n1990-03-30  0.003070  0.059365 -2.257990   \n1990-04-30  0.003065  0.003780 -2.333612   \n...              ...       ...       ...   \n2020-05-29  0.026802  0.000000 -2.065549   \n2020-06-30  0.027017  0.000031 -2.065820   \n2020-07-31  0.027828  0.000223 -2.111701   \n2020-08-31  0.025790  0.000205 -2.078604   \n2020-09-30  0.025828  0.000478 -2.095370   \n\n            JP CPI: NATIONAL MEASURE - ANNUAL INFLATION RATE NADJ  \\\nDate                                                                \n1989-12-29                                             0.0264       \n1990-01-31                                             0.0334       \n1990-02-28                                             0.0382       \n1990-03-30                                             0.0356       \n1990-04-30                                             0.0271       \n...                                                       ...       \n2020-05-29                                             0.0000       \n2020-06-30                                             0.0010       \n2020-07-31                                             0.0030       \n2020-08-31                                             0.0020       \n2020-09-30                                             0.0010       \n\n            JP MONEY SUPPLY: M2 (METHO-BREAK, APR. 2003) CURA  \\\nDate                                                            \n1989-12-29                                           0.013651   \n1990-01-31                                           0.013000   \n1990-02-28                                           0.016904   \n1990-03-30                                           0.004891   \n1990-04-30                                           0.015589   \n...                                                       ...   \n2020-05-29                                           0.016958   \n2020-06-30                                           0.021045   \n2020-07-31                                           0.007901   \n2020-08-31                                           0.008897   \n2020-09-30                                           0.005986   \n\n            US REFINERS ACQUISITION COST OF DOM. & IMPORTED CRUDE OIL CURN  \\\nDate                                                                         \n1989-12-29                                           0.062534                \n1990-01-31                                           0.056295                \n1990-02-28                                          -0.015988                \n1990-03-30                                          -0.057607                \n1990-04-30                                          -0.109195                \n...                                                       ...                \n2020-05-29                                           0.228233                \n2020-06-30                                           0.543624                \n2020-07-31                                           0.088859                \n2020-08-31                                           0.058398                \n2020-09-30                                          -0.060835                \n\n            WD CRUDE OIL PRODUCTION - WORLD VOLN  \\\nDate                                               \n1989-12-29                             -0.007235   \n1990-01-31                             -0.005948   \n1990-02-28                              0.003648   \n1990-03-30                              0.014105   \n1990-04-30                             -0.006554   \n...                                          ...   \n2020-05-29                             -0.137378   \n2020-06-30                             -0.015776   \n2020-07-31                              0.017940   \n2020-08-31                              0.015792   \n2020-09-30                             -0.001738   \n\n            JP PETROLEUM: CONSUMPTION VOLN  \\\nDate                                         \n1989-12-29                        0.158533   \n1990-01-31                       -0.087887   \n1990-02-28                        0.060087   \n1990-03-30                       -0.062695   \n1990-04-30                       -0.148222   \n...                                    ...   \n2020-05-29                       -0.113784   \n2020-06-30                        0.048506   \n2020-07-31                        0.042319   \n2020-08-31                        0.018699   \n2020-09-30                        0.007398   \n\n            JP INDUSTRIAL PRODUCTION - MINING & MANUFACTURING VOLA  \\\nDate                                                                 \n1989-12-29                                           0.003846        \n1990-01-31                                          -0.008621        \n1990-02-28                                           0.008696        \n1990-03-30                                           0.019157        \n1990-04-30                                           0.000000        \n...                                                       ...        \n2020-05-29                                          -0.089120        \n2020-06-30                                           0.019060        \n2020-07-31                                           0.087282        \n2020-08-31                                           0.010321        \n2020-09-30                                           0.038593        \n\n            JP UNEMPLOYMENT RATE (METHO BREAK OCT 2010) SADJ       var  \\\nDate                                                                     \n1989-12-29                                         -0.045455  0.000042   \n1990-01-31                                          0.047619  0.000051   \n1990-02-28                                          0.000000  0.000103   \n1990-03-30                                         -0.090909  0.000172   \n1990-04-30                                          0.050000  0.000234   \n...                                                      ...       ...   \n2020-05-29                                          0.115385  0.000161   \n2020-06-30                                         -0.034483  0.000161   \n2020-07-31                                          0.035714  0.000161   \n2020-08-31                                          0.034483  0.000161   \n2020-09-30                                          0.000000  0.000161   \n\n            NIKKEI STOCK AVERAGE VOLATILITY INDEX - PRICE INDEX  \nDate                                                             \n1989-12-29                                           0.850584    \n1990-01-31                                          -0.145982    \n1990-02-28                                          -0.098047    \n1990-03-30                                           0.567125    \n1990-04-30                                           0.673540    \n...                                                       ...    \n2020-05-29                                          -0.128674    \n2020-06-30                                           0.053609    \n2020-07-31                                          -0.114868    \n2020-08-31                                          -0.121498    \n2020-09-30                                           0.030416    \n\n[370 rows x 15 columns]",
      "text/html": "<div>\n<style scoped>\n    .dataframe tbody tr th:only-of-type {\n        vertical-align: middle;\n    }\n\n    .dataframe tbody tr th {\n        vertical-align: top;\n    }\n\n    .dataframe thead th {\n        text-align: right;\n    }\n</style>\n<table border=\"1\" class=\"dataframe\">\n  <thead>\n    <tr style=\"text-align: right;\">\n      <th></th>\n      <th>JAPAN-DS Market - DIVIDEND YIELD</th>\n      <th>JAPAN-DS Market - PRICE/BOOK RATIO</th>\n      <th>JAPAN-DS Market - PER</th>\n      <th>0_x</th>\n      <th>0_y</th>\n      <th>0</th>\n      <th>JP CPI: NATIONAL MEASURE - ANNUAL INFLATION RATE NADJ</th>\n      <th>JP MONEY SUPPLY: M2 (METHO-BREAK, APR. 2003) CURA</th>\n      <th>US REFINERS ACQUISITION COST OF DOM. &amp; IMPORTED CRUDE OIL CURN</th>\n      <th>WD CRUDE OIL PRODUCTION - WORLD VOLN</th>\n      <th>JP PETROLEUM: CONSUMPTION VOLN</th>\n      <th>JP INDUSTRIAL PRODUCTION - MINING &amp; MANUFACTURING VOLA</th>\n      <th>JP UNEMPLOYMENT RATE (METHO BREAK OCT 2010) SADJ</th>\n      <th>var</th>\n      <th>NIKKEI STOCK AVERAGE VOLATILITY INDEX - PRICE INDEX</th>\n    </tr>\n    <tr>\n      <th>Date</th>\n      <th></th>\n      <th></th>\n      <th></th>\n      <th></th>\n      <th></th>\n      <th></th>\n      <th></th>\n      <th></th>\n      <th></th>\n      <th></th>\n      <th></th>\n      <th></th>\n      <th></th>\n      <th></th>\n      <th></th>\n    </tr>\n  </thead>\n  <tbody>\n    <tr>\n      <th>1989-12-29</th>\n      <td>0.0043</td>\n      <td>0.246914</td>\n      <td>0.016502</td>\n      <td>0.002371</td>\n      <td>0.468772</td>\n      <td>-2.297618</td>\n      <td>0.0264</td>\n      <td>0.013651</td>\n      <td>0.062534</td>\n      <td>-0.007235</td>\n      <td>0.158533</td>\n      <td>0.003846</td>\n      <td>-0.045455</td>\n      <td>0.000042</td>\n      <td>0.850584</td>\n    </tr>\n    <tr>\n      <th>1990-01-31</th>\n      <td>0.0045</td>\n      <td>0.261780</td>\n      <td>0.017422</td>\n      <td>0.002476</td>\n      <td>1.000000</td>\n      <td>-2.329411</td>\n      <td>0.0334</td>\n      <td>0.013000</td>\n      <td>0.056295</td>\n      <td>-0.005948</td>\n      <td>-0.087887</td>\n      <td>-0.008621</td>\n      <td>0.047619</td>\n      <td>0.000051</td>\n      <td>-0.145982</td>\n    </tr>\n    <tr>\n      <th>1990-02-28</th>\n      <td>0.0049</td>\n      <td>0.278552</td>\n      <td>0.018762</td>\n      <td>0.002691</td>\n      <td>0.032668</td>\n      <td>-2.263085</td>\n      <td>0.0382</td>\n      <td>0.016904</td>\n      <td>-0.015988</td>\n      <td>0.003648</td>\n      <td>0.060087</td>\n      <td>0.008696</td>\n      <td>0.000000</td>\n      <td>0.000103</td>\n      <td>-0.098047</td>\n    </tr>\n    <tr>\n      <th>1990-03-30</th>\n      <td>0.0056</td>\n      <td>0.322581</td>\n      <td>0.021505</td>\n      <td>0.003070</td>\n      <td>0.059365</td>\n      <td>-2.257990</td>\n      <td>0.0356</td>\n      <td>0.004891</td>\n      <td>-0.057607</td>\n      <td>0.014105</td>\n      <td>-0.062695</td>\n      <td>0.019157</td>\n      <td>-0.090909</td>\n      <td>0.000172</td>\n      <td>0.567125</td>\n    </tr>\n    <tr>\n      <th>1990-04-30</th>\n      <td>0.0056</td>\n      <td>0.335570</td>\n      <td>0.021552</td>\n      <td>0.003065</td>\n      <td>0.003780</td>\n      <td>-2.333612</td>\n      <td>0.0271</td>\n      <td>0.015589</td>\n      <td>-0.109195</td>\n      <td>-0.006554</td>\n      <td>-0.148222</td>\n      <td>0.000000</td>\n      <td>0.050000</td>\n      <td>0.000234</td>\n      <td>0.673540</td>\n    </tr>\n    <tr>\n      <th>...</th>\n      <td>...</td>\n      <td>...</td>\n      <td>...</td>\n      <td>...</td>\n      <td>...</td>\n      <td>...</td>\n      <td>...</td>\n      <td>...</td>\n      <td>...</td>\n      <td>...</td>\n      <td>...</td>\n      <td>...</td>\n      <td>...</td>\n      <td>...</td>\n      <td>...</td>\n    </tr>\n    <tr>\n      <th>2020-05-29</th>\n      <td>0.0247</td>\n      <td>0.819672</td>\n      <td>0.059524</td>\n      <td>0.026802</td>\n      <td>0.000000</td>\n      <td>-2.065549</td>\n      <td>0.0000</td>\n      <td>0.016958</td>\n      <td>0.228233</td>\n      <td>-0.137378</td>\n      <td>-0.113784</td>\n      <td>-0.089120</td>\n      <td>0.115385</td>\n      <td>0.000161</td>\n      <td>-0.128674</td>\n    </tr>\n    <tr>\n      <th>2020-06-30</th>\n      <td>0.0248</td>\n      <td>0.813008</td>\n      <td>0.059172</td>\n      <td>0.027017</td>\n      <td>0.000031</td>\n      <td>-2.065820</td>\n      <td>0.0010</td>\n      <td>0.021045</td>\n      <td>0.543624</td>\n      <td>-0.015776</td>\n      <td>0.048506</td>\n      <td>0.019060</td>\n      <td>-0.034483</td>\n      <td>0.000161</td>\n      <td>0.053609</td>\n    </tr>\n    <tr>\n      <th>2020-07-31</th>\n      <td>0.0254</td>\n      <td>0.840336</td>\n      <td>0.058480</td>\n      <td>0.027828</td>\n      <td>0.000223</td>\n      <td>-2.111701</td>\n      <td>0.0030</td>\n      <td>0.007901</td>\n      <td>0.088859</td>\n      <td>0.017940</td>\n      <td>0.042319</td>\n      <td>0.087282</td>\n      <td>0.035714</td>\n      <td>0.000161</td>\n      <td>-0.114868</td>\n    </tr>\n    <tr>\n      <th>2020-08-31</th>\n      <td>0.0234</td>\n      <td>0.781250</td>\n      <td>0.049261</td>\n      <td>0.025790</td>\n      <td>0.000205</td>\n      <td>-2.078604</td>\n      <td>0.0020</td>\n      <td>0.008897</td>\n      <td>0.058398</td>\n      <td>0.015792</td>\n      <td>0.018699</td>\n      <td>0.010321</td>\n      <td>0.034483</td>\n      <td>0.000161</td>\n      <td>-0.121498</td>\n    </tr>\n    <tr>\n      <th>2020-09-30</th>\n      <td>0.0233</td>\n      <td>0.781250</td>\n      <td>0.049020</td>\n      <td>0.025828</td>\n      <td>0.000478</td>\n      <td>-2.095370</td>\n      <td>0.0010</td>\n      <td>0.005986</td>\n      <td>-0.060835</td>\n      <td>-0.001738</td>\n      <td>0.007398</td>\n      <td>0.038593</td>\n      <td>0.000000</td>\n      <td>0.000161</td>\n      <td>0.030416</td>\n    </tr>\n  </tbody>\n</table>\n<p>370 rows × 15 columns</p>\n</div>"
     },
     "execution_count": 1976,
     "metadata": {},
     "output_type": "execute_result"
    }
   ],
   "source": [
    "finalmonthlyOnlyIV"
   ],
   "metadata": {
    "collapsed": false
   }
  },
  {
   "cell_type": "code",
   "execution_count": 1977,
   "outputs": [
    {
     "name": "stderr",
     "output_type": "stream",
     "text": [
      "/var/folders/pb/d2lzhndx6vs8ghv0m0258lzh0000gn/T/ipykernel_72661/2453970180.py:4: FutureWarning: Passing 'suffixes' which cause duplicate columns {'totalReturnChange_x'} in the result is deprecated and will raise a MergeError in a future version.\n",
      "  finalIndexMonthly = finalIndexMonthly.merge(mk36, on='Date')\n"
     ]
    }
   ],
   "source": [
    "finalIndexMonthly = finalmonthlyOnlyIV.merge(dependentVariable, on='Date')\n",
    "finalIndexMonthly = finalIndexMonthly.merge(mk12, on='Date')\n",
    "finalIndexMonthly = finalIndexMonthly.merge(mk24, on='Date')\n",
    "finalIndexMonthly = finalIndexMonthly.merge(mk36, on='Date')\n",
    "finalIndexMonthly = finalIndexMonthly.merge(mk48, on='Date')\n",
    "#ToDo again colnames"
   ],
   "metadata": {
    "collapsed": false
   }
  },
  {
   "cell_type": "code",
   "execution_count": 1978,
   "outputs": [
    {
     "data": {
      "text/plain": "            JAPAN-DS Market - DIVIDEND YIELD  \\\nDate                                           \n1990-01-31                            0.0045   \n1990-02-28                            0.0049   \n1990-03-30                            0.0056   \n1990-04-30                            0.0056   \n1990-05-31                            0.0052   \n...                                      ...   \n2020-05-29                            0.0247   \n2020-06-30                            0.0248   \n2020-07-31                            0.0254   \n2020-08-31                            0.0234   \n2020-09-30                            0.0233   \n\n            JAPAN-DS Market - PRICE/BOOK RATIO  JAPAN-DS Market - PER  \\\nDate                                                                    \n1990-01-31                            0.261780               0.017422   \n1990-02-28                            0.278552               0.018762   \n1990-03-30                            0.322581               0.021505   \n1990-04-30                            0.335570               0.021552   \n1990-05-31                            0.305810               0.020000   \n...                                        ...                    ...   \n2020-05-29                            0.819672               0.059524   \n2020-06-30                            0.813008               0.059172   \n2020-07-31                            0.840336               0.058480   \n2020-08-31                            0.781250               0.049261   \n2020-09-30                            0.781250               0.049020   \n\n                 0_x       0_y         0  \\\nDate                                       \n1990-01-31  0.002476  1.000000 -2.329411   \n1990-02-28  0.002691  0.032668 -2.263085   \n1990-03-30  0.003070  0.059365 -2.257990   \n1990-04-30  0.003065  0.003780 -2.333612   \n1990-05-31  0.002846  0.000000 -2.258949   \n...              ...       ...       ...   \n2020-05-29  0.026802  0.000000 -2.065549   \n2020-06-30  0.027017  0.000031 -2.065820   \n2020-07-31  0.027828  0.000223 -2.111701   \n2020-08-31  0.025790  0.000205 -2.078604   \n2020-09-30  0.025828  0.000478 -2.095370   \n\n            JP CPI: NATIONAL MEASURE - ANNUAL INFLATION RATE NADJ  \\\nDate                                                                \n1990-01-31                                             0.0334       \n1990-02-28                                             0.0382       \n1990-03-30                                             0.0356       \n1990-04-30                                             0.0271       \n1990-05-31                                             0.0258       \n...                                                       ...       \n2020-05-29                                             0.0000       \n2020-06-30                                             0.0010       \n2020-07-31                                             0.0030       \n2020-08-31                                             0.0020       \n2020-09-30                                             0.0010       \n\n            JP MONEY SUPPLY: M2 (METHO-BREAK, APR. 2003) CURA  \\\nDate                                                            \n1990-01-31                                           0.013000   \n1990-02-28                                           0.016904   \n1990-03-30                                           0.004891   \n1990-04-30                                           0.015589   \n1990-05-31                                           0.004795   \n...                                                       ...   \n2020-05-29                                           0.016958   \n2020-06-30                                           0.021045   \n2020-07-31                                           0.007901   \n2020-08-31                                           0.008897   \n2020-09-30                                           0.005986   \n\n            US REFINERS ACQUISITION COST OF DOM. & IMPORTED CRUDE OIL CURN  \\\nDate                                                                         \n1990-01-31                                           0.056295                \n1990-02-28                                          -0.015988                \n1990-03-30                                          -0.057607                \n1990-04-30                                          -0.109195                \n1990-05-31                                          -0.045748                \n...                                                       ...                \n2020-05-29                                           0.228233                \n2020-06-30                                           0.543624                \n2020-07-31                                           0.088859                \n2020-08-31                                           0.058398                \n2020-09-30                                          -0.060835                \n\n            WD CRUDE OIL PRODUCTION - WORLD VOLN  \\\nDate                                               \n1990-01-31                             -0.005948   \n1990-02-28                              0.003648   \n1990-03-30                              0.014105   \n1990-04-30                             -0.006554   \n1990-05-31                             -0.008766   \n...                                          ...   \n2020-05-29                             -0.137378   \n2020-06-30                             -0.015776   \n2020-07-31                              0.017940   \n2020-08-31                              0.015792   \n2020-09-30                             -0.001738   \n\n            JP PETROLEUM: CONSUMPTION VOLN  \\\nDate                                         \n1990-01-31                       -0.087887   \n1990-02-28                        0.060087   \n1990-03-30                       -0.062695   \n1990-04-30                       -0.148222   \n1990-05-31                       -0.040606   \n...                                    ...   \n2020-05-29                       -0.113784   \n2020-06-30                        0.048506   \n2020-07-31                        0.042319   \n2020-08-31                        0.018699   \n2020-09-30                        0.007398   \n\n            JP INDUSTRIAL PRODUCTION - MINING & MANUFACTURING VOLA  \\\nDate                                                                 \n1990-01-31                                          -0.008621        \n1990-02-28                                           0.008696        \n1990-03-30                                           0.019157        \n1990-04-30                                           0.000000        \n1990-05-31                                           0.007519        \n...                                                       ...        \n2020-05-29                                          -0.089120        \n2020-06-30                                           0.019060        \n2020-07-31                                           0.087282        \n2020-08-31                                           0.010321        \n2020-09-30                                           0.038593        \n\n            JP UNEMPLOYMENT RATE (METHO BREAK OCT 2010) SADJ       var  \\\nDate                                                                     \n1990-01-31                                          0.047619  0.000051   \n1990-02-28                                          0.000000  0.000103   \n1990-03-30                                         -0.090909  0.000172   \n1990-04-30                                          0.050000  0.000234   \n1990-05-31                                          0.000000  0.000207   \n...                                                      ...       ...   \n2020-05-29                                          0.115385  0.000161   \n2020-06-30                                         -0.034483  0.000161   \n2020-07-31                                          0.035714  0.000161   \n2020-08-31                                          0.034483  0.000161   \n2020-09-30                                          0.000000  0.000161   \n\n            NIKKEI STOCK AVERAGE VOLATILITY INDEX - PRICE INDEX  \\\nDate                                                              \n1990-01-31                                          -0.145982     \n1990-02-28                                          -0.098047     \n1990-03-30                                           0.567125     \n1990-04-30                                           0.673540     \n1990-05-31                                          -1.129605     \n...                                                       ...     \n2020-05-29                                          -0.128674     \n2020-06-30                                           0.053609     \n2020-07-31                                          -0.114868     \n2020-08-31                                          -0.121498     \n2020-09-30                                           0.030416     \n\n            totalReturnChange_x  totalReturnChange_y  totalReturnChange_x  \\\nDate                                                                        \n1990-01-31            -0.055180                  NaN                  NaN   \n1990-02-28            -0.074739            -0.043228            -0.026502   \n1990-03-30            -0.142811            -0.026836            -0.025369   \n1990-04-30            -0.009420            -0.014809            -0.023449   \n1990-05-31             0.087576            -0.014798            -0.025948   \n...                         ...                  ...                  ...   \n2020-05-29             0.068696                  NaN                  NaN   \n2020-06-30             0.000052                  NaN                  NaN   \n2020-07-31            -0.035390                  NaN                  NaN   \n2020-08-31             0.076310                  NaN                  NaN   \n2020-09-30             0.008353                  NaN                  NaN   \n\n            totalReturnChange_y  totalReturnChange  \nDate                                                \n1990-01-31                  NaN                NaN  \n1990-02-28            -0.024610          -0.013811  \n1990-03-30            -0.022831          -0.012198  \n1990-04-30            -0.015704          -0.010192  \n1990-05-31            -0.012108          -0.009574  \n...                         ...                ...  \n2020-05-29                  NaN                NaN  \n2020-06-30                  NaN                NaN  \n2020-07-31                  NaN                NaN  \n2020-08-31                  NaN                NaN  \n2020-09-30                  NaN                NaN  \n\n[369 rows x 20 columns]",
      "text/html": "<div>\n<style scoped>\n    .dataframe tbody tr th:only-of-type {\n        vertical-align: middle;\n    }\n\n    .dataframe tbody tr th {\n        vertical-align: top;\n    }\n\n    .dataframe thead th {\n        text-align: right;\n    }\n</style>\n<table border=\"1\" class=\"dataframe\">\n  <thead>\n    <tr style=\"text-align: right;\">\n      <th></th>\n      <th>JAPAN-DS Market - DIVIDEND YIELD</th>\n      <th>JAPAN-DS Market - PRICE/BOOK RATIO</th>\n      <th>JAPAN-DS Market - PER</th>\n      <th>0_x</th>\n      <th>0_y</th>\n      <th>0</th>\n      <th>JP CPI: NATIONAL MEASURE - ANNUAL INFLATION RATE NADJ</th>\n      <th>JP MONEY SUPPLY: M2 (METHO-BREAK, APR. 2003) CURA</th>\n      <th>US REFINERS ACQUISITION COST OF DOM. &amp; IMPORTED CRUDE OIL CURN</th>\n      <th>WD CRUDE OIL PRODUCTION - WORLD VOLN</th>\n      <th>JP PETROLEUM: CONSUMPTION VOLN</th>\n      <th>JP INDUSTRIAL PRODUCTION - MINING &amp; MANUFACTURING VOLA</th>\n      <th>JP UNEMPLOYMENT RATE (METHO BREAK OCT 2010) SADJ</th>\n      <th>var</th>\n      <th>NIKKEI STOCK AVERAGE VOLATILITY INDEX - PRICE INDEX</th>\n      <th>totalReturnChange_x</th>\n      <th>totalReturnChange_y</th>\n      <th>totalReturnChange_x</th>\n      <th>totalReturnChange_y</th>\n      <th>totalReturnChange</th>\n    </tr>\n    <tr>\n      <th>Date</th>\n      <th></th>\n      <th></th>\n      <th></th>\n      <th></th>\n      <th></th>\n      <th></th>\n      <th></th>\n      <th></th>\n      <th></th>\n      <th></th>\n      <th></th>\n      <th></th>\n      <th></th>\n      <th></th>\n      <th></th>\n      <th></th>\n      <th></th>\n      <th></th>\n      <th></th>\n      <th></th>\n    </tr>\n  </thead>\n  <tbody>\n    <tr>\n      <th>1990-01-31</th>\n      <td>0.0045</td>\n      <td>0.261780</td>\n      <td>0.017422</td>\n      <td>0.002476</td>\n      <td>1.000000</td>\n      <td>-2.329411</td>\n      <td>0.0334</td>\n      <td>0.013000</td>\n      <td>0.056295</td>\n      <td>-0.005948</td>\n      <td>-0.087887</td>\n      <td>-0.008621</td>\n      <td>0.047619</td>\n      <td>0.000051</td>\n      <td>-0.145982</td>\n      <td>-0.055180</td>\n      <td>NaN</td>\n      <td>NaN</td>\n      <td>NaN</td>\n      <td>NaN</td>\n    </tr>\n    <tr>\n      <th>1990-02-28</th>\n      <td>0.0049</td>\n      <td>0.278552</td>\n      <td>0.018762</td>\n      <td>0.002691</td>\n      <td>0.032668</td>\n      <td>-2.263085</td>\n      <td>0.0382</td>\n      <td>0.016904</td>\n      <td>-0.015988</td>\n      <td>0.003648</td>\n      <td>0.060087</td>\n      <td>0.008696</td>\n      <td>0.000000</td>\n      <td>0.000103</td>\n      <td>-0.098047</td>\n      <td>-0.074739</td>\n      <td>-0.043228</td>\n      <td>-0.026502</td>\n      <td>-0.024610</td>\n      <td>-0.013811</td>\n    </tr>\n    <tr>\n      <th>1990-03-30</th>\n      <td>0.0056</td>\n      <td>0.322581</td>\n      <td>0.021505</td>\n      <td>0.003070</td>\n      <td>0.059365</td>\n      <td>-2.257990</td>\n      <td>0.0356</td>\n      <td>0.004891</td>\n      <td>-0.057607</td>\n      <td>0.014105</td>\n      <td>-0.062695</td>\n      <td>0.019157</td>\n      <td>-0.090909</td>\n      <td>0.000172</td>\n      <td>0.567125</td>\n      <td>-0.142811</td>\n      <td>-0.026836</td>\n      <td>-0.025369</td>\n      <td>-0.022831</td>\n      <td>-0.012198</td>\n    </tr>\n    <tr>\n      <th>1990-04-30</th>\n      <td>0.0056</td>\n      <td>0.335570</td>\n      <td>0.021552</td>\n      <td>0.003065</td>\n      <td>0.003780</td>\n      <td>-2.333612</td>\n      <td>0.0271</td>\n      <td>0.015589</td>\n      <td>-0.109195</td>\n      <td>-0.006554</td>\n      <td>-0.148222</td>\n      <td>0.000000</td>\n      <td>0.050000</td>\n      <td>0.000234</td>\n      <td>0.673540</td>\n      <td>-0.009420</td>\n      <td>-0.014809</td>\n      <td>-0.023449</td>\n      <td>-0.015704</td>\n      <td>-0.010192</td>\n    </tr>\n    <tr>\n      <th>1990-05-31</th>\n      <td>0.0052</td>\n      <td>0.305810</td>\n      <td>0.020000</td>\n      <td>0.002846</td>\n      <td>0.000000</td>\n      <td>-2.258949</td>\n      <td>0.0258</td>\n      <td>0.004795</td>\n      <td>-0.045748</td>\n      <td>-0.008766</td>\n      <td>-0.040606</td>\n      <td>0.007519</td>\n      <td>0.000000</td>\n      <td>0.000207</td>\n      <td>-1.129605</td>\n      <td>0.087576</td>\n      <td>-0.014798</td>\n      <td>-0.025948</td>\n      <td>-0.012108</td>\n      <td>-0.009574</td>\n    </tr>\n    <tr>\n      <th>...</th>\n      <td>...</td>\n      <td>...</td>\n      <td>...</td>\n      <td>...</td>\n      <td>...</td>\n      <td>...</td>\n      <td>...</td>\n      <td>...</td>\n      <td>...</td>\n      <td>...</td>\n      <td>...</td>\n      <td>...</td>\n      <td>...</td>\n      <td>...</td>\n      <td>...</td>\n      <td>...</td>\n      <td>...</td>\n      <td>...</td>\n      <td>...</td>\n      <td>...</td>\n    </tr>\n    <tr>\n      <th>2020-05-29</th>\n      <td>0.0247</td>\n      <td>0.819672</td>\n      <td>0.059524</td>\n      <td>0.026802</td>\n      <td>0.000000</td>\n      <td>-2.065549</td>\n      <td>0.0000</td>\n      <td>0.016958</td>\n      <td>0.228233</td>\n      <td>-0.137378</td>\n      <td>-0.113784</td>\n      <td>-0.089120</td>\n      <td>0.115385</td>\n      <td>0.000161</td>\n      <td>-0.128674</td>\n      <td>0.068696</td>\n      <td>NaN</td>\n      <td>NaN</td>\n      <td>NaN</td>\n      <td>NaN</td>\n    </tr>\n    <tr>\n      <th>2020-06-30</th>\n      <td>0.0248</td>\n      <td>0.813008</td>\n      <td>0.059172</td>\n      <td>0.027017</td>\n      <td>0.000031</td>\n      <td>-2.065820</td>\n      <td>0.0010</td>\n      <td>0.021045</td>\n      <td>0.543624</td>\n      <td>-0.015776</td>\n      <td>0.048506</td>\n      <td>0.019060</td>\n      <td>-0.034483</td>\n      <td>0.000161</td>\n      <td>0.053609</td>\n      <td>0.000052</td>\n      <td>NaN</td>\n      <td>NaN</td>\n      <td>NaN</td>\n      <td>NaN</td>\n    </tr>\n    <tr>\n      <th>2020-07-31</th>\n      <td>0.0254</td>\n      <td>0.840336</td>\n      <td>0.058480</td>\n      <td>0.027828</td>\n      <td>0.000223</td>\n      <td>-2.111701</td>\n      <td>0.0030</td>\n      <td>0.007901</td>\n      <td>0.088859</td>\n      <td>0.017940</td>\n      <td>0.042319</td>\n      <td>0.087282</td>\n      <td>0.035714</td>\n      <td>0.000161</td>\n      <td>-0.114868</td>\n      <td>-0.035390</td>\n      <td>NaN</td>\n      <td>NaN</td>\n      <td>NaN</td>\n      <td>NaN</td>\n    </tr>\n    <tr>\n      <th>2020-08-31</th>\n      <td>0.0234</td>\n      <td>0.781250</td>\n      <td>0.049261</td>\n      <td>0.025790</td>\n      <td>0.000205</td>\n      <td>-2.078604</td>\n      <td>0.0020</td>\n      <td>0.008897</td>\n      <td>0.058398</td>\n      <td>0.015792</td>\n      <td>0.018699</td>\n      <td>0.010321</td>\n      <td>0.034483</td>\n      <td>0.000161</td>\n      <td>-0.121498</td>\n      <td>0.076310</td>\n      <td>NaN</td>\n      <td>NaN</td>\n      <td>NaN</td>\n      <td>NaN</td>\n    </tr>\n    <tr>\n      <th>2020-09-30</th>\n      <td>0.0233</td>\n      <td>0.781250</td>\n      <td>0.049020</td>\n      <td>0.025828</td>\n      <td>0.000478</td>\n      <td>-2.095370</td>\n      <td>0.0010</td>\n      <td>0.005986</td>\n      <td>-0.060835</td>\n      <td>-0.001738</td>\n      <td>0.007398</td>\n      <td>0.038593</td>\n      <td>0.000000</td>\n      <td>0.000161</td>\n      <td>0.030416</td>\n      <td>0.008353</td>\n      <td>NaN</td>\n      <td>NaN</td>\n      <td>NaN</td>\n      <td>NaN</td>\n    </tr>\n  </tbody>\n</table>\n<p>369 rows × 20 columns</p>\n</div>"
     },
     "execution_count": 1978,
     "metadata": {},
     "output_type": "execute_result"
    }
   ],
   "source": [
    "finalIndexMonthly"
   ],
   "metadata": {
    "collapsed": false
   }
  },
  {
   "cell_type": "code",
   "execution_count": 1978,
   "outputs": [],
   "source": [],
   "metadata": {
    "collapsed": false
   }
  }
 ],
 "metadata": {
  "kernelspec": {
   "display_name": "Python 3",
   "language": "python",
   "name": "python3"
  },
  "language_info": {
   "codemirror_mode": {
    "name": "ipython",
    "version": 2
   },
   "file_extension": ".py",
   "mimetype": "text/x-python",
   "name": "python",
   "nbconvert_exporter": "python",
   "pygments_lexer": "ipython2",
   "version": "2.7.6"
  }
 },
 "nbformat": 4,
 "nbformat_minor": 0
}
