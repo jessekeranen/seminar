{
 "cells": [
  {
   "cell_type": "code",
   "execution_count": 175,
   "outputs": [],
   "source": [
    "import pandas as pd\n",
    "import numpy as np"
   ],
   "metadata": {
    "collapsed": false
   }
  },
  {
   "cell_type": "markdown",
   "source": [
    "Function for data frame manipulations that are same for all data frames."
   ],
   "metadata": {
    "collapsed": false
   }
  },
  {
   "cell_type": "code",
   "execution_count": 176,
   "outputs": [],
   "source": [
    "def df_maniplualtion(path):\n",
    "    data_frame = pd.read_csv(path)\n",
    "    data_frame = data_frame.rename(columns={\"Name\": \"Date\"})\n",
    "    data_frame[\"Date\"] = pd.to_datetime(data_frame[\"Date\"], format=\"%d/%m/%Y\")\n",
    "    data_frame['Date'] = data_frame['Date'].dt.strftime('%Y-%m')\n",
    "    data_frame.set_index('Date', inplace=True)\n",
    "    return data_frame"
   ],
   "metadata": {
    "collapsed": false
   }
  },
  {
   "cell_type": "markdown",
   "source": [
    "Dependant variable data frame"
   ],
   "metadata": {
    "collapsed": false
   }
  },
  {
   "cell_type": "code",
   "execution_count": 177,
   "outputs": [
    {
     "data": {
      "text/plain": "         JAPAN-DS Market - TOT RETURN IND  \\\nDate                                        \n1989-12                           1007.32   \n1990-01                            958.47   \n1990-02                            894.37   \n1990-03                            779.75   \n1990-04                            777.05   \n...                                   ...   \n2020-05                            980.89   \n2020-06                            980.94   \n2020-07                            946.83   \n2020-08                           1021.91   \n2020-09                           1030.48   \n\n         JP OVERNIGHT UNCOLLATERISED CALL MONEY RATE (AVG.) NADJ  \nDate                                                              \n1989-12                                             6.4480        \n1990-01                                             6.5810        \n1990-02                                             6.6430        \n1990-03                                             6.8170        \n1990-04                                             7.1630        \n...                                                    ...        \n2020-05                                            -0.0015        \n2020-06                                            -0.0015        \n2020-07                                            -0.0015        \n2020-08                                            -0.0015        \n2020-09                                            -0.0015        \n\n[370 rows x 2 columns]",
      "text/html": "<div>\n<style scoped>\n    .dataframe tbody tr th:only-of-type {\n        vertical-align: middle;\n    }\n\n    .dataframe tbody tr th {\n        vertical-align: top;\n    }\n\n    .dataframe thead th {\n        text-align: right;\n    }\n</style>\n<table border=\"1\" class=\"dataframe\">\n  <thead>\n    <tr style=\"text-align: right;\">\n      <th></th>\n      <th>JAPAN-DS Market - TOT RETURN IND</th>\n      <th>JP OVERNIGHT UNCOLLATERISED CALL MONEY RATE (AVG.) NADJ</th>\n    </tr>\n    <tr>\n      <th>Date</th>\n      <th></th>\n      <th></th>\n    </tr>\n  </thead>\n  <tbody>\n    <tr>\n      <th>1989-12</th>\n      <td>1007.32</td>\n      <td>6.4480</td>\n    </tr>\n    <tr>\n      <th>1990-01</th>\n      <td>958.47</td>\n      <td>6.5810</td>\n    </tr>\n    <tr>\n      <th>1990-02</th>\n      <td>894.37</td>\n      <td>6.6430</td>\n    </tr>\n    <tr>\n      <th>1990-03</th>\n      <td>779.75</td>\n      <td>6.8170</td>\n    </tr>\n    <tr>\n      <th>1990-04</th>\n      <td>777.05</td>\n      <td>7.1630</td>\n    </tr>\n    <tr>\n      <th>...</th>\n      <td>...</td>\n      <td>...</td>\n    </tr>\n    <tr>\n      <th>2020-05</th>\n      <td>980.89</td>\n      <td>-0.0015</td>\n    </tr>\n    <tr>\n      <th>2020-06</th>\n      <td>980.94</td>\n      <td>-0.0015</td>\n    </tr>\n    <tr>\n      <th>2020-07</th>\n      <td>946.83</td>\n      <td>-0.0015</td>\n    </tr>\n    <tr>\n      <th>2020-08</th>\n      <td>1021.91</td>\n      <td>-0.0015</td>\n    </tr>\n    <tr>\n      <th>2020-09</th>\n      <td>1030.48</td>\n      <td>-0.0015</td>\n    </tr>\n  </tbody>\n</table>\n<p>370 rows × 2 columns</p>\n</div>"
     },
     "execution_count": 177,
     "metadata": {},
     "output_type": "execute_result"
    }
   ],
   "source": [
    "dependentVariable = df_maniplualtion('data/depVariable.csv')\n",
    "dependentVariable"
   ],
   "metadata": {
    "collapsed": false
   }
  },
  {
   "cell_type": "markdown",
   "source": [
    "Monthly data"
   ],
   "metadata": {
    "collapsed": false
   }
  },
  {
   "cell_type": "code",
   "execution_count": 178,
   "outputs": [
    {
     "data": {
      "text/plain": "         JAPAN-DS Market - DIVIDEND YIELD  JAPAN-DS Market - PRICE INDEX  \\\nDate                                                                       \n1989-12                              0.43                         768.21   \n1990-01                              0.45                         730.66   \n1990-02                              0.49                         681.56   \n1990-03                              0.56                         593.94   \n1990-04                              0.56                         591.61   \n...                                   ...                            ...   \n2020-05                              2.47                         496.02   \n2020-06                              2.48                         495.02   \n2020-07                              2.54                         476.77   \n2020-08                              2.34                         513.59   \n2020-09                              2.33                         516.88   \n\n         JAPAN-DS Market - TOT RETURN IND  JAPAN-DS Market - PER  \\\nDate                                                               \n1989-12                           1007.32                   60.6   \n1990-01                            958.47                   57.4   \n1990-02                            894.37                   53.3   \n1990-03                            779.75                   46.5   \n1990-04                            777.05                   46.4   \n...                                   ...                    ...   \n2020-05                            980.89                   16.8   \n2020-06                            980.94                   16.9   \n2020-07                            946.83                   17.1   \n2020-08                           1021.91                   20.3   \n2020-09                           1030.48                   20.4   \n\n         JAPAN-DS Market - PRICE/BOOK RATIO  \\\nDate                                          \n1989-12                                4.05   \n1990-01                                3.82   \n1990-02                                3.59   \n1990-03                                3.10   \n1990-04                                2.98   \n...                                     ...   \n2020-05                                1.22   \n2020-06                                1.23   \n2020-07                                1.19   \n2020-08                                1.28   \n2020-09                                1.28   \n\n         JAPAN-DS Market - PE RATIO 12M FWD  JAPAN-DS Market - MARKET VALUE  \\\nDate                                                                          \n1989-12                               40.88                       535950600   \n1990-01                               40.78                       513422800   \n1990-02                               38.91                       479338500   \n1990-03                               35.38                       418150400   \n1990-04                               30.98                       420146400   \n...                                     ...                             ...   \n2020-05                               14.54                       588487400   \n2020-06                               16.85                       586178800   \n2020-07                               17.35                       567044900   \n2020-08                               17.90                       609797100   \n2020-09                               17.92                       613872400   \n\n         JAPAN-DS Market - ROE  JAPAN-DS Market - TOTAL ASSETS  \\\nDate                                                             \n1989-12                   8.35                    3.378970e+11   \n1990-01                   8.23                    3.407350e+11   \n1990-02                   8.22                    3.410670e+11   \n1990-03                   8.23                    3.411190e+11   \n1990-04                   7.91                    3.998830e+11   \n...                        ...                             ...   \n2020-05                   6.42                    2.969930e+12   \n2020-06                   5.06                    3.028680e+12   \n2020-07                   5.05                    3.028840e+12   \n2020-08                   5.03                    3.028970e+12   \n2020-09                   4.68                    3.070080e+12   \n\n         JAPAN-DS Market - NET DEBT  ...  \\\nDate                                 ...   \n1989-12                6.317994e+10  ...   \n1990-01                6.325462e+10  ...   \n1990-02                6.319519e+10  ...   \n1990-03                6.319455e+10  ...   \n1990-04                6.928813e+10  ...   \n...                             ...  ...   \n2020-05                5.128516e+09  ...   \n2020-06               -1.295236e+10  ...   \n2020-07               -1.288441e+10  ...   \n2020-08               -1.414199e+10  ...   \n2020-09               -3.557344e+10  ...   \n\n         NIKKEI STOCK AVERAGE VOLATILITY INDEX - PRICE INDEX  \\\nDate                                                           \n1989-12                                              20.32     \n1990-01                                              17.56     \n1990-02                                              15.92     \n1990-03                                              28.07     \n1990-04                                              55.05     \n...                                                    ...     \n2020-05                                              27.60     \n2020-06                                              29.12     \n2020-07                                              25.96     \n2020-08                                              22.99     \n2020-09                                              23.70     \n\n         JP ISSUES: CORPORATE STRAIGHT BONDS CURN  \\\nDate                                                \n1989-12                                     15000   \n1990-01                                         0   \n1990-02                                    144000   \n1990-03                                    120000   \n1990-04                                    310000   \n...                                           ...   \n2020-05                                    681000   \n2020-06                                   1910700   \n2020-07                                   2543300   \n2020-08                                    256500   \n2020-09                                   1854700   \n\n         JP STOCKS: PUBLIC OFFERINGS - AMOUNT RAISED CURN  \\\nDate                                                        \n1989-12                                          13236.45   \n1990-01                                           3668.14   \n1990-02                                           4862.99   \n1990-03                                           7573.41   \n1990-04                                           1176.16   \n...                                                   ...   \n2020-05                                              0.00   \n2020-06                                             58.64   \n2020-07                                            567.57   \n2020-08                                             52.56   \n2020-09                                            886.94   \n\n         JP OVERNIGHT UNCOLLATERISED CALL MONEY RATE (AVG.) NADJ  \\\nDate                                                               \n1989-12                                             6.4480         \n1990-01                                             6.5810         \n1990-02                                             6.6430         \n1990-03                                             6.8170         \n1990-04                                             7.1630         \n...                                                    ...         \n2020-05                                            -0.0015         \n2020-06                                            -0.0015         \n2020-07                                            -0.0015         \n2020-08                                            -0.0015         \n2020-09                                            -0.0015         \n\n         JP CPI: NATIONAL MEASURE - ANNUAL INFLATION RATE NADJ  \\\nDate                                                             \n1989-12                                               2.64       \n1990-01                                               3.34       \n1990-02                                               3.82       \n1990-03                                               3.56       \n1990-04                                               2.71       \n...                                                    ...       \n2020-05                                               0.00       \n2020-06                                               0.10       \n2020-07                                               0.30       \n2020-08                                               0.20       \n2020-09                                               0.10       \n\n         JP MONEY SUPPLY: M2 (METHO-BREAK, APR. 2003) CURA  \\\nDate                                                         \n1989-12                                           455632.2   \n1990-01                                           461555.6   \n1990-02                                           469357.7   \n1990-03                                           471653.1   \n1990-04                                           479005.5   \n...                                                    ...   \n2020-05                                          1077196.9   \n2020-06                                          1099866.6   \n2020-07                                          1108556.4   \n2020-08                                          1118419.7   \n2020-09                                          1125114.4   \n\n         JP JAPANESE YEN TO US $ NADJ  JP PETROLEUM: CONSUMPTION VOLN  \\\nDate                                                                    \n1989-12                      143.7079                         6252.45   \n1990-01                      144.9468                         5702.94   \n1990-02                      145.6150                         6045.61   \n1990-03                      153.1964                         5666.58   \n1990-04                      158.3026                         4826.67   \n...                               ...                             ...   \n2020-05                      107.2668                         2728.10   \n2020-06                      107.6050                         2860.43   \n2020-07                      106.7357                         2981.48   \n2020-08                      106.0465                         3037.23   \n2020-09                      105.6116                         3059.70   \n\n         JP UNEMPLOYMENT RATE (METHO BREAK OCT 2010) SADJ  \\\nDate                                                        \n1989-12                                               2.1   \n1990-01                                               2.2   \n1990-02                                               2.2   \n1990-03                                               2.0   \n1990-04                                               2.1   \n...                                                   ...   \n2020-05                                               2.9   \n2020-06                                               2.8   \n2020-07                                               2.9   \n2020-08                                               3.0   \n2020-09                                               3.0   \n\n         JP INDUSTRIAL PRODUCTION - MINING & MANUFACTURING VOLA  \nDate                                                             \n1989-12                                              104.4       \n1990-01                                              103.5       \n1990-02                                              104.4       \n1990-03                                              106.4       \n1990-04                                              106.4       \n...                                                    ...       \n2020-05                                               78.7       \n2020-06                                               80.2       \n2020-07                                               87.2       \n2020-08                                               88.1       \n2020-09                                               91.5       \n\n[370 rows x 21 columns]",
      "text/html": "<div>\n<style scoped>\n    .dataframe tbody tr th:only-of-type {\n        vertical-align: middle;\n    }\n\n    .dataframe tbody tr th {\n        vertical-align: top;\n    }\n\n    .dataframe thead th {\n        text-align: right;\n    }\n</style>\n<table border=\"1\" class=\"dataframe\">\n  <thead>\n    <tr style=\"text-align: right;\">\n      <th></th>\n      <th>JAPAN-DS Market - DIVIDEND YIELD</th>\n      <th>JAPAN-DS Market - PRICE INDEX</th>\n      <th>JAPAN-DS Market - TOT RETURN IND</th>\n      <th>JAPAN-DS Market - PER</th>\n      <th>JAPAN-DS Market - PRICE/BOOK RATIO</th>\n      <th>JAPAN-DS Market - PE RATIO 12M FWD</th>\n      <th>JAPAN-DS Market - MARKET VALUE</th>\n      <th>JAPAN-DS Market - ROE</th>\n      <th>JAPAN-DS Market - TOTAL ASSETS</th>\n      <th>JAPAN-DS Market - NET DEBT</th>\n      <th>...</th>\n      <th>NIKKEI STOCK AVERAGE VOLATILITY INDEX - PRICE INDEX</th>\n      <th>JP ISSUES: CORPORATE STRAIGHT BONDS CURN</th>\n      <th>JP STOCKS: PUBLIC OFFERINGS - AMOUNT RAISED CURN</th>\n      <th>JP OVERNIGHT UNCOLLATERISED CALL MONEY RATE (AVG.) NADJ</th>\n      <th>JP CPI: NATIONAL MEASURE - ANNUAL INFLATION RATE NADJ</th>\n      <th>JP MONEY SUPPLY: M2 (METHO-BREAK, APR. 2003) CURA</th>\n      <th>JP JAPANESE YEN TO US $ NADJ</th>\n      <th>JP PETROLEUM: CONSUMPTION VOLN</th>\n      <th>JP UNEMPLOYMENT RATE (METHO BREAK OCT 2010) SADJ</th>\n      <th>JP INDUSTRIAL PRODUCTION - MINING &amp; MANUFACTURING VOLA</th>\n    </tr>\n    <tr>\n      <th>Date</th>\n      <th></th>\n      <th></th>\n      <th></th>\n      <th></th>\n      <th></th>\n      <th></th>\n      <th></th>\n      <th></th>\n      <th></th>\n      <th></th>\n      <th></th>\n      <th></th>\n      <th></th>\n      <th></th>\n      <th></th>\n      <th></th>\n      <th></th>\n      <th></th>\n      <th></th>\n      <th></th>\n      <th></th>\n    </tr>\n  </thead>\n  <tbody>\n    <tr>\n      <th>1989-12</th>\n      <td>0.43</td>\n      <td>768.21</td>\n      <td>1007.32</td>\n      <td>60.6</td>\n      <td>4.05</td>\n      <td>40.88</td>\n      <td>535950600</td>\n      <td>8.35</td>\n      <td>3.378970e+11</td>\n      <td>6.317994e+10</td>\n      <td>...</td>\n      <td>20.32</td>\n      <td>15000</td>\n      <td>13236.45</td>\n      <td>6.4480</td>\n      <td>2.64</td>\n      <td>455632.2</td>\n      <td>143.7079</td>\n      <td>6252.45</td>\n      <td>2.1</td>\n      <td>104.4</td>\n    </tr>\n    <tr>\n      <th>1990-01</th>\n      <td>0.45</td>\n      <td>730.66</td>\n      <td>958.47</td>\n      <td>57.4</td>\n      <td>3.82</td>\n      <td>40.78</td>\n      <td>513422800</td>\n      <td>8.23</td>\n      <td>3.407350e+11</td>\n      <td>6.325462e+10</td>\n      <td>...</td>\n      <td>17.56</td>\n      <td>0</td>\n      <td>3668.14</td>\n      <td>6.5810</td>\n      <td>3.34</td>\n      <td>461555.6</td>\n      <td>144.9468</td>\n      <td>5702.94</td>\n      <td>2.2</td>\n      <td>103.5</td>\n    </tr>\n    <tr>\n      <th>1990-02</th>\n      <td>0.49</td>\n      <td>681.56</td>\n      <td>894.37</td>\n      <td>53.3</td>\n      <td>3.59</td>\n      <td>38.91</td>\n      <td>479338500</td>\n      <td>8.22</td>\n      <td>3.410670e+11</td>\n      <td>6.319519e+10</td>\n      <td>...</td>\n      <td>15.92</td>\n      <td>144000</td>\n      <td>4862.99</td>\n      <td>6.6430</td>\n      <td>3.82</td>\n      <td>469357.7</td>\n      <td>145.6150</td>\n      <td>6045.61</td>\n      <td>2.2</td>\n      <td>104.4</td>\n    </tr>\n    <tr>\n      <th>1990-03</th>\n      <td>0.56</td>\n      <td>593.94</td>\n      <td>779.75</td>\n      <td>46.5</td>\n      <td>3.10</td>\n      <td>35.38</td>\n      <td>418150400</td>\n      <td>8.23</td>\n      <td>3.411190e+11</td>\n      <td>6.319455e+10</td>\n      <td>...</td>\n      <td>28.07</td>\n      <td>120000</td>\n      <td>7573.41</td>\n      <td>6.8170</td>\n      <td>3.56</td>\n      <td>471653.1</td>\n      <td>153.1964</td>\n      <td>5666.58</td>\n      <td>2.0</td>\n      <td>106.4</td>\n    </tr>\n    <tr>\n      <th>1990-04</th>\n      <td>0.56</td>\n      <td>591.61</td>\n      <td>777.05</td>\n      <td>46.4</td>\n      <td>2.98</td>\n      <td>30.98</td>\n      <td>420146400</td>\n      <td>7.91</td>\n      <td>3.998830e+11</td>\n      <td>6.928813e+10</td>\n      <td>...</td>\n      <td>55.05</td>\n      <td>310000</td>\n      <td>1176.16</td>\n      <td>7.1630</td>\n      <td>2.71</td>\n      <td>479005.5</td>\n      <td>158.3026</td>\n      <td>4826.67</td>\n      <td>2.1</td>\n      <td>106.4</td>\n    </tr>\n    <tr>\n      <th>...</th>\n      <td>...</td>\n      <td>...</td>\n      <td>...</td>\n      <td>...</td>\n      <td>...</td>\n      <td>...</td>\n      <td>...</td>\n      <td>...</td>\n      <td>...</td>\n      <td>...</td>\n      <td>...</td>\n      <td>...</td>\n      <td>...</td>\n      <td>...</td>\n      <td>...</td>\n      <td>...</td>\n      <td>...</td>\n      <td>...</td>\n      <td>...</td>\n      <td>...</td>\n      <td>...</td>\n    </tr>\n    <tr>\n      <th>2020-05</th>\n      <td>2.47</td>\n      <td>496.02</td>\n      <td>980.89</td>\n      <td>16.8</td>\n      <td>1.22</td>\n      <td>14.54</td>\n      <td>588487400</td>\n      <td>6.42</td>\n      <td>2.969930e+12</td>\n      <td>5.128516e+09</td>\n      <td>...</td>\n      <td>27.60</td>\n      <td>681000</td>\n      <td>0.00</td>\n      <td>-0.0015</td>\n      <td>0.00</td>\n      <td>1077196.9</td>\n      <td>107.2668</td>\n      <td>2728.10</td>\n      <td>2.9</td>\n      <td>78.7</td>\n    </tr>\n    <tr>\n      <th>2020-06</th>\n      <td>2.48</td>\n      <td>495.02</td>\n      <td>980.94</td>\n      <td>16.9</td>\n      <td>1.23</td>\n      <td>16.85</td>\n      <td>586178800</td>\n      <td>5.06</td>\n      <td>3.028680e+12</td>\n      <td>-1.295236e+10</td>\n      <td>...</td>\n      <td>29.12</td>\n      <td>1910700</td>\n      <td>58.64</td>\n      <td>-0.0015</td>\n      <td>0.10</td>\n      <td>1099866.6</td>\n      <td>107.6050</td>\n      <td>2860.43</td>\n      <td>2.8</td>\n      <td>80.2</td>\n    </tr>\n    <tr>\n      <th>2020-07</th>\n      <td>2.54</td>\n      <td>476.77</td>\n      <td>946.83</td>\n      <td>17.1</td>\n      <td>1.19</td>\n      <td>17.35</td>\n      <td>567044900</td>\n      <td>5.05</td>\n      <td>3.028840e+12</td>\n      <td>-1.288441e+10</td>\n      <td>...</td>\n      <td>25.96</td>\n      <td>2543300</td>\n      <td>567.57</td>\n      <td>-0.0015</td>\n      <td>0.30</td>\n      <td>1108556.4</td>\n      <td>106.7357</td>\n      <td>2981.48</td>\n      <td>2.9</td>\n      <td>87.2</td>\n    </tr>\n    <tr>\n      <th>2020-08</th>\n      <td>2.34</td>\n      <td>513.59</td>\n      <td>1021.91</td>\n      <td>20.3</td>\n      <td>1.28</td>\n      <td>17.90</td>\n      <td>609797100</td>\n      <td>5.03</td>\n      <td>3.028970e+12</td>\n      <td>-1.414199e+10</td>\n      <td>...</td>\n      <td>22.99</td>\n      <td>256500</td>\n      <td>52.56</td>\n      <td>-0.0015</td>\n      <td>0.20</td>\n      <td>1118419.7</td>\n      <td>106.0465</td>\n      <td>3037.23</td>\n      <td>3.0</td>\n      <td>88.1</td>\n    </tr>\n    <tr>\n      <th>2020-09</th>\n      <td>2.33</td>\n      <td>516.88</td>\n      <td>1030.48</td>\n      <td>20.4</td>\n      <td>1.28</td>\n      <td>17.92</td>\n      <td>613872400</td>\n      <td>4.68</td>\n      <td>3.070080e+12</td>\n      <td>-3.557344e+10</td>\n      <td>...</td>\n      <td>23.70</td>\n      <td>1854700</td>\n      <td>886.94</td>\n      <td>-0.0015</td>\n      <td>0.10</td>\n      <td>1125114.4</td>\n      <td>105.6116</td>\n      <td>3059.70</td>\n      <td>3.0</td>\n      <td>91.5</td>\n    </tr>\n  </tbody>\n</table>\n<p>370 rows × 21 columns</p>\n</div>"
     },
     "execution_count": 178,
     "metadata": {},
     "output_type": "execute_result"
    }
   ],
   "source": [
    "monthlyIndex = df_maniplualtion('data/Monthly.csv')\n",
    "monthlyIndex"
   ],
   "metadata": {
    "collapsed": false
   }
  },
  {
   "cell_type": "markdown",
   "source": [
    "Change variable"
   ],
   "metadata": {
    "collapsed": false
   }
  },
  {
   "cell_type": "code",
   "execution_count": 179,
   "outputs": [
    {
     "data": {
      "text/plain": "         JAPAN-DS Market - DIVIDEND YIELD  JAPAN-DS Market - PRICE INDEX  \\\nDate                                                                       \n1989-11                              0.44                         755.76   \n1989-12                              0.43                         768.21   \n1990-01                              0.45                         730.66   \n1990-02                              0.49                         681.56   \n1990-03                              0.56                         593.94   \n...                                   ...                            ...   \n2020-05                              2.47                         496.02   \n2020-06                              2.48                         495.02   \n2020-07                              2.54                         476.77   \n2020-08                              2.34                         513.59   \n2020-09                              2.33                         516.88   \n\n         JAPAN-DS Market - TOT RETURN IND  JAPAN-DS Market - MARKET VALUE  \\\nDate                                                                        \n1989-11                            990.66                       525260000   \n1989-12                           1007.32                       535950600   \n1990-01                            958.47                       513422800   \n1990-02                            894.37                       479338500   \n1990-03                            779.75                       418150400   \n...                                   ...                             ...   \n2020-05                            980.89                       588487400   \n2020-06                            980.94                       586178800   \n2020-07                            946.83                       567044900   \n2020-08                           1021.91                       609797100   \n2020-09                           1030.48                       613872400   \n\n         US REFINERS ACQUISITION COST OF DOM. & IMPORTED CRUDE OIL CURN  \\\nDate                                                                      \n1989-11                                              18.39                \n1989-12                                              19.54                \n1990-01                                              20.64                \n1990-02                                              20.31                \n1990-03                                              19.14                \n...                                                    ...                \n2020-05                                              23.84                \n2020-06                                              36.80                \n2020-07                                              40.07                \n2020-08                                              42.41                \n2020-09                                              39.83                \n\n         WD CRUDE OIL PRODUCTION - WORLD VOLN  \\\nDate                                            \n1989-11                             53478.675   \n1989-12                             53091.781   \n1990-01                             52775.965   \n1990-02                             52968.492   \n1990-03                             53715.599   \n...                                       ...   \n2020-05                             71450.412   \n2020-06                             70323.206   \n2020-07                             71584.837   \n2020-08                             72715.275   \n2020-09                             72588.907   \n\n         JP INDUSTRIAL PRODUCTION - MINING & MANUFACTURING VOLA  \\\nDate                                                              \n1989-11                                              104.0        \n1989-12                                              104.4        \n1990-01                                              103.5        \n1990-02                                              104.4        \n1990-03                                              106.4        \n...                                                    ...        \n2020-05                                               78.7        \n2020-06                                               80.2        \n2020-07                                               87.2        \n2020-08                                               88.1        \n2020-09                                               91.5        \n\n         NIKKEI STOCK AVERAGE VOLATILITY INDEX - PRICE INDEX  \\\nDate                                                           \n1989-11                                               8.68     \n1989-12                                              20.32     \n1990-01                                              17.56     \n1990-02                                              15.92     \n1990-03                                              28.07     \n...                                                    ...     \n2020-05                                              27.60     \n2020-06                                              29.12     \n2020-07                                              25.96     \n2020-08                                              22.99     \n2020-09                                              23.70     \n\n         JP UNEMPLOYMENT RATE (METHO BREAK OCT 2010) SADJ  \\\nDate                                                        \n1989-11                                               2.2   \n1989-12                                               2.1   \n1990-01                                               2.2   \n1990-02                                               2.2   \n1990-03                                               2.0   \n...                                                   ...   \n2020-05                                               2.9   \n2020-06                                               2.8   \n2020-07                                               2.9   \n2020-08                                               3.0   \n2020-09                                               3.0   \n\n         JP MONEY SUPPLY: M2 (METHO-BREAK, APR. 2003) CURA  \\\nDate                                                         \n1989-11                                           449496.1   \n1989-12                                           455632.2   \n1990-01                                           461555.6   \n1990-02                                           469357.7   \n1990-03                                           471653.1   \n...                                                    ...   \n2020-05                                          1077196.9   \n2020-06                                          1099866.6   \n2020-07                                          1108556.4   \n2020-08                                          1118419.7   \n2020-09                                          1125114.4   \n\n         JP PETROLEUM: CONSUMPTION VOLN  \nDate                                     \n1989-11                         5396.87  \n1989-12                         6252.45  \n1990-01                         5702.94  \n1990-02                         6045.61  \n1990-03                         5666.58  \n...                                 ...  \n2020-05                         2728.10  \n2020-06                         2860.43  \n2020-07                         2981.48  \n2020-08                         3037.23  \n2020-09                         3059.70  \n\n[371 rows x 11 columns]",
      "text/html": "<div>\n<style scoped>\n    .dataframe tbody tr th:only-of-type {\n        vertical-align: middle;\n    }\n\n    .dataframe tbody tr th {\n        vertical-align: top;\n    }\n\n    .dataframe thead th {\n        text-align: right;\n    }\n</style>\n<table border=\"1\" class=\"dataframe\">\n  <thead>\n    <tr style=\"text-align: right;\">\n      <th></th>\n      <th>JAPAN-DS Market - DIVIDEND YIELD</th>\n      <th>JAPAN-DS Market - PRICE INDEX</th>\n      <th>JAPAN-DS Market - TOT RETURN IND</th>\n      <th>JAPAN-DS Market - MARKET VALUE</th>\n      <th>US REFINERS ACQUISITION COST OF DOM. &amp; IMPORTED CRUDE OIL CURN</th>\n      <th>WD CRUDE OIL PRODUCTION - WORLD VOLN</th>\n      <th>JP INDUSTRIAL PRODUCTION - MINING &amp; MANUFACTURING VOLA</th>\n      <th>NIKKEI STOCK AVERAGE VOLATILITY INDEX - PRICE INDEX</th>\n      <th>JP UNEMPLOYMENT RATE (METHO BREAK OCT 2010) SADJ</th>\n      <th>JP MONEY SUPPLY: M2 (METHO-BREAK, APR. 2003) CURA</th>\n      <th>JP PETROLEUM: CONSUMPTION VOLN</th>\n    </tr>\n    <tr>\n      <th>Date</th>\n      <th></th>\n      <th></th>\n      <th></th>\n      <th></th>\n      <th></th>\n      <th></th>\n      <th></th>\n      <th></th>\n      <th></th>\n      <th></th>\n      <th></th>\n    </tr>\n  </thead>\n  <tbody>\n    <tr>\n      <th>1989-11</th>\n      <td>0.44</td>\n      <td>755.76</td>\n      <td>990.66</td>\n      <td>525260000</td>\n      <td>18.39</td>\n      <td>53478.675</td>\n      <td>104.0</td>\n      <td>8.68</td>\n      <td>2.2</td>\n      <td>449496.1</td>\n      <td>5396.87</td>\n    </tr>\n    <tr>\n      <th>1989-12</th>\n      <td>0.43</td>\n      <td>768.21</td>\n      <td>1007.32</td>\n      <td>535950600</td>\n      <td>19.54</td>\n      <td>53091.781</td>\n      <td>104.4</td>\n      <td>20.32</td>\n      <td>2.1</td>\n      <td>455632.2</td>\n      <td>6252.45</td>\n    </tr>\n    <tr>\n      <th>1990-01</th>\n      <td>0.45</td>\n      <td>730.66</td>\n      <td>958.47</td>\n      <td>513422800</td>\n      <td>20.64</td>\n      <td>52775.965</td>\n      <td>103.5</td>\n      <td>17.56</td>\n      <td>2.2</td>\n      <td>461555.6</td>\n      <td>5702.94</td>\n    </tr>\n    <tr>\n      <th>1990-02</th>\n      <td>0.49</td>\n      <td>681.56</td>\n      <td>894.37</td>\n      <td>479338500</td>\n      <td>20.31</td>\n      <td>52968.492</td>\n      <td>104.4</td>\n      <td>15.92</td>\n      <td>2.2</td>\n      <td>469357.7</td>\n      <td>6045.61</td>\n    </tr>\n    <tr>\n      <th>1990-03</th>\n      <td>0.56</td>\n      <td>593.94</td>\n      <td>779.75</td>\n      <td>418150400</td>\n      <td>19.14</td>\n      <td>53715.599</td>\n      <td>106.4</td>\n      <td>28.07</td>\n      <td>2.0</td>\n      <td>471653.1</td>\n      <td>5666.58</td>\n    </tr>\n    <tr>\n      <th>...</th>\n      <td>...</td>\n      <td>...</td>\n      <td>...</td>\n      <td>...</td>\n      <td>...</td>\n      <td>...</td>\n      <td>...</td>\n      <td>...</td>\n      <td>...</td>\n      <td>...</td>\n      <td>...</td>\n    </tr>\n    <tr>\n      <th>2020-05</th>\n      <td>2.47</td>\n      <td>496.02</td>\n      <td>980.89</td>\n      <td>588487400</td>\n      <td>23.84</td>\n      <td>71450.412</td>\n      <td>78.7</td>\n      <td>27.60</td>\n      <td>2.9</td>\n      <td>1077196.9</td>\n      <td>2728.10</td>\n    </tr>\n    <tr>\n      <th>2020-06</th>\n      <td>2.48</td>\n      <td>495.02</td>\n      <td>980.94</td>\n      <td>586178800</td>\n      <td>36.80</td>\n      <td>70323.206</td>\n      <td>80.2</td>\n      <td>29.12</td>\n      <td>2.8</td>\n      <td>1099866.6</td>\n      <td>2860.43</td>\n    </tr>\n    <tr>\n      <th>2020-07</th>\n      <td>2.54</td>\n      <td>476.77</td>\n      <td>946.83</td>\n      <td>567044900</td>\n      <td>40.07</td>\n      <td>71584.837</td>\n      <td>87.2</td>\n      <td>25.96</td>\n      <td>2.9</td>\n      <td>1108556.4</td>\n      <td>2981.48</td>\n    </tr>\n    <tr>\n      <th>2020-08</th>\n      <td>2.34</td>\n      <td>513.59</td>\n      <td>1021.91</td>\n      <td>609797100</td>\n      <td>42.41</td>\n      <td>72715.275</td>\n      <td>88.1</td>\n      <td>22.99</td>\n      <td>3.0</td>\n      <td>1118419.7</td>\n      <td>3037.23</td>\n    </tr>\n    <tr>\n      <th>2020-09</th>\n      <td>2.33</td>\n      <td>516.88</td>\n      <td>1030.48</td>\n      <td>613872400</td>\n      <td>39.83</td>\n      <td>72588.907</td>\n      <td>91.5</td>\n      <td>23.70</td>\n      <td>3.0</td>\n      <td>1125114.4</td>\n      <td>3059.70</td>\n    </tr>\n  </tbody>\n</table>\n<p>371 rows × 11 columns</p>\n</div>"
     },
     "execution_count": 179,
     "metadata": {},
     "output_type": "execute_result"
    }
   ],
   "source": [
    "changeVariables = df_maniplualtion('data/changeVariable.csv')\n",
    "changeVariables"
   ],
   "metadata": {
    "collapsed": false
   }
  },
  {
   "cell_type": "markdown",
   "source": [
    "Smoothed 10 years earnings to price ratio"
   ],
   "metadata": {
    "collapsed": false
   }
  },
  {
   "cell_type": "code",
   "execution_count": 180,
   "outputs": [
    {
     "data": {
      "text/plain": "         JAPAN-DS Market - PER  JAPAN-DS Market - PRICE INDEX  \\\nDate                                                            \n1979-12                   20.2                         118.31   \n1980-01                   20.5                         120.37   \n1980-02                   20.4                         120.00   \n1980-03                   19.6                         116.55   \n1980-04                   19.9                         120.00   \n...                        ...                            ...   \n2020-05                   16.8                         496.02   \n2020-06                   16.9                         495.02   \n2020-07                   17.1                         476.77   \n2020-08                   20.3                         513.59   \n2020-09                   20.4                         516.88   \n\n         JAPAN-DS Market - TOT RETURN IND  JAPAN-DS Market - DIVIDEND YIELD  \nDate                                                                         \n1979-12                            138.41                              1.89  \n1980-01                            141.06                              1.85  \n1980-02                            140.83                              1.82  \n1980-03                            136.99                              1.90  \n1980-04                            141.28                              1.86  \n...                                   ...                               ...  \n2020-05                            980.89                              2.47  \n2020-06                            980.94                              2.48  \n2020-07                            946.83                              2.54  \n2020-08                           1021.91                              2.34  \n2020-09                           1030.48                              2.33  \n\n[490 rows x 4 columns]",
      "text/html": "<div>\n<style scoped>\n    .dataframe tbody tr th:only-of-type {\n        vertical-align: middle;\n    }\n\n    .dataframe tbody tr th {\n        vertical-align: top;\n    }\n\n    .dataframe thead th {\n        text-align: right;\n    }\n</style>\n<table border=\"1\" class=\"dataframe\">\n  <thead>\n    <tr style=\"text-align: right;\">\n      <th></th>\n      <th>JAPAN-DS Market - PER</th>\n      <th>JAPAN-DS Market - PRICE INDEX</th>\n      <th>JAPAN-DS Market - TOT RETURN IND</th>\n      <th>JAPAN-DS Market - DIVIDEND YIELD</th>\n    </tr>\n    <tr>\n      <th>Date</th>\n      <th></th>\n      <th></th>\n      <th></th>\n      <th></th>\n    </tr>\n  </thead>\n  <tbody>\n    <tr>\n      <th>1979-12</th>\n      <td>20.2</td>\n      <td>118.31</td>\n      <td>138.41</td>\n      <td>1.89</td>\n    </tr>\n    <tr>\n      <th>1980-01</th>\n      <td>20.5</td>\n      <td>120.37</td>\n      <td>141.06</td>\n      <td>1.85</td>\n    </tr>\n    <tr>\n      <th>1980-02</th>\n      <td>20.4</td>\n      <td>120.00</td>\n      <td>140.83</td>\n      <td>1.82</td>\n    </tr>\n    <tr>\n      <th>1980-03</th>\n      <td>19.6</td>\n      <td>116.55</td>\n      <td>136.99</td>\n      <td>1.90</td>\n    </tr>\n    <tr>\n      <th>1980-04</th>\n      <td>19.9</td>\n      <td>120.00</td>\n      <td>141.28</td>\n      <td>1.86</td>\n    </tr>\n    <tr>\n      <th>...</th>\n      <td>...</td>\n      <td>...</td>\n      <td>...</td>\n      <td>...</td>\n    </tr>\n    <tr>\n      <th>2020-05</th>\n      <td>16.8</td>\n      <td>496.02</td>\n      <td>980.89</td>\n      <td>2.47</td>\n    </tr>\n    <tr>\n      <th>2020-06</th>\n      <td>16.9</td>\n      <td>495.02</td>\n      <td>980.94</td>\n      <td>2.48</td>\n    </tr>\n    <tr>\n      <th>2020-07</th>\n      <td>17.1</td>\n      <td>476.77</td>\n      <td>946.83</td>\n      <td>2.54</td>\n    </tr>\n    <tr>\n      <th>2020-08</th>\n      <td>20.3</td>\n      <td>513.59</td>\n      <td>1021.91</td>\n      <td>2.34</td>\n    </tr>\n    <tr>\n      <th>2020-09</th>\n      <td>20.4</td>\n      <td>516.88</td>\n      <td>1030.48</td>\n      <td>2.33</td>\n    </tr>\n  </tbody>\n</table>\n<p>490 rows × 4 columns</p>\n</div>"
     },
     "execution_count": 180,
     "metadata": {},
     "output_type": "execute_result"
    }
   ],
   "source": [
    "smoothedEP = df_maniplualtion('data/smoothedPE.csv')\n",
    "smoothedEP"
   ],
   "metadata": {
    "collapsed": false
   }
  },
  {
   "cell_type": "markdown",
   "source": [
    "Variance data frame, I don't use df_manipulation function because we need day information."
   ],
   "metadata": {
    "collapsed": false
   }
  },
  {
   "cell_type": "code",
   "execution_count": 181,
   "outputs": [
    {
     "data": {
      "text/plain": "               var\nDate              \n1989-11-30  755.76\n1989-12-01  752.46\n1989-12-04  756.28\n1989-12-05  759.63\n1989-12-06  764.02\n...            ...\n2020-09-24  515.01\n2020-09-25  517.64\n2020-09-28  525.94\n2020-09-29  525.63\n2020-09-30  516.88\n\n[8045 rows x 1 columns]",
      "text/html": "<div>\n<style scoped>\n    .dataframe tbody tr th:only-of-type {\n        vertical-align: middle;\n    }\n\n    .dataframe tbody tr th {\n        vertical-align: top;\n    }\n\n    .dataframe thead th {\n        text-align: right;\n    }\n</style>\n<table border=\"1\" class=\"dataframe\">\n  <thead>\n    <tr style=\"text-align: right;\">\n      <th></th>\n      <th>var</th>\n    </tr>\n    <tr>\n      <th>Date</th>\n      <th></th>\n    </tr>\n  </thead>\n  <tbody>\n    <tr>\n      <th>1989-11-30</th>\n      <td>755.76</td>\n    </tr>\n    <tr>\n      <th>1989-12-01</th>\n      <td>752.46</td>\n    </tr>\n    <tr>\n      <th>1989-12-04</th>\n      <td>756.28</td>\n    </tr>\n    <tr>\n      <th>1989-12-05</th>\n      <td>759.63</td>\n    </tr>\n    <tr>\n      <th>1989-12-06</th>\n      <td>764.02</td>\n    </tr>\n    <tr>\n      <th>...</th>\n      <td>...</td>\n    </tr>\n    <tr>\n      <th>2020-09-24</th>\n      <td>515.01</td>\n    </tr>\n    <tr>\n      <th>2020-09-25</th>\n      <td>517.64</td>\n    </tr>\n    <tr>\n      <th>2020-09-28</th>\n      <td>525.94</td>\n    </tr>\n    <tr>\n      <th>2020-09-29</th>\n      <td>525.63</td>\n    </tr>\n    <tr>\n      <th>2020-09-30</th>\n      <td>516.88</td>\n    </tr>\n  </tbody>\n</table>\n<p>8045 rows × 1 columns</p>\n</div>"
     },
     "execution_count": 181,
     "metadata": {},
     "output_type": "execute_result"
    }
   ],
   "source": [
    "stockVariance = pd.read_csv('data/stockVar.csv')\n",
    "stockVariance = stockVariance.rename(columns={\"Name\": \"Date\"})\n",
    "stockVariance[\"Date\"] = pd.to_datetime(stockVariance[\"Date\"], format=\"%d/%m/%Y\")\n",
    "stockVariance.set_index('Date', inplace=True)\n",
    "\n",
    "stockVariance = stockVariance.rename(columns={\"JAPAN-DS Market - PRICE INDEX\": \"var\"})\n",
    "stockVariance"
   ],
   "metadata": {
    "collapsed": false
   }
  },
  {
   "cell_type": "markdown",
   "source": [
    "Net equity expansion"
   ],
   "metadata": {
    "collapsed": false
   }
  },
  {
   "cell_type": "code",
   "execution_count": 182,
   "outputs": [
    {
     "data": {
      "text/plain": "         JAPAN-DS Market - MARKET VALUE  JAPAN-DS Market - PRICE INDEX\nDate                                                                  \n1988-10                       388626200                         585.76\n1988-11                       416910600                         626.23\n1988-12                       431281700                         645.93\n1989-01                       452533200                         673.61\n1989-02                       448808700                         665.72\n...                                 ...                            ...\n2020-05                       588487400                         496.02\n2020-06                       586178800                         495.02\n2020-07                       582071600                         489.43\n2020-08                       606329300                         509.77\n2020-09                       613872400                         516.88\n\n[384 rows x 2 columns]",
      "text/html": "<div>\n<style scoped>\n    .dataframe tbody tr th:only-of-type {\n        vertical-align: middle;\n    }\n\n    .dataframe tbody tr th {\n        vertical-align: top;\n    }\n\n    .dataframe thead th {\n        text-align: right;\n    }\n</style>\n<table border=\"1\" class=\"dataframe\">\n  <thead>\n    <tr style=\"text-align: right;\">\n      <th></th>\n      <th>JAPAN-DS Market - MARKET VALUE</th>\n      <th>JAPAN-DS Market - PRICE INDEX</th>\n    </tr>\n    <tr>\n      <th>Date</th>\n      <th></th>\n      <th></th>\n    </tr>\n  </thead>\n  <tbody>\n    <tr>\n      <th>1988-10</th>\n      <td>388626200</td>\n      <td>585.76</td>\n    </tr>\n    <tr>\n      <th>1988-11</th>\n      <td>416910600</td>\n      <td>626.23</td>\n    </tr>\n    <tr>\n      <th>1988-12</th>\n      <td>431281700</td>\n      <td>645.93</td>\n    </tr>\n    <tr>\n      <th>1989-01</th>\n      <td>452533200</td>\n      <td>673.61</td>\n    </tr>\n    <tr>\n      <th>1989-02</th>\n      <td>448808700</td>\n      <td>665.72</td>\n    </tr>\n    <tr>\n      <th>...</th>\n      <td>...</td>\n      <td>...</td>\n    </tr>\n    <tr>\n      <th>2020-05</th>\n      <td>588487400</td>\n      <td>496.02</td>\n    </tr>\n    <tr>\n      <th>2020-06</th>\n      <td>586178800</td>\n      <td>495.02</td>\n    </tr>\n    <tr>\n      <th>2020-07</th>\n      <td>582071600</td>\n      <td>489.43</td>\n    </tr>\n    <tr>\n      <th>2020-08</th>\n      <td>606329300</td>\n      <td>509.77</td>\n    </tr>\n    <tr>\n      <th>2020-09</th>\n      <td>613872400</td>\n      <td>516.88</td>\n    </tr>\n  </tbody>\n</table>\n<p>384 rows × 2 columns</p>\n</div>"
     },
     "execution_count": 182,
     "metadata": {},
     "output_type": "execute_result"
    }
   ],
   "source": [
    "netIssue = df_maniplualtion('data/netEquExp.csv')\n",
    "netIssue"
   ],
   "metadata": {
    "collapsed": false
   }
  },
  {
   "cell_type": "code",
   "execution_count": 183,
   "outputs": [
    {
     "data": {
      "text/plain": "                0\nDate             \n1989-12       NaN\n1990-01 -0.053979\n1990-02 -0.072413\n1990-03 -0.133838\n1990-04 -0.009432\n...           ...\n2020-05  0.071111\n2020-06  0.000052\n2020-07 -0.034772\n2020-08  0.079297\n2020-09  0.008388\n\n[370 rows x 1 columns]",
      "text/html": "<div>\n<style scoped>\n    .dataframe tbody tr th:only-of-type {\n        vertical-align: middle;\n    }\n\n    .dataframe tbody tr th {\n        vertical-align: top;\n    }\n\n    .dataframe thead th {\n        text-align: right;\n    }\n</style>\n<table border=\"1\" class=\"dataframe\">\n  <thead>\n    <tr style=\"text-align: right;\">\n      <th></th>\n      <th>0</th>\n    </tr>\n    <tr>\n      <th>Date</th>\n      <th></th>\n    </tr>\n  </thead>\n  <tbody>\n    <tr>\n      <th>1989-12</th>\n      <td>NaN</td>\n    </tr>\n    <tr>\n      <th>1990-01</th>\n      <td>-0.053979</td>\n    </tr>\n    <tr>\n      <th>1990-02</th>\n      <td>-0.072413</td>\n    </tr>\n    <tr>\n      <th>1990-03</th>\n      <td>-0.133838</td>\n    </tr>\n    <tr>\n      <th>1990-04</th>\n      <td>-0.009432</td>\n    </tr>\n    <tr>\n      <th>...</th>\n      <td>...</td>\n    </tr>\n    <tr>\n      <th>2020-05</th>\n      <td>0.071111</td>\n    </tr>\n    <tr>\n      <th>2020-06</th>\n      <td>0.000052</td>\n    </tr>\n    <tr>\n      <th>2020-07</th>\n      <td>-0.034772</td>\n    </tr>\n    <tr>\n      <th>2020-08</th>\n      <td>0.079297</td>\n    </tr>\n    <tr>\n      <th>2020-09</th>\n      <td>0.008388</td>\n    </tr>\n  </tbody>\n</table>\n<p>370 rows × 1 columns</p>\n</div>"
     },
     "execution_count": 183,
     "metadata": {},
     "output_type": "execute_result"
    }
   ],
   "source": [
    "notCompVwretd = pd.DataFrame(dependentVariable[\"JAPAN-DS Market - TOT RETURN IND\"].pct_change(1) - ((dependentVariable[\"JP OVERNIGHT UNCOLLATERISED CALL MONEY RATE (AVG.) NADJ\"]/100)/12))\n",
    "notCompVwretd"
   ],
   "metadata": {
    "collapsed": false
   }
  },
  {
   "cell_type": "markdown",
   "source": [
    "Excess market return following Li et al (2013) for regression: log(1+ret%) - log (1+tbill%)"
   ],
   "metadata": {
    "collapsed": false
   }
  },
  {
   "cell_type": "code",
   "execution_count": 184,
   "outputs": [
    {
     "name": "stderr",
     "output_type": "stream",
     "text": [
      "/Users/jessekeranen/PycharmProjects/pythonProject/venv/lib/python3.9/site-packages/pandas/core/arraylike.py:402: RuntimeWarning: invalid value encountered in log\n",
      "  result = getattr(ufunc, method)(*inputs, **kwargs)\n"
     ]
    },
    {
     "data": {
      "text/plain": "         totalReturnChange\nDate                      \n1990-01          -0.055180\n1990-02          -0.074739\n1990-03          -0.142811\n1990-04          -0.009420\n1990-05           0.087576\n...                    ...\n2020-05           0.068696\n2020-06           0.000052\n2020-07          -0.035390\n2020-08           0.076310\n2020-09           0.008353\n\n[369 rows x 1 columns]",
      "text/html": "<div>\n<style scoped>\n    .dataframe tbody tr th:only-of-type {\n        vertical-align: middle;\n    }\n\n    .dataframe tbody tr th {\n        vertical-align: top;\n    }\n\n    .dataframe thead th {\n        text-align: right;\n    }\n</style>\n<table border=\"1\" class=\"dataframe\">\n  <thead>\n    <tr style=\"text-align: right;\">\n      <th></th>\n      <th>totalReturnChange</th>\n    </tr>\n    <tr>\n      <th>Date</th>\n      <th></th>\n    </tr>\n  </thead>\n  <tbody>\n    <tr>\n      <th>1990-01</th>\n      <td>-0.055180</td>\n    </tr>\n    <tr>\n      <th>1990-02</th>\n      <td>-0.074739</td>\n    </tr>\n    <tr>\n      <th>1990-03</th>\n      <td>-0.142811</td>\n    </tr>\n    <tr>\n      <th>1990-04</th>\n      <td>-0.009420</td>\n    </tr>\n    <tr>\n      <th>1990-05</th>\n      <td>0.087576</td>\n    </tr>\n    <tr>\n      <th>...</th>\n      <td>...</td>\n    </tr>\n    <tr>\n      <th>2020-05</th>\n      <td>0.068696</td>\n    </tr>\n    <tr>\n      <th>2020-06</th>\n      <td>0.000052</td>\n    </tr>\n    <tr>\n      <th>2020-07</th>\n      <td>-0.035390</td>\n    </tr>\n    <tr>\n      <th>2020-08</th>\n      <td>0.076310</td>\n    </tr>\n    <tr>\n      <th>2020-09</th>\n      <td>0.008353</td>\n    </tr>\n  </tbody>\n</table>\n<p>369 rows × 1 columns</p>\n</div>"
     },
     "execution_count": 184,
     "metadata": {},
     "output_type": "execute_result"
    }
   ],
   "source": [
    "dependentVariable[\"JAPAN-DS Market - TOT RETURN IND\"] = np.log(dependentVariable[\"JAPAN-DS Market - TOT RETURN IND\"]/dependentVariable[\"JAPAN-DS Market - TOT RETURN IND\"].shift(1))\n",
    "\n",
    "dependentVariable[\"JP OVERNIGHT UNCOLLATERISED CALL MONEY RATE (AVG.) NADJ\"] = np.log(1+(dependentVariable[\"JP OVERNIGHT UNCOLLATERISED CALL MONEY RATE (AVG.) NADJ\"]/100)/12)\n",
    "\n",
    "dependentVariable[\"JAPAN-DS Market - TOT RETURN IND\"] -= dependentVariable[\"JP OVERNIGHT UNCOLLATERISED CALL MONEY RATE (AVG.) NADJ\"]\n",
    "\n",
    "dependentVariable = dependentVariable.drop(columns=[\"JP OVERNIGHT UNCOLLATERISED CALL MONEY RATE (AVG.) NADJ\"])\n",
    "dependentVariable = dependentVariable.rename(columns={\"JAPAN-DS Market - TOT RETURN IND\": \"totalReturnChange\"})\n",
    "dependentVariable = dependentVariable.dropna()\n",
    "dependentVariable"
   ],
   "metadata": {
    "collapsed": false
   }
  },
  {
   "cell_type": "markdown",
   "source": [
    "Help variables for valuation ratios"
   ],
   "metadata": {
    "collapsed": false
   }
  },
  {
   "cell_type": "code",
   "execution_count": 185,
   "outputs": [],
   "source": [
    "dividends = monthlyIndex[\"JAPAN-DS Market - PRICE INDEX\"]/monthlyIndex[\"JAPAN-DS Market - TOT RETURN IND\"]\n",
    "price = dividends/monthlyIndex[\"JAPAN-DS Market - DIVIDEND YIELD\"]*100\n",
    "earnings = price/monthlyIndex[\"JAPAN-DS Market - PER\"]\n",
    "dividendPriceRatio = pd.DataFrame(monthlyIndex[\"JAPAN-DS Market - DIVIDEND YIELD\"]/100)\n",
    "bookToMarketRatio = 1/pd.DataFrame(monthlyIndex[\"JAPAN-DS Market - PRICE/BOOK RATIO\"])\n",
    "earningsToPriceRatio = 1/pd.DataFrame(monthlyIndex[\"JAPAN-DS Market - PER\"])"
   ],
   "metadata": {
    "collapsed": false
   }
  },
  {
   "cell_type": "markdown",
   "source": [
    "Volatility and variance variables"
   ],
   "metadata": {
    "collapsed": false
   }
  },
  {
   "cell_type": "code",
   "execution_count": 186,
   "outputs": [
    {
     "name": "stderr",
     "output_type": "stream",
     "text": [
      "/Users/jessekeranen/PycharmProjects/pythonProject/venv/lib/python3.9/site-packages/pandas/core/arraylike.py:402: RuntimeWarning: invalid value encountered in log\n",
      "  result = getattr(ufunc, method)(*inputs, **kwargs)\n"
     ]
    }
   ],
   "source": [
    "volatilityIndex = pd.DataFrame(np.log(1 + changeVariables[\"NIKKEI STOCK AVERAGE VOLATILITY INDEX - PRICE INDEX\"].diff() / changeVariables[\"NIKKEI STOCK AVERAGE VOLATILITY INDEX - PRICE INDEX\"].shift(1)))\n",
    "\n",
    "volatilityIndex = volatilityIndex.dropna()"
   ],
   "metadata": {
    "collapsed": false
   }
  },
  {
   "cell_type": "code",
   "execution_count": 187,
   "outputs": [
    {
     "data": {
      "text/plain": "                 var\nDate                \n1989-12-01 -0.004366\n1989-12-04  0.005077\n1989-12-05  0.004430\n1989-12-06  0.005779\n1989-12-07  0.005091\n...              ...\n2020-09-24 -0.010433\n2020-09-25  0.005107\n2020-09-28  0.016034\n2020-09-29 -0.000589\n2020-09-30 -0.016647\n\n[8044 rows x 1 columns]",
      "text/html": "<div>\n<style scoped>\n    .dataframe tbody tr th:only-of-type {\n        vertical-align: middle;\n    }\n\n    .dataframe tbody tr th {\n        vertical-align: top;\n    }\n\n    .dataframe thead th {\n        text-align: right;\n    }\n</style>\n<table border=\"1\" class=\"dataframe\">\n  <thead>\n    <tr style=\"text-align: right;\">\n      <th></th>\n      <th>var</th>\n    </tr>\n    <tr>\n      <th>Date</th>\n      <th></th>\n    </tr>\n  </thead>\n  <tbody>\n    <tr>\n      <th>1989-12-01</th>\n      <td>-0.004366</td>\n    </tr>\n    <tr>\n      <th>1989-12-04</th>\n      <td>0.005077</td>\n    </tr>\n    <tr>\n      <th>1989-12-05</th>\n      <td>0.004430</td>\n    </tr>\n    <tr>\n      <th>1989-12-06</th>\n      <td>0.005779</td>\n    </tr>\n    <tr>\n      <th>1989-12-07</th>\n      <td>0.005091</td>\n    </tr>\n    <tr>\n      <th>...</th>\n      <td>...</td>\n    </tr>\n    <tr>\n      <th>2020-09-24</th>\n      <td>-0.010433</td>\n    </tr>\n    <tr>\n      <th>2020-09-25</th>\n      <td>0.005107</td>\n    </tr>\n    <tr>\n      <th>2020-09-28</th>\n      <td>0.016034</td>\n    </tr>\n    <tr>\n      <th>2020-09-29</th>\n      <td>-0.000589</td>\n    </tr>\n    <tr>\n      <th>2020-09-30</th>\n      <td>-0.016647</td>\n    </tr>\n  </tbody>\n</table>\n<p>8044 rows × 1 columns</p>\n</div>"
     },
     "execution_count": 187,
     "metadata": {},
     "output_type": "execute_result"
    }
   ],
   "source": [
    "stockVariance = pd.DataFrame((stockVariance[\"var\"].diff() / stockVariance[\"var\"].shift(1)).dropna())\n",
    "stockVariance"
   ],
   "metadata": {
    "collapsed": false
   }
  },
  {
   "cell_type": "markdown",
   "source": [
    "Here my results differ a bit from Conway's results. Maybe we can discuss this next time we meet."
   ],
   "metadata": {
    "collapsed": false
   }
  },
  {
   "cell_type": "code",
   "execution_count": 188,
   "outputs": [
    {
     "data": {
      "text/plain": "              var\nDate             \n1989-12  0.000042\n1990-01  0.000051\n1990-02  0.000103\n1990-03  0.000172\n1990-04  0.000234\n...           ...\n2020-05  0.000161\n2020-06  0.000161\n2020-07  0.000161\n2020-08  0.000161\n2020-09  0.000161\n\n[370 rows x 1 columns]",
      "text/html": "<div>\n<style scoped>\n    .dataframe tbody tr th:only-of-type {\n        vertical-align: middle;\n    }\n\n    .dataframe tbody tr th {\n        vertical-align: top;\n    }\n\n    .dataframe thead th {\n        text-align: right;\n    }\n</style>\n<table border=\"1\" class=\"dataframe\">\n  <thead>\n    <tr style=\"text-align: right;\">\n      <th></th>\n      <th>var</th>\n    </tr>\n    <tr>\n      <th>Date</th>\n      <th></th>\n    </tr>\n  </thead>\n  <tbody>\n    <tr>\n      <th>1989-12</th>\n      <td>0.000042</td>\n    </tr>\n    <tr>\n      <th>1990-01</th>\n      <td>0.000051</td>\n    </tr>\n    <tr>\n      <th>1990-02</th>\n      <td>0.000103</td>\n    </tr>\n    <tr>\n      <th>1990-03</th>\n      <td>0.000172</td>\n    </tr>\n    <tr>\n      <th>1990-04</th>\n      <td>0.000234</td>\n    </tr>\n    <tr>\n      <th>...</th>\n      <td>...</td>\n    </tr>\n    <tr>\n      <th>2020-05</th>\n      <td>0.000161</td>\n    </tr>\n    <tr>\n      <th>2020-06</th>\n      <td>0.000161</td>\n    </tr>\n    <tr>\n      <th>2020-07</th>\n      <td>0.000161</td>\n    </tr>\n    <tr>\n      <th>2020-08</th>\n      <td>0.000161</td>\n    </tr>\n    <tr>\n      <th>2020-09</th>\n      <td>0.000161</td>\n    </tr>\n  </tbody>\n</table>\n<p>370 rows × 1 columns</p>\n</div>"
     },
     "execution_count": 188,
     "metadata": {},
     "output_type": "execute_result"
    }
   ],
   "source": [
    "stockVariance = stockVariance.rolling(8044, min_periods=2).var()\n",
    "stockVariance = stockVariance.loc[stockVariance.groupby(stockVariance.index.to_period('M')).apply(lambda x: x.index.max())]\n",
    "stockVariance.index = stockVariance.index.strftime('%Y-%m')\n",
    "stockVariance"
   ],
   "metadata": {
    "collapsed": false
   }
  },
  {
   "cell_type": "code",
   "execution_count": 189,
   "outputs": [
    {
     "data": {
      "text/plain": "                0\nDate             \n1990-01  0.002476\n1990-02  0.002691\n1990-03  0.003070\n1990-04  0.003065\n1990-05  0.002846\n...           ...\n2020-05  0.026802\n2020-06  0.027017\n2020-07  0.027828\n2020-08  0.025790\n2020-09  0.025828\n\n[369 rows x 1 columns]",
      "text/html": "<div>\n<style scoped>\n    .dataframe tbody tr th:only-of-type {\n        vertical-align: middle;\n    }\n\n    .dataframe tbody tr th {\n        vertical-align: top;\n    }\n\n    .dataframe thead th {\n        text-align: right;\n    }\n</style>\n<table border=\"1\" class=\"dataframe\">\n  <thead>\n    <tr style=\"text-align: right;\">\n      <th></th>\n      <th>0</th>\n    </tr>\n    <tr>\n      <th>Date</th>\n      <th></th>\n    </tr>\n  </thead>\n  <tbody>\n    <tr>\n      <th>1990-01</th>\n      <td>0.002476</td>\n    </tr>\n    <tr>\n      <th>1990-02</th>\n      <td>0.002691</td>\n    </tr>\n    <tr>\n      <th>1990-03</th>\n      <td>0.003070</td>\n    </tr>\n    <tr>\n      <th>1990-04</th>\n      <td>0.003065</td>\n    </tr>\n    <tr>\n      <th>1990-05</th>\n      <td>0.002846</td>\n    </tr>\n    <tr>\n      <th>...</th>\n      <td>...</td>\n    </tr>\n    <tr>\n      <th>2020-05</th>\n      <td>0.026802</td>\n    </tr>\n    <tr>\n      <th>2020-06</th>\n      <td>0.027017</td>\n    </tr>\n    <tr>\n      <th>2020-07</th>\n      <td>0.027828</td>\n    </tr>\n    <tr>\n      <th>2020-08</th>\n      <td>0.025790</td>\n    </tr>\n    <tr>\n      <th>2020-09</th>\n      <td>0.025828</td>\n    </tr>\n  </tbody>\n</table>\n<p>369 rows × 1 columns</p>\n</div>"
     },
     "execution_count": 189,
     "metadata": {},
     "output_type": "execute_result"
    }
   ],
   "source": [
    "sDividends = smoothedEP[\"JAPAN-DS Market - PRICE INDEX\"]/smoothedEP[\"JAPAN-DS Market - TOT RETURN IND\"]\n",
    "sPrice = sDividends/smoothedEP[\"JAPAN-DS Market - DIVIDEND YIELD\"]*100\n",
    "sEarnings = sPrice/smoothedEP[\"JAPAN-DS Market - PER\"]\n",
    "sEarnings = sEarnings.rolling(119).mean()\n",
    "smoothedEP = sEarnings.dropna()\n",
    "\n",
    "# Dates for December 1989 don't match in price and smoothedEP, so I change them manually.\n",
    "price1 = price.copy()\n",
    "price1.index.array[0] = '1989-12-29'\n",
    "\n",
    "smoothedEP = (1/price1/smoothedEP).dropna()\n",
    "\n",
    "# Small difference again, but not big\n",
    "smoothedEP = pd.DataFrame(smoothedEP)\n",
    "smoothedEP"
   ],
   "metadata": {
    "collapsed": false
   }
  },
  {
   "cell_type": "code",
   "execution_count": 190,
   "outputs": [],
   "source": [
    "percentEquityIssuing = pd.DataFrame(monthlyIndex[\"JP STOCKS: PUBLIC OFFERINGS - AMOUNT RAISED CURN\"]/(monthlyIndex[\"JP ISSUES: CORPORATE STRAIGHT BONDS CURN\"] + monthlyIndex[\"JP STOCKS: PUBLIC OFFERINGS - AMOUNT RAISED CURN\"]))\n",
    "percentEquityIssuing = pd.DataFrame(percentEquityIssuing.fillna(0))\n",
    "inflationRate = pd.DataFrame(monthlyIndex[\"JP CPI: NATIONAL MEASURE - ANNUAL INFLATION RATE NADJ\"]/100)"
   ],
   "metadata": {
    "collapsed": false
   }
  },
  {
   "cell_type": "code",
   "execution_count": 191,
   "outputs": [],
   "source": [
    "def change(x, column):\n",
    "    return pd.DataFrame((x[column].diff() / x[column].shift(1)).dropna())"
   ],
   "metadata": {
    "collapsed": false
   }
  },
  {
   "cell_type": "code",
   "execution_count": 192,
   "outputs": [],
   "source": [
    "realMoneySupply = change(changeVariables, \"JP MONEY SUPPLY: M2 (METHO-BREAK, APR. 2003) CURA\")\n",
    "petroleumConsumption = change(changeVariables, \"JP PETROLEUM: CONSUMPTION VOLN\")\n",
    "unemploymentRate = change(changeVariables, \"JP UNEMPLOYMENT RATE (METHO BREAK OCT 2010) SADJ\")\n",
    "industrialProduction = change(changeVariables, \"JP INDUSTRIAL PRODUCTION - MINING & MANUFACTURING VOLA\")\n",
    "crudeOilPriceChange = change(changeVariables, \"US REFINERS ACQUISITION COST OF DOM. & IMPORTED CRUDE OIL CURN\")\n",
    "crudeOilProduction = change(changeVariables, \"WD CRUDE OIL PRODUCTION - WORLD VOLN\")"
   ],
   "metadata": {
    "collapsed": false
   }
  },
  {
   "cell_type": "code",
   "execution_count": 193,
   "outputs": [
    {
     "data": {
      "text/plain": "                0\nDate             \n1989-01  0.012065\n1989-02  0.015677\n1989-03  0.018582\n1989-04  0.022132\n1989-05  0.024454\n...           ...\n2020-05 -0.008399\n2020-06 -0.010856\n2020-07 -0.006121\n2020-08 -0.005424\n2020-09 -0.005604\n\n[381 rows x 1 columns]",
      "text/html": "<div>\n<style scoped>\n    .dataframe tbody tr th:only-of-type {\n        vertical-align: middle;\n    }\n\n    .dataframe tbody tr th {\n        vertical-align: top;\n    }\n\n    .dataframe thead th {\n        text-align: right;\n    }\n</style>\n<table border=\"1\" class=\"dataframe\">\n  <thead>\n    <tr style=\"text-align: right;\">\n      <th></th>\n      <th>0</th>\n    </tr>\n    <tr>\n      <th>Date</th>\n      <th></th>\n    </tr>\n  </thead>\n  <tbody>\n    <tr>\n      <th>1989-01</th>\n      <td>0.012065</td>\n    </tr>\n    <tr>\n      <th>1989-02</th>\n      <td>0.015677</td>\n    </tr>\n    <tr>\n      <th>1989-03</th>\n      <td>0.018582</td>\n    </tr>\n    <tr>\n      <th>1989-04</th>\n      <td>0.022132</td>\n    </tr>\n    <tr>\n      <th>1989-05</th>\n      <td>0.024454</td>\n    </tr>\n    <tr>\n      <th>...</th>\n      <td>...</td>\n    </tr>\n    <tr>\n      <th>2020-05</th>\n      <td>-0.008399</td>\n    </tr>\n    <tr>\n      <th>2020-06</th>\n      <td>-0.010856</td>\n    </tr>\n    <tr>\n      <th>2020-07</th>\n      <td>-0.006121</td>\n    </tr>\n    <tr>\n      <th>2020-08</th>\n      <td>-0.005424</td>\n    </tr>\n    <tr>\n      <th>2020-09</th>\n      <td>-0.005604</td>\n    </tr>\n  </tbody>\n</table>\n<p>381 rows × 1 columns</p>\n</div>"
     },
     "execution_count": 193,
     "metadata": {},
     "output_type": "execute_result"
    }
   ],
   "source": [
    "mv = netIssue[\"JAPAN-DS Market - MARKET VALUE\"]\n",
    "\n",
    "temp9 = netIssue[\"JAPAN-DS Market - PRICE INDEX\"].diff() / netIssue[\"JAPAN-DS Market - PRICE INDEX\"].shift(1)\n",
    "netIssue = netIssue[\"JAPAN-DS Market - MARKET VALUE\"] - netIssue[\"JAPAN-DS Market - MARKET VALUE\"].shift(1)*(1+temp9)\n",
    "\n",
    "#Slight differences again, could be because of rolling functions\n",
    "netIssue = (netIssue.rolling(window=12, min_periods=3).sum()).dropna()\n",
    "netIssue = (netIssue/mv).dropna()\n",
    "netIssue = pd.DataFrame(netIssue)\n",
    "\n",
    "netIssue"
   ],
   "metadata": {
    "collapsed": false
   }
  },
  {
   "cell_type": "code",
   "execution_count": 194,
   "outputs": [
    {
     "name": "stderr",
     "output_type": "stream",
     "text": [
      "/Users/jessekeranen/PycharmProjects/pythonProject/venv/lib/python3.9/site-packages/pandas/core/arraylike.py:402: RuntimeWarning: invalid value encountered in log\n",
      "  result = getattr(ufunc, method)(*inputs, **kwargs)\n"
     ]
    },
    {
     "data": {
      "text/plain": "                0\nDate             \n1990-01 -2.329411\n1990-02 -2.263085\n1990-03 -2.257990\n1990-04 -2.333612\n1990-05 -2.258949\n...           ...\n2020-05 -2.065549\n2020-06 -2.065820\n2020-07 -2.111701\n2020-08 -2.078604\n2020-09 -2.095370\n\n[369 rows x 1 columns]",
      "text/html": "<div>\n<style scoped>\n    .dataframe tbody tr th:only-of-type {\n        vertical-align: middle;\n    }\n\n    .dataframe tbody tr th {\n        vertical-align: top;\n    }\n\n    .dataframe thead th {\n        text-align: right;\n    }\n</style>\n<table border=\"1\" class=\"dataframe\">\n  <thead>\n    <tr style=\"text-align: right;\">\n      <th></th>\n      <th>0</th>\n    </tr>\n    <tr>\n      <th>Date</th>\n      <th></th>\n    </tr>\n  </thead>\n  <tbody>\n    <tr>\n      <th>1990-01</th>\n      <td>-2.329411</td>\n    </tr>\n    <tr>\n      <th>1990-02</th>\n      <td>-2.263085</td>\n    </tr>\n    <tr>\n      <th>1990-03</th>\n      <td>-2.257990</td>\n    </tr>\n    <tr>\n      <th>1990-04</th>\n      <td>-2.333612</td>\n    </tr>\n    <tr>\n      <th>1990-05</th>\n      <td>-2.258949</td>\n    </tr>\n    <tr>\n      <th>...</th>\n      <td>...</td>\n    </tr>\n    <tr>\n      <th>2020-05</th>\n      <td>-2.065549</td>\n    </tr>\n    <tr>\n      <th>2020-06</th>\n      <td>-2.065820</td>\n    </tr>\n    <tr>\n      <th>2020-07</th>\n      <td>-2.111701</td>\n    </tr>\n    <tr>\n      <th>2020-08</th>\n      <td>-2.078604</td>\n    </tr>\n    <tr>\n      <th>2020-09</th>\n      <td>-2.095370</td>\n    </tr>\n  </tbody>\n</table>\n<p>369 rows × 1 columns</p>\n</div>"
     },
     "execution_count": 194,
     "metadata": {},
     "output_type": "execute_result"
    }
   ],
   "source": [
    "netPY = (monthlyIndex[\"JAPAN-DS Market - DIVIDEND YIELD\"]/100) + (((changeVariables[\"JAPAN-DS Market - MARKET VALUE\"].shift(1) * (changeVariables[\"JAPAN-DS Market - PRICE INDEX\"]/changeVariables[\"JAPAN-DS Market - PRICE INDEX\"].shift(1))) - changeVariables[\"JAPAN-DS Market - MARKET VALUE\"])/changeVariables[\"JAPAN-DS Market - MARKET VALUE\"])\n",
    "netPY = pd.DataFrame((np.log(0.1 + netPY)).dropna())\n",
    "netPY"
   ],
   "metadata": {
    "collapsed": false
   }
  },
  {
   "cell_type": "code",
   "execution_count": 195,
   "outputs": [],
   "source": [
    "def rollingmean(length):\n",
    "    temp = dependentVariable.rolling(length).mean().shift(-length)\n",
    "    temp[\"totalReturnChange\"] = temp[\"totalReturnChange\"].shift(1)\n",
    "    return pd.DataFrame(temp)"
   ],
   "metadata": {
    "collapsed": false
   }
  },
  {
   "cell_type": "code",
   "execution_count": 196,
   "outputs": [
    {
     "data": {
      "text/plain": "         totalReturnChange\nDate                      \n1990-01                NaN\n1990-02          -0.013811\n1990-03          -0.012198\n1990-04          -0.010192\n1990-05          -0.009574\n...                    ...\n2020-05                NaN\n2020-06                NaN\n2020-07                NaN\n2020-08                NaN\n2020-09                NaN\n\n[369 rows x 1 columns]",
      "text/html": "<div>\n<style scoped>\n    .dataframe tbody tr th:only-of-type {\n        vertical-align: middle;\n    }\n\n    .dataframe tbody tr th {\n        vertical-align: top;\n    }\n\n    .dataframe thead th {\n        text-align: right;\n    }\n</style>\n<table border=\"1\" class=\"dataframe\">\n  <thead>\n    <tr style=\"text-align: right;\">\n      <th></th>\n      <th>totalReturnChange</th>\n    </tr>\n    <tr>\n      <th>Date</th>\n      <th></th>\n    </tr>\n  </thead>\n  <tbody>\n    <tr>\n      <th>1990-01</th>\n      <td>NaN</td>\n    </tr>\n    <tr>\n      <th>1990-02</th>\n      <td>-0.013811</td>\n    </tr>\n    <tr>\n      <th>1990-03</th>\n      <td>-0.012198</td>\n    </tr>\n    <tr>\n      <th>1990-04</th>\n      <td>-0.010192</td>\n    </tr>\n    <tr>\n      <th>1990-05</th>\n      <td>-0.009574</td>\n    </tr>\n    <tr>\n      <th>...</th>\n      <td>...</td>\n    </tr>\n    <tr>\n      <th>2020-05</th>\n      <td>NaN</td>\n    </tr>\n    <tr>\n      <th>2020-06</th>\n      <td>NaN</td>\n    </tr>\n    <tr>\n      <th>2020-07</th>\n      <td>NaN</td>\n    </tr>\n    <tr>\n      <th>2020-08</th>\n      <td>NaN</td>\n    </tr>\n    <tr>\n      <th>2020-09</th>\n      <td>NaN</td>\n    </tr>\n  </tbody>\n</table>\n<p>369 rows × 1 columns</p>\n</div>"
     },
     "execution_count": 196,
     "metadata": {},
     "output_type": "execute_result"
    }
   ],
   "source": [
    "mk12 = rollingmean(12)\n",
    "mk24 = rollingmean(24)\n",
    "mk36 = rollingmean(36)\n",
    "mk48 = rollingmean(48)\n",
    "\n",
    "mk48"
   ],
   "metadata": {
    "collapsed": false
   }
  },
  {
   "cell_type": "markdown",
   "source": [
    "Fama and French factors"
   ],
   "metadata": {
    "collapsed": false
   }
  },
  {
   "cell_type": "code",
   "execution_count": 197,
   "outputs": [
    {
     "data": {
      "text/plain": "         Mkt-RF   SMB   HML   RMW   CMA    RF\nDate                                         \n1990-07    0.10  6.27  3.63  0.60  0.24  0.68\n1990-08  -11.88 -4.97  0.33  1.71 -0.96  0.66\n1990-09  -17.38  0.64  0.14 -1.12 -0.11  0.60\n1990-10   24.90  0.71 -4.55 -0.12  4.75  0.68\n1990-11  -14.12 -5.20 -0.20  3.86 -2.18  0.57\n...         ...   ...   ...   ...   ...   ...\n2022-06   -6.82  1.64  3.19 -2.00  1.61  0.06\n2022-07    5.67  0.63 -5.57  3.27 -2.44  0.08\n2022-08   -3.11  1.32  0.83 -0.99  0.61  0.19\n2022-09   -9.36  1.47  2.29 -2.26  3.08  0.19\n2022-10    1.95 -1.14 -3.09  1.30 -2.57  0.23\n\n[388 rows x 6 columns]",
      "text/html": "<div>\n<style scoped>\n    .dataframe tbody tr th:only-of-type {\n        vertical-align: middle;\n    }\n\n    .dataframe tbody tr th {\n        vertical-align: top;\n    }\n\n    .dataframe thead th {\n        text-align: right;\n    }\n</style>\n<table border=\"1\" class=\"dataframe\">\n  <thead>\n    <tr style=\"text-align: right;\">\n      <th></th>\n      <th>Mkt-RF</th>\n      <th>SMB</th>\n      <th>HML</th>\n      <th>RMW</th>\n      <th>CMA</th>\n      <th>RF</th>\n    </tr>\n    <tr>\n      <th>Date</th>\n      <th></th>\n      <th></th>\n      <th></th>\n      <th></th>\n      <th></th>\n      <th></th>\n    </tr>\n  </thead>\n  <tbody>\n    <tr>\n      <th>1990-07</th>\n      <td>0.10</td>\n      <td>6.27</td>\n      <td>3.63</td>\n      <td>0.60</td>\n      <td>0.24</td>\n      <td>0.68</td>\n    </tr>\n    <tr>\n      <th>1990-08</th>\n      <td>-11.88</td>\n      <td>-4.97</td>\n      <td>0.33</td>\n      <td>1.71</td>\n      <td>-0.96</td>\n      <td>0.66</td>\n    </tr>\n    <tr>\n      <th>1990-09</th>\n      <td>-17.38</td>\n      <td>0.64</td>\n      <td>0.14</td>\n      <td>-1.12</td>\n      <td>-0.11</td>\n      <td>0.60</td>\n    </tr>\n    <tr>\n      <th>1990-10</th>\n      <td>24.90</td>\n      <td>0.71</td>\n      <td>-4.55</td>\n      <td>-0.12</td>\n      <td>4.75</td>\n      <td>0.68</td>\n    </tr>\n    <tr>\n      <th>1990-11</th>\n      <td>-14.12</td>\n      <td>-5.20</td>\n      <td>-0.20</td>\n      <td>3.86</td>\n      <td>-2.18</td>\n      <td>0.57</td>\n    </tr>\n    <tr>\n      <th>...</th>\n      <td>...</td>\n      <td>...</td>\n      <td>...</td>\n      <td>...</td>\n      <td>...</td>\n      <td>...</td>\n    </tr>\n    <tr>\n      <th>2022-06</th>\n      <td>-6.82</td>\n      <td>1.64</td>\n      <td>3.19</td>\n      <td>-2.00</td>\n      <td>1.61</td>\n      <td>0.06</td>\n    </tr>\n    <tr>\n      <th>2022-07</th>\n      <td>5.67</td>\n      <td>0.63</td>\n      <td>-5.57</td>\n      <td>3.27</td>\n      <td>-2.44</td>\n      <td>0.08</td>\n    </tr>\n    <tr>\n      <th>2022-08</th>\n      <td>-3.11</td>\n      <td>1.32</td>\n      <td>0.83</td>\n      <td>-0.99</td>\n      <td>0.61</td>\n      <td>0.19</td>\n    </tr>\n    <tr>\n      <th>2022-09</th>\n      <td>-9.36</td>\n      <td>1.47</td>\n      <td>2.29</td>\n      <td>-2.26</td>\n      <td>3.08</td>\n      <td>0.19</td>\n    </tr>\n    <tr>\n      <th>2022-10</th>\n      <td>1.95</td>\n      <td>-1.14</td>\n      <td>-3.09</td>\n      <td>1.30</td>\n      <td>-2.57</td>\n      <td>0.23</td>\n    </tr>\n  </tbody>\n</table>\n<p>388 rows × 6 columns</p>\n</div>"
     },
     "execution_count": 197,
     "metadata": {},
     "output_type": "execute_result"
    }
   ],
   "source": [
    "famafrench = pd.read_csv(\"data/Japan_5_Factors.csv\")\n",
    "famafrench[\"Date\"] = pd.to_datetime(famafrench[\"Date\"], format=\"%Y%m\")\n",
    "famafrench['Date'] = famafrench['Date'].dt.strftime('%Y-%m')\n",
    "famafrench.set_index('Date', inplace=True)\n",
    "famafrench"
   ],
   "metadata": {
    "collapsed": false
   }
  },
  {
   "cell_type": "code",
   "execution_count": 198,
   "outputs": [
    {
     "name": "stderr",
     "output_type": "stream",
     "text": [
      "/var/folders/pb/d2lzhndx6vs8ghv0m0258lzh0000gn/T/ipykernel_82470/3978463161.py:6: FutureWarning: Passing 'suffixes' which cause duplicate columns {'0_x'} in the result is deprecated and will raise a MergeError in a future version.\n",
      "  finalmonthlyOnlyIV = finalmonthlyOnlyIV.merge(netPY, on=\"Date\")\n"
     ]
    }
   ],
   "source": [
    "finalmonthlyOnlyIV = dividendPriceRatio.merge(bookToMarketRatio, on=\"Date\")\n",
    "finalmonthlyOnlyIV = finalmonthlyOnlyIV.merge(earningsToPriceRatio, on=\"Date\")\n",
    "finalmonthlyOnlyIV = finalmonthlyOnlyIV.merge(smoothedEP, on=\"Date\")\n",
    "finalmonthlyOnlyIV = finalmonthlyOnlyIV.merge(percentEquityIssuing, on=\"Date\")\n",
    "finalmonthlyOnlyIV = finalmonthlyOnlyIV.merge(netIssue, on=\"Date\")\n",
    "finalmonthlyOnlyIV = finalmonthlyOnlyIV.merge(netPY, on=\"Date\")\n",
    "finalmonthlyOnlyIV = finalmonthlyOnlyIV.merge(inflationRate, on=\"Date\")\n",
    "finalmonthlyOnlyIV = finalmonthlyOnlyIV.merge(realMoneySupply, on=\"Date\")\n",
    "finalmonthlyOnlyIV = finalmonthlyOnlyIV.merge(crudeOilPriceChange, on=\"Date\")\n",
    "finalmonthlyOnlyIV = finalmonthlyOnlyIV.merge(crudeOilProduction, on=\"Date\")\n",
    "finalmonthlyOnlyIV = finalmonthlyOnlyIV.merge(petroleumConsumption, on=\"Date\")\n",
    "finalmonthlyOnlyIV = finalmonthlyOnlyIV.merge(industrialProduction, on=\"Date\")\n",
    "finalmonthlyOnlyIV = finalmonthlyOnlyIV.merge(unemploymentRate, on=\"Date\")\n",
    "finalmonthlyOnlyIV = finalmonthlyOnlyIV.merge(stockVariance, on=\"Date\")\n",
    "finalmonthlyOnlyIV = finalmonthlyOnlyIV.merge(volatilityIndex, on=\"Date\")\n",
    "finalmonthlyOnlyIV = finalmonthlyOnlyIV.merge(famafrench, on=\"Date\")\n",
    "#ToDo change column names when we have all variables"
   ],
   "metadata": {
    "collapsed": false
   }
  },
  {
   "cell_type": "code",
   "execution_count": 199,
   "outputs": [
    {
     "data": {
      "text/plain": "         JAPAN-DS Market - DIVIDEND YIELD  JAPAN-DS Market - PRICE/BOOK RATIO  \\\nDate                                                                            \n1990-07                            0.0056                            0.328947   \n1990-08                            0.0064                            0.377358   \n1990-09                            0.0080                            0.465116   \n1990-10                            0.0067                            0.390625   \n1990-11                            0.0076                            0.452489   \n...                                   ...                                 ...   \n2020-05                            0.0247                            0.819672   \n2020-06                            0.0248                            0.813008   \n2020-07                            0.0254                            0.840336   \n2020-08                            0.0234                            0.781250   \n2020-09                            0.0233                            0.781250   \n\n         JAPAN-DS Market - PER       0_x       0_y       0_x       0_y  \\\nDate                                                                     \n1990-07               0.020921  0.003065  0.000000  0.047405 -2.303103   \n1990-08               0.023981  0.003504  0.000000  0.054288 -2.255504   \n1990-09               0.030030  0.004381  0.001309  0.064497 -2.225784   \n1990-10               0.024938  0.003666  0.000584  0.048101 -2.241103   \n1990-11               0.027174  0.004159  0.000000  0.048690 -2.229692   \n...                        ...       ...       ...       ...       ...   \n2020-05               0.059524  0.026802  0.000000 -0.008399 -2.065549   \n2020-06               0.059172  0.027017  0.000031 -0.010856 -2.065820   \n2020-07               0.058480  0.027828  0.000223 -0.006121 -2.111701   \n2020-08               0.049261  0.025790  0.000205 -0.005424 -2.078604   \n2020-09               0.049020  0.025828  0.000478 -0.005604 -2.095370   \n\n         JP CPI: NATIONAL MEASURE - ANNUAL INFLATION RATE NADJ  \\\nDate                                                             \n1990-07                                             0.0225       \n1990-08                                             0.0282       \n1990-09                                             0.0280       \n1990-10                                             0.0311       \n1990-11                                             0.0392       \n...                                                    ...       \n2020-05                                             0.0000       \n2020-06                                             0.0010       \n2020-07                                             0.0030       \n2020-08                                             0.0020       \n2020-09                                             0.0010       \n\n         JP MONEY SUPPLY: M2 (METHO-BREAK, APR. 2003) CURA  \\\nDate                                                         \n1990-07                                           0.007331   \n1990-08                                           0.005754   \n1990-09                                           0.007666   \n1990-10                                           0.006004   \n1990-11                                          -0.003211   \n...                                                    ...   \n2020-05                                           0.016958   \n2020-06                                           0.021045   \n2020-07                                           0.007901   \n2020-08                                           0.008897   \n2020-09                                           0.005986   \n\n         US REFINERS ACQUISITION COST OF DOM. & IMPORTED CRUDE OIL CURN  ...  \\\nDate                                                                     ...   \n1990-07                                           0.071476               ...   \n1990-08                                           0.454602               ...   \n1990-09                                           0.275159               ...   \n1990-10                                           0.103563               ...   \n1990-11                                          -0.079059               ...   \n...                                                    ...               ...   \n2020-05                                           0.228233               ...   \n2020-06                                           0.543624               ...   \n2020-07                                           0.088859               ...   \n2020-08                                           0.058398               ...   \n2020-09                                          -0.060835               ...   \n\n         JP INDUSTRIAL PRODUCTION - MINING & MANUFACTURING VOLA  \\\nDate                                                              \n1990-07                                           0.010242        \n1990-08                                           0.005530        \n1990-09                                          -0.005500        \n1990-10                                           0.019355        \n1990-11                                          -0.007233        \n...                                                    ...        \n2020-05                                          -0.089120        \n2020-06                                           0.019060        \n2020-07                                           0.087282        \n2020-08                                           0.010321        \n2020-09                                           0.038593        \n\n         JP UNEMPLOYMENT RATE (METHO BREAK OCT 2010) SADJ       var  \\\nDate                                                                  \n1990-07                                         -0.045455  0.000171   \n1990-08                                         -0.047619  0.000218   \n1990-09                                          0.050000  0.000228   \n1990-10                                          0.047619  0.000278   \n1990-11                                         -0.090909  0.000276   \n...                                                   ...       ...   \n2020-05                                          0.115385  0.000161   \n2020-06                                         -0.034483  0.000161   \n2020-07                                          0.035714  0.000161   \n2020-08                                          0.034483  0.000161   \n2020-09                                          0.000000  0.000161   \n\n         NIKKEI STOCK AVERAGE VOLATILITY INDEX - PRICE INDEX  Mkt-RF   SMB  \\\nDate                                                                         \n1990-07                                           0.045891      0.10  6.27   \n1990-08                                           0.616384    -11.88 -4.97   \n1990-09                                          -0.008448    -17.38  0.64   \n1990-10                                           0.185957     24.90  0.71   \n1990-11                                          -0.306572    -14.12 -5.20   \n...                                                    ...       ...   ...   \n2020-05                                          -0.128674      6.43  2.87   \n2020-06                                           0.053609     -0.22  0.33   \n2020-07                                          -0.114868     -1.98 -1.77   \n2020-08                                          -0.121498      7.85  0.89   \n2020-09                                           0.030416      2.21  4.45   \n\n          HML   RMW   CMA    RF  \nDate                             \n1990-07  3.63  0.60  0.24  0.68  \n1990-08  0.33  1.71 -0.96  0.66  \n1990-09  0.14 -1.12 -0.11  0.60  \n1990-10 -4.55 -0.12  4.75  0.68  \n1990-11 -0.20  3.86 -2.18  0.57  \n...       ...   ...   ...   ...  \n2020-05 -7.39  2.14 -2.79  0.01  \n2020-06 -3.97  2.17 -2.54  0.01  \n2020-07 -2.76  0.77 -2.57  0.01  \n2020-08 -0.31  0.34  0.51  0.01  \n2020-09 -4.12  0.73 -0.82  0.01  \n\n[363 rows x 22 columns]",
      "text/html": "<div>\n<style scoped>\n    .dataframe tbody tr th:only-of-type {\n        vertical-align: middle;\n    }\n\n    .dataframe tbody tr th {\n        vertical-align: top;\n    }\n\n    .dataframe thead th {\n        text-align: right;\n    }\n</style>\n<table border=\"1\" class=\"dataframe\">\n  <thead>\n    <tr style=\"text-align: right;\">\n      <th></th>\n      <th>JAPAN-DS Market - DIVIDEND YIELD</th>\n      <th>JAPAN-DS Market - PRICE/BOOK RATIO</th>\n      <th>JAPAN-DS Market - PER</th>\n      <th>0_x</th>\n      <th>0_y</th>\n      <th>0_x</th>\n      <th>0_y</th>\n      <th>JP CPI: NATIONAL MEASURE - ANNUAL INFLATION RATE NADJ</th>\n      <th>JP MONEY SUPPLY: M2 (METHO-BREAK, APR. 2003) CURA</th>\n      <th>US REFINERS ACQUISITION COST OF DOM. &amp; IMPORTED CRUDE OIL CURN</th>\n      <th>...</th>\n      <th>JP INDUSTRIAL PRODUCTION - MINING &amp; MANUFACTURING VOLA</th>\n      <th>JP UNEMPLOYMENT RATE (METHO BREAK OCT 2010) SADJ</th>\n      <th>var</th>\n      <th>NIKKEI STOCK AVERAGE VOLATILITY INDEX - PRICE INDEX</th>\n      <th>Mkt-RF</th>\n      <th>SMB</th>\n      <th>HML</th>\n      <th>RMW</th>\n      <th>CMA</th>\n      <th>RF</th>\n    </tr>\n    <tr>\n      <th>Date</th>\n      <th></th>\n      <th></th>\n      <th></th>\n      <th></th>\n      <th></th>\n      <th></th>\n      <th></th>\n      <th></th>\n      <th></th>\n      <th></th>\n      <th></th>\n      <th></th>\n      <th></th>\n      <th></th>\n      <th></th>\n      <th></th>\n      <th></th>\n      <th></th>\n      <th></th>\n      <th></th>\n      <th></th>\n    </tr>\n  </thead>\n  <tbody>\n    <tr>\n      <th>1990-07</th>\n      <td>0.0056</td>\n      <td>0.328947</td>\n      <td>0.020921</td>\n      <td>0.003065</td>\n      <td>0.000000</td>\n      <td>0.047405</td>\n      <td>-2.303103</td>\n      <td>0.0225</td>\n      <td>0.007331</td>\n      <td>0.071476</td>\n      <td>...</td>\n      <td>0.010242</td>\n      <td>-0.045455</td>\n      <td>0.000171</td>\n      <td>0.045891</td>\n      <td>0.10</td>\n      <td>6.27</td>\n      <td>3.63</td>\n      <td>0.60</td>\n      <td>0.24</td>\n      <td>0.68</td>\n    </tr>\n    <tr>\n      <th>1990-08</th>\n      <td>0.0064</td>\n      <td>0.377358</td>\n      <td>0.023981</td>\n      <td>0.003504</td>\n      <td>0.000000</td>\n      <td>0.054288</td>\n      <td>-2.255504</td>\n      <td>0.0282</td>\n      <td>0.005754</td>\n      <td>0.454602</td>\n      <td>...</td>\n      <td>0.005530</td>\n      <td>-0.047619</td>\n      <td>0.000218</td>\n      <td>0.616384</td>\n      <td>-11.88</td>\n      <td>-4.97</td>\n      <td>0.33</td>\n      <td>1.71</td>\n      <td>-0.96</td>\n      <td>0.66</td>\n    </tr>\n    <tr>\n      <th>1990-09</th>\n      <td>0.0080</td>\n      <td>0.465116</td>\n      <td>0.030030</td>\n      <td>0.004381</td>\n      <td>0.001309</td>\n      <td>0.064497</td>\n      <td>-2.225784</td>\n      <td>0.0280</td>\n      <td>0.007666</td>\n      <td>0.275159</td>\n      <td>...</td>\n      <td>-0.005500</td>\n      <td>0.050000</td>\n      <td>0.000228</td>\n      <td>-0.008448</td>\n      <td>-17.38</td>\n      <td>0.64</td>\n      <td>0.14</td>\n      <td>-1.12</td>\n      <td>-0.11</td>\n      <td>0.60</td>\n    </tr>\n    <tr>\n      <th>1990-10</th>\n      <td>0.0067</td>\n      <td>0.390625</td>\n      <td>0.024938</td>\n      <td>0.003666</td>\n      <td>0.000584</td>\n      <td>0.048101</td>\n      <td>-2.241103</td>\n      <td>0.0311</td>\n      <td>0.006004</td>\n      <td>0.103563</td>\n      <td>...</td>\n      <td>0.019355</td>\n      <td>0.047619</td>\n      <td>0.000278</td>\n      <td>0.185957</td>\n      <td>24.90</td>\n      <td>0.71</td>\n      <td>-4.55</td>\n      <td>-0.12</td>\n      <td>4.75</td>\n      <td>0.68</td>\n    </tr>\n    <tr>\n      <th>1990-11</th>\n      <td>0.0076</td>\n      <td>0.452489</td>\n      <td>0.027174</td>\n      <td>0.004159</td>\n      <td>0.000000</td>\n      <td>0.048690</td>\n      <td>-2.229692</td>\n      <td>0.0392</td>\n      <td>-0.003211</td>\n      <td>-0.079059</td>\n      <td>...</td>\n      <td>-0.007233</td>\n      <td>-0.090909</td>\n      <td>0.000276</td>\n      <td>-0.306572</td>\n      <td>-14.12</td>\n      <td>-5.20</td>\n      <td>-0.20</td>\n      <td>3.86</td>\n      <td>-2.18</td>\n      <td>0.57</td>\n    </tr>\n    <tr>\n      <th>...</th>\n      <td>...</td>\n      <td>...</td>\n      <td>...</td>\n      <td>...</td>\n      <td>...</td>\n      <td>...</td>\n      <td>...</td>\n      <td>...</td>\n      <td>...</td>\n      <td>...</td>\n      <td>...</td>\n      <td>...</td>\n      <td>...</td>\n      <td>...</td>\n      <td>...</td>\n      <td>...</td>\n      <td>...</td>\n      <td>...</td>\n      <td>...</td>\n      <td>...</td>\n      <td>...</td>\n    </tr>\n    <tr>\n      <th>2020-05</th>\n      <td>0.0247</td>\n      <td>0.819672</td>\n      <td>0.059524</td>\n      <td>0.026802</td>\n      <td>0.000000</td>\n      <td>-0.008399</td>\n      <td>-2.065549</td>\n      <td>0.0000</td>\n      <td>0.016958</td>\n      <td>0.228233</td>\n      <td>...</td>\n      <td>-0.089120</td>\n      <td>0.115385</td>\n      <td>0.000161</td>\n      <td>-0.128674</td>\n      <td>6.43</td>\n      <td>2.87</td>\n      <td>-7.39</td>\n      <td>2.14</td>\n      <td>-2.79</td>\n      <td>0.01</td>\n    </tr>\n    <tr>\n      <th>2020-06</th>\n      <td>0.0248</td>\n      <td>0.813008</td>\n      <td>0.059172</td>\n      <td>0.027017</td>\n      <td>0.000031</td>\n      <td>-0.010856</td>\n      <td>-2.065820</td>\n      <td>0.0010</td>\n      <td>0.021045</td>\n      <td>0.543624</td>\n      <td>...</td>\n      <td>0.019060</td>\n      <td>-0.034483</td>\n      <td>0.000161</td>\n      <td>0.053609</td>\n      <td>-0.22</td>\n      <td>0.33</td>\n      <td>-3.97</td>\n      <td>2.17</td>\n      <td>-2.54</td>\n      <td>0.01</td>\n    </tr>\n    <tr>\n      <th>2020-07</th>\n      <td>0.0254</td>\n      <td>0.840336</td>\n      <td>0.058480</td>\n      <td>0.027828</td>\n      <td>0.000223</td>\n      <td>-0.006121</td>\n      <td>-2.111701</td>\n      <td>0.0030</td>\n      <td>0.007901</td>\n      <td>0.088859</td>\n      <td>...</td>\n      <td>0.087282</td>\n      <td>0.035714</td>\n      <td>0.000161</td>\n      <td>-0.114868</td>\n      <td>-1.98</td>\n      <td>-1.77</td>\n      <td>-2.76</td>\n      <td>0.77</td>\n      <td>-2.57</td>\n      <td>0.01</td>\n    </tr>\n    <tr>\n      <th>2020-08</th>\n      <td>0.0234</td>\n      <td>0.781250</td>\n      <td>0.049261</td>\n      <td>0.025790</td>\n      <td>0.000205</td>\n      <td>-0.005424</td>\n      <td>-2.078604</td>\n      <td>0.0020</td>\n      <td>0.008897</td>\n      <td>0.058398</td>\n      <td>...</td>\n      <td>0.010321</td>\n      <td>0.034483</td>\n      <td>0.000161</td>\n      <td>-0.121498</td>\n      <td>7.85</td>\n      <td>0.89</td>\n      <td>-0.31</td>\n      <td>0.34</td>\n      <td>0.51</td>\n      <td>0.01</td>\n    </tr>\n    <tr>\n      <th>2020-09</th>\n      <td>0.0233</td>\n      <td>0.781250</td>\n      <td>0.049020</td>\n      <td>0.025828</td>\n      <td>0.000478</td>\n      <td>-0.005604</td>\n      <td>-2.095370</td>\n      <td>0.0010</td>\n      <td>0.005986</td>\n      <td>-0.060835</td>\n      <td>...</td>\n      <td>0.038593</td>\n      <td>0.000000</td>\n      <td>0.000161</td>\n      <td>0.030416</td>\n      <td>2.21</td>\n      <td>4.45</td>\n      <td>-4.12</td>\n      <td>0.73</td>\n      <td>-0.82</td>\n      <td>0.01</td>\n    </tr>\n  </tbody>\n</table>\n<p>363 rows × 22 columns</p>\n</div>"
     },
     "execution_count": 199,
     "metadata": {},
     "output_type": "execute_result"
    }
   ],
   "source": [
    "finalmonthlyOnlyIV"
   ],
   "metadata": {
    "collapsed": false
   }
  },
  {
   "cell_type": "code",
   "execution_count": 200,
   "outputs": [
    {
     "name": "stderr",
     "output_type": "stream",
     "text": [
      "/var/folders/pb/d2lzhndx6vs8ghv0m0258lzh0000gn/T/ipykernel_82470/3592978133.py:4: FutureWarning: Passing 'suffixes' which cause duplicate columns {'totalReturnChange_x'} in the result is deprecated and will raise a MergeError in a future version.\n",
      "  finalIndexMonthly = finalIndexMonthly.merge(mk36, on='Date')\n"
     ]
    }
   ],
   "source": [
    "finalIndexMonthly = finalmonthlyOnlyIV.merge(dependentVariable, on='Date')\n",
    "finalIndexMonthly = finalIndexMonthly.merge(mk12, on='Date')\n",
    "finalIndexMonthly = finalIndexMonthly.merge(mk24, on='Date')\n",
    "finalIndexMonthly = finalIndexMonthly.merge(mk36, on='Date')\n",
    "finalIndexMonthly = finalIndexMonthly.merge(mk48, on='Date')\n",
    "#ToDo again colnames"
   ],
   "metadata": {
    "collapsed": false
   }
  },
  {
   "cell_type": "code",
   "execution_count": 201,
   "outputs": [
    {
     "data": {
      "text/plain": "         JAPAN-DS Market - DIVIDEND YIELD  JAPAN-DS Market - PRICE/BOOK RATIO  \\\nDate                                                                            \n1990-07                            0.0056                            0.328947   \n1990-08                            0.0064                            0.377358   \n1990-09                            0.0080                            0.465116   \n1990-10                            0.0067                            0.390625   \n1990-11                            0.0076                            0.452489   \n...                                   ...                                 ...   \n2020-05                            0.0247                            0.819672   \n2020-06                            0.0248                            0.813008   \n2020-07                            0.0254                            0.840336   \n2020-08                            0.0234                            0.781250   \n2020-09                            0.0233                            0.781250   \n\n         JAPAN-DS Market - PER       0_x       0_y       0_x       0_y  \\\nDate                                                                     \n1990-07               0.020921  0.003065  0.000000  0.047405 -2.303103   \n1990-08               0.023981  0.003504  0.000000  0.054288 -2.255504   \n1990-09               0.030030  0.004381  0.001309  0.064497 -2.225784   \n1990-10               0.024938  0.003666  0.000584  0.048101 -2.241103   \n1990-11               0.027174  0.004159  0.000000  0.048690 -2.229692   \n...                        ...       ...       ...       ...       ...   \n2020-05               0.059524  0.026802  0.000000 -0.008399 -2.065549   \n2020-06               0.059172  0.027017  0.000031 -0.010856 -2.065820   \n2020-07               0.058480  0.027828  0.000223 -0.006121 -2.111701   \n2020-08               0.049261  0.025790  0.000205 -0.005424 -2.078604   \n2020-09               0.049020  0.025828  0.000478 -0.005604 -2.095370   \n\n         JP CPI: NATIONAL MEASURE - ANNUAL INFLATION RATE NADJ  \\\nDate                                                             \n1990-07                                             0.0225       \n1990-08                                             0.0282       \n1990-09                                             0.0280       \n1990-10                                             0.0311       \n1990-11                                             0.0392       \n...                                                    ...       \n2020-05                                             0.0000       \n2020-06                                             0.0010       \n2020-07                                             0.0030       \n2020-08                                             0.0020       \n2020-09                                             0.0010       \n\n         JP MONEY SUPPLY: M2 (METHO-BREAK, APR. 2003) CURA  \\\nDate                                                         \n1990-07                                           0.007331   \n1990-08                                           0.005754   \n1990-09                                           0.007666   \n1990-10                                           0.006004   \n1990-11                                          -0.003211   \n...                                                    ...   \n2020-05                                           0.016958   \n2020-06                                           0.021045   \n2020-07                                           0.007901   \n2020-08                                           0.008897   \n2020-09                                           0.005986   \n\n         US REFINERS ACQUISITION COST OF DOM. & IMPORTED CRUDE OIL CURN  ...  \\\nDate                                                                     ...   \n1990-07                                           0.071476               ...   \n1990-08                                           0.454602               ...   \n1990-09                                           0.275159               ...   \n1990-10                                           0.103563               ...   \n1990-11                                          -0.079059               ...   \n...                                                    ...               ...   \n2020-05                                           0.228233               ...   \n2020-06                                           0.543624               ...   \n2020-07                                           0.088859               ...   \n2020-08                                           0.058398               ...   \n2020-09                                          -0.060835               ...   \n\n          SMB   HML   RMW   CMA    RF  totalReturnChange_x  \\\nDate                                                         \n1990-07  6.27  3.63  0.60  0.24  0.68            -0.045844   \n1990-08 -4.97  0.33  1.71 -0.96  0.66            -0.136113   \n1990-09  0.64  0.14 -1.12 -0.11  0.60            -0.233652   \n1990-10  0.71 -4.55 -0.12  4.75  0.68             0.170930   \n1990-11 -5.20 -0.20  3.86 -2.18  0.57            -0.121792   \n...       ...   ...   ...   ...   ...                  ...   \n2020-05  2.87 -7.39  2.14 -2.79  0.01             0.068696   \n2020-06  0.33 -3.97  2.17 -2.54  0.01             0.000052   \n2020-07 -1.77 -2.76  0.77 -2.57  0.01            -0.035390   \n2020-08  0.89 -0.31  0.34  0.51  0.01             0.076310   \n2020-09  4.45 -4.12  0.73 -0.82  0.01             0.008353   \n\n         totalReturnChange_y  totalReturnChange_x  totalReturnChange_y  \\\nDate                                                                     \n1990-07            -0.025478            -0.030789            -0.014352   \n1990-08            -0.020368            -0.029523            -0.011730   \n1990-09            -0.015166            -0.018900            -0.007425   \n1990-10             0.008238            -0.011667            -0.001999   \n1990-11            -0.004273            -0.019764            -0.006676   \n...                      ...                  ...                  ...   \n2020-05                  NaN                  NaN                  NaN   \n2020-06                  NaN                  NaN                  NaN   \n2020-07                  NaN                  NaN                  NaN   \n2020-08                  NaN                  NaN                  NaN   \n2020-09                  NaN                  NaN                  NaN   \n\n         totalReturnChange  \nDate                        \n1990-07          -0.009704  \n1990-08          -0.009243  \n1990-09          -0.006336  \n1990-10          -0.002311  \n1990-11          -0.005826  \n...                    ...  \n2020-05                NaN  \n2020-06                NaN  \n2020-07                NaN  \n2020-08                NaN  \n2020-09                NaN  \n\n[363 rows x 27 columns]",
      "text/html": "<div>\n<style scoped>\n    .dataframe tbody tr th:only-of-type {\n        vertical-align: middle;\n    }\n\n    .dataframe tbody tr th {\n        vertical-align: top;\n    }\n\n    .dataframe thead th {\n        text-align: right;\n    }\n</style>\n<table border=\"1\" class=\"dataframe\">\n  <thead>\n    <tr style=\"text-align: right;\">\n      <th></th>\n      <th>JAPAN-DS Market - DIVIDEND YIELD</th>\n      <th>JAPAN-DS Market - PRICE/BOOK RATIO</th>\n      <th>JAPAN-DS Market - PER</th>\n      <th>0_x</th>\n      <th>0_y</th>\n      <th>0_x</th>\n      <th>0_y</th>\n      <th>JP CPI: NATIONAL MEASURE - ANNUAL INFLATION RATE NADJ</th>\n      <th>JP MONEY SUPPLY: M2 (METHO-BREAK, APR. 2003) CURA</th>\n      <th>US REFINERS ACQUISITION COST OF DOM. &amp; IMPORTED CRUDE OIL CURN</th>\n      <th>...</th>\n      <th>SMB</th>\n      <th>HML</th>\n      <th>RMW</th>\n      <th>CMA</th>\n      <th>RF</th>\n      <th>totalReturnChange_x</th>\n      <th>totalReturnChange_y</th>\n      <th>totalReturnChange_x</th>\n      <th>totalReturnChange_y</th>\n      <th>totalReturnChange</th>\n    </tr>\n    <tr>\n      <th>Date</th>\n      <th></th>\n      <th></th>\n      <th></th>\n      <th></th>\n      <th></th>\n      <th></th>\n      <th></th>\n      <th></th>\n      <th></th>\n      <th></th>\n      <th></th>\n      <th></th>\n      <th></th>\n      <th></th>\n      <th></th>\n      <th></th>\n      <th></th>\n      <th></th>\n      <th></th>\n      <th></th>\n      <th></th>\n    </tr>\n  </thead>\n  <tbody>\n    <tr>\n      <th>1990-07</th>\n      <td>0.0056</td>\n      <td>0.328947</td>\n      <td>0.020921</td>\n      <td>0.003065</td>\n      <td>0.000000</td>\n      <td>0.047405</td>\n      <td>-2.303103</td>\n      <td>0.0225</td>\n      <td>0.007331</td>\n      <td>0.071476</td>\n      <td>...</td>\n      <td>6.27</td>\n      <td>3.63</td>\n      <td>0.60</td>\n      <td>0.24</td>\n      <td>0.68</td>\n      <td>-0.045844</td>\n      <td>-0.025478</td>\n      <td>-0.030789</td>\n      <td>-0.014352</td>\n      <td>-0.009704</td>\n    </tr>\n    <tr>\n      <th>1990-08</th>\n      <td>0.0064</td>\n      <td>0.377358</td>\n      <td>0.023981</td>\n      <td>0.003504</td>\n      <td>0.000000</td>\n      <td>0.054288</td>\n      <td>-2.255504</td>\n      <td>0.0282</td>\n      <td>0.005754</td>\n      <td>0.454602</td>\n      <td>...</td>\n      <td>-4.97</td>\n      <td>0.33</td>\n      <td>1.71</td>\n      <td>-0.96</td>\n      <td>0.66</td>\n      <td>-0.136113</td>\n      <td>-0.020368</td>\n      <td>-0.029523</td>\n      <td>-0.011730</td>\n      <td>-0.009243</td>\n    </tr>\n    <tr>\n      <th>1990-09</th>\n      <td>0.0080</td>\n      <td>0.465116</td>\n      <td>0.030030</td>\n      <td>0.004381</td>\n      <td>0.001309</td>\n      <td>0.064497</td>\n      <td>-2.225784</td>\n      <td>0.0280</td>\n      <td>0.007666</td>\n      <td>0.275159</td>\n      <td>...</td>\n      <td>0.64</td>\n      <td>0.14</td>\n      <td>-1.12</td>\n      <td>-0.11</td>\n      <td>0.60</td>\n      <td>-0.233652</td>\n      <td>-0.015166</td>\n      <td>-0.018900</td>\n      <td>-0.007425</td>\n      <td>-0.006336</td>\n    </tr>\n    <tr>\n      <th>1990-10</th>\n      <td>0.0067</td>\n      <td>0.390625</td>\n      <td>0.024938</td>\n      <td>0.003666</td>\n      <td>0.000584</td>\n      <td>0.048101</td>\n      <td>-2.241103</td>\n      <td>0.0311</td>\n      <td>0.006004</td>\n      <td>0.103563</td>\n      <td>...</td>\n      <td>0.71</td>\n      <td>-4.55</td>\n      <td>-0.12</td>\n      <td>4.75</td>\n      <td>0.68</td>\n      <td>0.170930</td>\n      <td>0.008238</td>\n      <td>-0.011667</td>\n      <td>-0.001999</td>\n      <td>-0.002311</td>\n    </tr>\n    <tr>\n      <th>1990-11</th>\n      <td>0.0076</td>\n      <td>0.452489</td>\n      <td>0.027174</td>\n      <td>0.004159</td>\n      <td>0.000000</td>\n      <td>0.048690</td>\n      <td>-2.229692</td>\n      <td>0.0392</td>\n      <td>-0.003211</td>\n      <td>-0.079059</td>\n      <td>...</td>\n      <td>-5.20</td>\n      <td>-0.20</td>\n      <td>3.86</td>\n      <td>-2.18</td>\n      <td>0.57</td>\n      <td>-0.121792</td>\n      <td>-0.004273</td>\n      <td>-0.019764</td>\n      <td>-0.006676</td>\n      <td>-0.005826</td>\n    </tr>\n    <tr>\n      <th>...</th>\n      <td>...</td>\n      <td>...</td>\n      <td>...</td>\n      <td>...</td>\n      <td>...</td>\n      <td>...</td>\n      <td>...</td>\n      <td>...</td>\n      <td>...</td>\n      <td>...</td>\n      <td>...</td>\n      <td>...</td>\n      <td>...</td>\n      <td>...</td>\n      <td>...</td>\n      <td>...</td>\n      <td>...</td>\n      <td>...</td>\n      <td>...</td>\n      <td>...</td>\n      <td>...</td>\n    </tr>\n    <tr>\n      <th>2020-05</th>\n      <td>0.0247</td>\n      <td>0.819672</td>\n      <td>0.059524</td>\n      <td>0.026802</td>\n      <td>0.000000</td>\n      <td>-0.008399</td>\n      <td>-2.065549</td>\n      <td>0.0000</td>\n      <td>0.016958</td>\n      <td>0.228233</td>\n      <td>...</td>\n      <td>2.87</td>\n      <td>-7.39</td>\n      <td>2.14</td>\n      <td>-2.79</td>\n      <td>0.01</td>\n      <td>0.068696</td>\n      <td>NaN</td>\n      <td>NaN</td>\n      <td>NaN</td>\n      <td>NaN</td>\n    </tr>\n    <tr>\n      <th>2020-06</th>\n      <td>0.0248</td>\n      <td>0.813008</td>\n      <td>0.059172</td>\n      <td>0.027017</td>\n      <td>0.000031</td>\n      <td>-0.010856</td>\n      <td>-2.065820</td>\n      <td>0.0010</td>\n      <td>0.021045</td>\n      <td>0.543624</td>\n      <td>...</td>\n      <td>0.33</td>\n      <td>-3.97</td>\n      <td>2.17</td>\n      <td>-2.54</td>\n      <td>0.01</td>\n      <td>0.000052</td>\n      <td>NaN</td>\n      <td>NaN</td>\n      <td>NaN</td>\n      <td>NaN</td>\n    </tr>\n    <tr>\n      <th>2020-07</th>\n      <td>0.0254</td>\n      <td>0.840336</td>\n      <td>0.058480</td>\n      <td>0.027828</td>\n      <td>0.000223</td>\n      <td>-0.006121</td>\n      <td>-2.111701</td>\n      <td>0.0030</td>\n      <td>0.007901</td>\n      <td>0.088859</td>\n      <td>...</td>\n      <td>-1.77</td>\n      <td>-2.76</td>\n      <td>0.77</td>\n      <td>-2.57</td>\n      <td>0.01</td>\n      <td>-0.035390</td>\n      <td>NaN</td>\n      <td>NaN</td>\n      <td>NaN</td>\n      <td>NaN</td>\n    </tr>\n    <tr>\n      <th>2020-08</th>\n      <td>0.0234</td>\n      <td>0.781250</td>\n      <td>0.049261</td>\n      <td>0.025790</td>\n      <td>0.000205</td>\n      <td>-0.005424</td>\n      <td>-2.078604</td>\n      <td>0.0020</td>\n      <td>0.008897</td>\n      <td>0.058398</td>\n      <td>...</td>\n      <td>0.89</td>\n      <td>-0.31</td>\n      <td>0.34</td>\n      <td>0.51</td>\n      <td>0.01</td>\n      <td>0.076310</td>\n      <td>NaN</td>\n      <td>NaN</td>\n      <td>NaN</td>\n      <td>NaN</td>\n    </tr>\n    <tr>\n      <th>2020-09</th>\n      <td>0.0233</td>\n      <td>0.781250</td>\n      <td>0.049020</td>\n      <td>0.025828</td>\n      <td>0.000478</td>\n      <td>-0.005604</td>\n      <td>-2.095370</td>\n      <td>0.0010</td>\n      <td>0.005986</td>\n      <td>-0.060835</td>\n      <td>...</td>\n      <td>4.45</td>\n      <td>-4.12</td>\n      <td>0.73</td>\n      <td>-0.82</td>\n      <td>0.01</td>\n      <td>0.008353</td>\n      <td>NaN</td>\n      <td>NaN</td>\n      <td>NaN</td>\n      <td>NaN</td>\n    </tr>\n  </tbody>\n</table>\n<p>363 rows × 27 columns</p>\n</div>"
     },
     "execution_count": 201,
     "metadata": {},
     "output_type": "execute_result"
    }
   ],
   "source": [
    "finalIndexMonthly"
   ],
   "metadata": {
    "collapsed": false
   }
  },
  {
   "cell_type": "code",
   "execution_count": 201,
   "outputs": [],
   "source": [],
   "metadata": {
    "collapsed": false
   }
  }
 ],
 "metadata": {
  "kernelspec": {
   "display_name": "Python 3",
   "language": "python",
   "name": "python3"
  },
  "language_info": {
   "codemirror_mode": {
    "name": "ipython",
    "version": 2
   },
   "file_extension": ".py",
   "mimetype": "text/x-python",
   "name": "python",
   "nbconvert_exporter": "python",
   "pygments_lexer": "ipython2",
   "version": "2.7.6"
  }
 },
 "nbformat": 4,
 "nbformat_minor": 0
}
