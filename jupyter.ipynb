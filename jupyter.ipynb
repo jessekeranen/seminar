{
 "cells": [
  {
   "cell_type": "code",
   "execution_count": 110,
   "metadata": {
    "collapsed": false
   },
   "outputs": [],
   "source": [
    "import pandas as pd\n",
    "import numpy as np\n",
    "import matplotlib.pyplot as plt\n",
    "import statsmodels.api as sm\n",
    "import scipy.stats as stats\n",
    "from statsmodels.api import add_constant\n",
    "from statsmodels.stats.outliers_influence import variance_inflation_factor\n",
    "import statsmodels.formula.api as smf"
   ]
  },
  {
   "cell_type": "markdown",
   "metadata": {
    "collapsed": false
   },
   "source": [
    "Function for data frame manipulations that are same for all data frames."
   ]
  },
  {
   "cell_type": "code",
   "execution_count": 111,
   "metadata": {
    "collapsed": false
   },
   "outputs": [],
   "source": [
    "def df_manipulation(path):\n",
    "    data_frame = pd.read_csv(path)\n",
    "    data_frame = data_frame.rename(columns={\"Name\": \"Date\"})\n",
    "    data_frame[\"Date\"] = pd.to_datetime(data_frame[\"Date\"], format=\"%d/%m/%Y\")\n",
    "    data_frame['Date'] = data_frame['Date'].dt.strftime('%Y-%m')\n",
    "    data_frame.set_index('Date', inplace=True)\n",
    "    return data_frame"
   ]
  },
  {
   "cell_type": "markdown",
   "metadata": {
    "collapsed": false
   },
   "source": [
    "Dependant variable data frame"
   ]
  },
  {
   "cell_type": "code",
   "execution_count": 112,
   "metadata": {
    "collapsed": false
   },
   "outputs": [],
   "source": [
    "dependentVariable = df_manipulation('data/depVariable.csv')"
   ]
  },
  {
   "cell_type": "markdown",
   "metadata": {
    "collapsed": false
   },
   "source": [
    "Monthly data"
   ]
  },
  {
   "cell_type": "code",
   "execution_count": 113,
   "metadata": {
    "collapsed": false
   },
   "outputs": [],
   "source": [
    "monthlyIndex = df_manipulation('data/Monthly.csv')"
   ]
  },
  {
   "cell_type": "markdown",
   "metadata": {
    "collapsed": false
   },
   "source": [
    "Change variable"
   ]
  },
  {
   "cell_type": "code",
   "execution_count": 114,
   "metadata": {
    "collapsed": false
   },
   "outputs": [],
   "source": [
    "changeVariables = df_manipulation('data/changeVariable.csv')"
   ]
  },
  {
   "cell_type": "markdown",
   "metadata": {
    "collapsed": false
   },
   "source": [
    "Smoothed 10 years earnings to price ratio"
   ]
  },
  {
   "cell_type": "code",
   "execution_count": 115,
   "metadata": {
    "collapsed": false
   },
   "outputs": [],
   "source": [
    "smoothedEP = df_manipulation('data/smoothedPE.csv')"
   ]
  },
  {
   "cell_type": "markdown",
   "metadata": {
    "collapsed": false
   },
   "source": [
    "Variance data frame, I don't use df_manipulation function because we need day information."
   ]
  },
  {
   "cell_type": "code",
   "execution_count": 116,
   "metadata": {
    "collapsed": false
   },
   "outputs": [],
   "source": [
    "stockVariance = pd.read_csv('data/stockVar.csv')\n",
    "stockVariance = stockVariance.rename(columns={\"Name\": \"Date\"})\n",
    "stockVariance[\"Date\"] = pd.to_datetime(stockVariance[\"Date\"], format=\"%d/%m/%Y\")\n",
    "stockVariance.set_index('Date', inplace=True)\n",
    "\n",
    "stockVariance = stockVariance.rename(columns={\"JAPAN-DS Market - PRICE INDEX\": \"var\"})"
   ]
  },
  {
   "cell_type": "markdown",
   "metadata": {
    "collapsed": false
   },
   "source": [
    "Net equity expansion"
   ]
  },
  {
   "cell_type": "code",
   "execution_count": 117,
   "metadata": {
    "collapsed": false
   },
   "outputs": [],
   "source": [
    "netIssue = df_manipulation('data/netEquExp.csv')"
   ]
  },
  {
   "cell_type": "code",
   "execution_count": 118,
   "metadata": {
    "collapsed": false
   },
   "outputs": [],
   "source": [
    "notCompVwretd = pd.DataFrame(dependentVariable[\"JAPAN-DS Market - TOT RETURN IND\"].pct_change(1) - ((dependentVariable[\"JP OVERNIGHT UNCOLLATERISED CALL MONEY RATE (AVG.) NADJ\"]/100)/12))"
   ]
  },
  {
   "cell_type": "markdown",
   "metadata": {
    "collapsed": false
   },
   "source": [
    "Excess market return following Li et al (2013) for regression: log(1+ret%) - log (1+tbill%)"
   ]
  },
  {
   "cell_type": "code",
   "execution_count": 119,
   "metadata": {
    "collapsed": false
   },
   "outputs": [
    {
     "name": "stderr",
     "output_type": "stream",
     "text": [
      "/Users/jessekeranen/PycharmProjects/pythonProject/venv/lib/python3.9/site-packages/pandas/core/arraylike.py:402: RuntimeWarning: invalid value encountered in log\n",
      "  result = getattr(ufunc, method)(*inputs, **kwargs)\n"
     ]
    }
   ],
   "source": [
    "dependentVariable[\"JAPAN-DS Market - TOT RETURN IND\"] = np.log(dependentVariable[\"JAPAN-DS Market - TOT RETURN IND\"]/dependentVariable[\"JAPAN-DS Market - TOT RETURN IND\"].shift(1))\n",
    "\n",
    "dependentVariable[\"JP OVERNIGHT UNCOLLATERISED CALL MONEY RATE (AVG.) NADJ\"] = np.log(1+(dependentVariable[\"JP OVERNIGHT UNCOLLATERISED CALL MONEY RATE (AVG.) NADJ\"]/100)/12)\n",
    "\n",
    "dependentVariable[\"JAPAN-DS Market - TOT RETURN IND\"] -= dependentVariable[\"JP OVERNIGHT UNCOLLATERISED CALL MONEY RATE (AVG.) NADJ\"]\n",
    "\n",
    "dependentVariable = dependentVariable.drop(columns=[\"JP OVERNIGHT UNCOLLATERISED CALL MONEY RATE (AVG.) NADJ\"])\n",
    "dependentVariable = dependentVariable.rename(columns={\"JAPAN-DS Market - TOT RETURN IND\": \"totalReturnChange\"})\n",
    "dependentVariable = dependentVariable.dropna()\n"
   ]
  },
  {
   "cell_type": "markdown",
   "metadata": {
    "collapsed": false
   },
   "source": [
    "Help variables for valuation ratios"
   ]
  },
  {
   "cell_type": "code",
   "execution_count": 120,
   "metadata": {
    "collapsed": false
   },
   "outputs": [],
   "source": [
    "dividends = monthlyIndex[\"JAPAN-DS Market - PRICE INDEX\"]/monthlyIndex[\"JAPAN-DS Market - TOT RETURN IND\"]\n",
    "price = dividends/monthlyIndex[\"JAPAN-DS Market - DIVIDEND YIELD\"]*100\n",
    "earnings = price/monthlyIndex[\"JAPAN-DS Market - PER\"]\n",
    "dividendPriceRatio = pd.DataFrame(monthlyIndex[\"JAPAN-DS Market - DIVIDEND YIELD\"]/100)\n",
    "dividendPriceRatio = dividendPriceRatio.rename(columns={dividendPriceRatio.columns[0]: \"D/P\"})\n",
    "bookToMarketRatio = 1/pd.DataFrame(monthlyIndex[\"JAPAN-DS Market - PRICE/BOOK RATIO\"])\n",
    "bookToMarketRatio = bookToMarketRatio.rename(columns={\"JAPAN-DS Market - PRICE/BOOK RATIO\": \"B/M\"})\n",
    "\n",
    "earningsToPriceRatio = 1/pd.DataFrame(monthlyIndex[\"JAPAN-DS Market - PER\"])\n",
    "earningsToPriceRatio = earningsToPriceRatio.rename(columns={\"JAPAN-DS Market - PER\": \"E/P\"})"
   ]
  },
  {
   "cell_type": "markdown",
   "metadata": {
    "collapsed": false
   },
   "source": [
    "Volatility and variance variables"
   ]
  },
  {
   "cell_type": "code",
   "execution_count": 121,
   "metadata": {
    "collapsed": false
   },
   "outputs": [
    {
     "name": "stderr",
     "output_type": "stream",
     "text": [
      "/Users/jessekeranen/PycharmProjects/pythonProject/venv/lib/python3.9/site-packages/pandas/core/arraylike.py:402: RuntimeWarning: invalid value encountered in log\n",
      "  result = getattr(ufunc, method)(*inputs, **kwargs)\n"
     ]
    }
   ],
   "source": [
    "volatilityIndex = pd.DataFrame(np.log(1 + changeVariables[\"NIKKEI STOCK AVERAGE VOLATILITY INDEX - PRICE INDEX\"].diff() / changeVariables[\"NIKKEI STOCK AVERAGE VOLATILITY INDEX - PRICE INDEX\"].shift(1)))\n",
    "\n",
    "volatilityIndex = volatilityIndex.dropna()\n",
    "volatilityIndex = volatilityIndex.rename(columns={volatilityIndex.columns[0]: \"Vola\"})"
   ]
  },
  {
   "cell_type": "code",
   "execution_count": 122,
   "metadata": {
    "collapsed": false
   },
   "outputs": [],
   "source": [
    "stockVariance = pd.DataFrame((stockVariance[\"var\"].diff() / stockVariance[\"var\"].shift(1)).dropna())"
   ]
  },
  {
   "cell_type": "code",
   "execution_count": 123,
   "metadata": {},
   "outputs": [],
   "source": [
    "stockVariance = stockVariance.groupby(stockVariance.index.to_period('M')).agg(\"var\")[\"var\"]\n",
    "stockVariance.index = volatilityIndex.index"
   ]
  },
  {
   "cell_type": "code",
   "execution_count": 124,
   "metadata": {
    "collapsed": false
   },
   "outputs": [],
   "source": [
    "sDividends = smoothedEP[\"JAPAN-DS Market - PRICE INDEX\"]/smoothedEP[\"JAPAN-DS Market - TOT RETURN IND\"]\n",
    "sPrice = sDividends/smoothedEP[\"JAPAN-DS Market - DIVIDEND YIELD\"]*100\n",
    "sEarnings = sPrice/smoothedEP[\"JAPAN-DS Market - PER\"]\n",
    "sEarnings = sEarnings.rolling(119).mean()\n",
    "smoothedEP = sEarnings.dropna()\n",
    "\n",
    "# Dates for December 1989 don't match in price and smoothedEP, so I change them manually.\n",
    "price1 = price.copy()\n",
    "price1.index.array[0] = '1989-12-29'\n",
    "\n",
    "smoothedEP = (1/price1/smoothedEP).dropna()\n",
    "\n",
    "smoothedEP = pd.DataFrame(smoothedEP)\n",
    "smoothedEP = smoothedEP.rename(columns={smoothedEP.columns[0]: \"E10/P\"})"
   ]
  },
  {
   "cell_type": "code",
   "execution_count": 125,
   "metadata": {
    "collapsed": false
   },
   "outputs": [],
   "source": [
    "percentEquityIssuing = pd.DataFrame(monthlyIndex[\"JP STOCKS: PUBLIC OFFERINGS - AMOUNT RAISED CURN\"]/(monthlyIndex[\"JP ISSUES: CORPORATE STRAIGHT BONDS CURN\"] + monthlyIndex[\"JP STOCKS: PUBLIC OFFERINGS - AMOUNT RAISED CURN\"]))\n",
    "percentEquityIssuing = pd.DataFrame(percentEquityIssuing.fillna(0))\n",
    "percentEquityIssuing = percentEquityIssuing.rename(columns={percentEquityIssuing.columns[0]: \"Equis\"})\n",
    "\n",
    "inflationRate = pd.DataFrame(monthlyIndex[\"JP CPI: NATIONAL MEASURE - ANNUAL INFLATION RATE NADJ\"]/100)\n",
    "inflationRate = inflationRate.rename(columns={inflationRate.columns[0]: \"Ifl\"})"
   ]
  },
  {
   "cell_type": "code",
   "execution_count": 126,
   "metadata": {
    "collapsed": false
   },
   "outputs": [],
   "source": [
    "def change(x, column):\n",
    "    return pd.DataFrame((x[column].diff() / x[column].shift(1)).dropna())"
   ]
  },
  {
   "cell_type": "code",
   "execution_count": 127,
   "metadata": {
    "collapsed": false
   },
   "outputs": [],
   "source": [
    "realMoneySupply = change(changeVariables, \"JP MONEY SUPPLY: M2 (METHO-BREAK, APR. 2003) CURA\")\n",
    "realMoneySupply = realMoneySupply.rename(columns={realMoneySupply.columns[0]: \"Rms\"})\n",
    "\n",
    "petroleumConsumption = change(changeVariables, \"JP PETROLEUM: CONSUMPTION VOLN\")\n",
    "petroleumConsumption = petroleumConsumption.rename(columns={petroleumConsumption.columns[0]: \"PCon\"})\n",
    "unemploymentRate = change(changeVariables, \"JP UNEMPLOYMENT RATE (METHO BREAK OCT 2010) SADJ\")\n",
    "unemploymentRate = unemploymentRate.rename(columns={unemploymentRate.columns[0]: \"Unem\"})\n",
    "industrialProduction = change(changeVariables, \"JP INDUSTRIAL PRODUCTION - MINING & MANUFACTURING VOLA\")\n",
    "industrialProduction = industrialProduction.rename(columns={industrialProduction.columns[0]: \"IProd\"})\n",
    "crudeOilPriceChange = change(changeVariables, \"US REFINERS ACQUISITION COST OF DOM. & IMPORTED CRUDE OIL CURN\")\n",
    "crudeOilPriceChange = crudeOilPriceChange.rename(columns={crudeOilPriceChange.columns[0]: \"C/P\"})\n",
    "crudeOilProduction = change(changeVariables, \"WD CRUDE OIL PRODUCTION - WORLD VOLN\")\n",
    "crudeOilProduction = crudeOilProduction.rename(columns={crudeOilProduction.columns[0]: \"C/O\"})"
   ]
  },
  {
   "cell_type": "code",
   "execution_count": 128,
   "metadata": {
    "collapsed": false
   },
   "outputs": [],
   "source": [
    "mv = netIssue[\"JAPAN-DS Market - MARKET VALUE\"]\n",
    "\n",
    "temp9 = netIssue[\"JAPAN-DS Market - PRICE INDEX\"].diff() / netIssue[\"JAPAN-DS Market - PRICE INDEX\"].shift(1)\n",
    "netIssue = netIssue[\"JAPAN-DS Market - MARKET VALUE\"] - netIssue[\"JAPAN-DS Market - MARKET VALUE\"].shift(1)*(1+temp9)\n",
    "\n",
    "netIssue = (netIssue.rolling(window=12, min_periods=3).sum()).dropna()\n",
    "netIssue = (netIssue/mv).dropna()\n",
    "netIssue = pd.DataFrame(netIssue)\n",
    "netIssue = netIssue.rename(columns={netIssue.columns[0]: \"Ntis\"})"
   ]
  },
  {
   "cell_type": "code",
   "execution_count": 129,
   "metadata": {
    "collapsed": false
   },
   "outputs": [
    {
     "name": "stderr",
     "output_type": "stream",
     "text": [
      "/Users/jessekeranen/PycharmProjects/pythonProject/venv/lib/python3.9/site-packages/pandas/core/arraylike.py:402: RuntimeWarning: invalid value encountered in log\n",
      "  result = getattr(ufunc, method)(*inputs, **kwargs)\n"
     ]
    }
   ],
   "source": [
    "netPY = (monthlyIndex[\"JAPAN-DS Market - DIVIDEND YIELD\"]/100) + (((changeVariables[\"JAPAN-DS Market - MARKET VALUE\"].shift(1) * (changeVariables[\"JAPAN-DS Market - PRICE INDEX\"]/changeVariables[\"JAPAN-DS Market - PRICE INDEX\"].shift(1))) - changeVariables[\"JAPAN-DS Market - MARKET VALUE\"])/changeVariables[\"JAPAN-DS Market - MARKET VALUE\"])\n",
    "netPY = pd.DataFrame((np.log(0.1 + netPY)).dropna())\n",
    "netPY = netPY.rename(columns={netPY.columns[0]: \"Ndy\"})"
   ]
  },
  {
   "cell_type": "code",
   "execution_count": 130,
   "metadata": {
    "collapsed": false
   },
   "outputs": [],
   "source": [
    "def rollingmean(length):\n",
    "    temp = dependentVariable.rolling(length).mean().shift(-length)\n",
    "    temp = temp.rename(columns={temp.columns[0]: (\"K\" + str(length))})\n",
    "    return pd.DataFrame(temp)"
   ]
  },
  {
   "cell_type": "code",
   "execution_count": 131,
   "metadata": {
    "collapsed": false
   },
   "outputs": [],
   "source": [
    "mk12 = rollingmean(12)\n",
    "mk24 = rollingmean(24)\n",
    "mk36 = rollingmean(36)\n",
    "mk48 = rollingmean(48)"
   ]
  },
  {
   "cell_type": "markdown",
   "metadata": {
    "collapsed": false
   },
   "source": [
    "Fama and French factors"
   ]
  },
  {
   "cell_type": "code",
   "execution_count": null,
   "metadata": {
    "collapsed": false,
    "pycharm": {
     "is_executing": true
    }
   },
   "outputs": [],
   "source": [
    "famafrench = pd.read_csv(\"data/Japan_5_Factors.csv\")\n",
    "famafrench[\"Date\"] = pd.to_datetime(famafrench[\"Date\"], format=\"%Y%m\")\n",
    "famafrench['Date'] = famafrench['Date'].dt.strftime('%Y-%m')\n",
    "famafrench.set_index('Date', inplace=True)\n",
    "famafrench = famafrench.loc[:].div(100)\n",
    "famafrench = famafrench.drop(columns={\"RF\"})\n",
    "\n",
    "mom = pd.read_csv(\"data/Japan_MOM_Factor.csv\")\n",
    "mom['Date'] = pd.to_datetime(mom[\"Date\"], format=\"%Y%m\")\n",
    "mom['Date'] = mom['Date'].dt.strftime('%Y-%m')\n",
    "mom.set_index('Date', inplace=True)\n",
    "mom = mom.loc[:].div(100)"
   ]
  },
  {
   "cell_type": "code",
   "execution_count": null,
   "metadata": {
    "collapsed": false,
    "pycharm": {
     "is_executing": true
    }
   },
   "outputs": [],
   "source": [
    "finalmonthlyOnlyIV = dividendPriceRatio.merge(bookToMarketRatio, on=\"Date\")\n",
    "finalmonthlyOnlyIV = finalmonthlyOnlyIV.merge(earningsToPriceRatio, on=\"Date\")\n",
    "finalmonthlyOnlyIV = finalmonthlyOnlyIV.merge(smoothedEP, on=\"Date\")\n",
    "finalmonthlyOnlyIV = finalmonthlyOnlyIV.merge(percentEquityIssuing, on=\"Date\")\n",
    "finalmonthlyOnlyIV = finalmonthlyOnlyIV.merge(netIssue, on=\"Date\")\n",
    "finalmonthlyOnlyIV = finalmonthlyOnlyIV.merge(netPY, on=\"Date\")\n",
    "finalmonthlyOnlyIV = finalmonthlyOnlyIV.merge(inflationRate, on=\"Date\")\n",
    "finalmonthlyOnlyIV = finalmonthlyOnlyIV.merge(realMoneySupply, on=\"Date\")\n",
    "finalmonthlyOnlyIV = finalmonthlyOnlyIV.merge(crudeOilPriceChange, on=\"Date\")\n",
    "finalmonthlyOnlyIV = finalmonthlyOnlyIV.merge(crudeOilProduction, on=\"Date\")\n",
    "finalmonthlyOnlyIV = finalmonthlyOnlyIV.merge(petroleumConsumption, on=\"Date\")\n",
    "finalmonthlyOnlyIV = finalmonthlyOnlyIV.merge(industrialProduction, on=\"Date\")\n",
    "finalmonthlyOnlyIV = finalmonthlyOnlyIV.merge(unemploymentRate, on=\"Date\")\n",
    "finalmonthlyOnlyIV = finalmonthlyOnlyIV.merge(stockVariance, on=\"Date\")\n",
    "finalmonthlyOnlyIV = finalmonthlyOnlyIV.merge(volatilityIndex, on=\"Date\")\n",
    "finalmonthlyOnlyIV = finalmonthlyOnlyIV.merge(famafrench, on=\"Date\")\n",
    "finalmonthlyOnlyIV = finalmonthlyOnlyIV.merge(mom, on=\"Date\")"
   ]
  },
  {
   "cell_type": "code",
   "execution_count": null,
   "metadata": {
    "collapsed": false,
    "pycharm": {
     "is_executing": true
    }
   },
   "outputs": [],
   "source": [
    "finalmonthlyOnlyIV"
   ]
  },
  {
   "cell_type": "code",
   "execution_count": null,
   "metadata": {
    "pycharm": {
     "is_executing": true
    }
   },
   "outputs": [],
   "source": [
    "dependentVariable[\"totalReturnChange\"] = dependentVariable[\"totalReturnChange\"].shift(-1)\n",
    "\n",
    "dependentVariable"
   ]
  },
  {
   "cell_type": "code",
   "execution_count": null,
   "metadata": {
    "collapsed": false,
    "pycharm": {
     "is_executing": true
    }
   },
   "outputs": [],
   "source": [
    "dependentVariable = dependentVariable.dropna()\n",
    "dependentVariable = dependentVariable.rename(columns={dependentVariable.columns[0]: \"K1\"})\n",
    "finalIndexMonthly = finalmonthlyOnlyIV.merge(dependentVariable, on='Date')\n",
    "finalIndexMonthly = finalIndexMonthly.merge(mk12, on='Date')\n",
    "finalIndexMonthly = finalIndexMonthly.merge(mk24, on='Date')\n",
    "finalIndexMonthly = finalIndexMonthly.merge(mk36, on='Date')\n",
    "finalIndexMonthly = finalIndexMonthly.merge(mk48, on='Date')"
   ]
  },
  {
   "cell_type": "code",
   "execution_count": null,
   "metadata": {
    "collapsed": false,
    "pycharm": {
     "is_executing": true
    }
   },
   "outputs": [],
   "source": [
    "finalIndexMonthly"
   ]
  },
  {
   "cell_type": "markdown",
   "metadata": {
    "collapsed": false
   },
   "source": [
    "Some plotting and descriptive statistics"
   ]
  },
  {
   "cell_type": "code",
   "execution_count": null,
   "metadata": {
    "collapsed": false,
    "pycharm": {
     "is_executing": true
    }
   },
   "outputs": [],
   "source": [
    "plt.figure(figsize=(15, 12))\n",
    "plt.subplots_adjust(hspace=1)\n",
    "\n",
    "for i, col in enumerate(finalIndexMonthly.columns):\n",
    "    ax = plt.subplot(10, 3, i + 1)\n",
    "\n",
    "    finalIndexMonthly[col].hist(ax=ax)\n",
    "\n",
    "    ax.set_title(col.upper())\n",
    "    ax.set_xlabel(\"\")"
   ]
  },
  {
   "cell_type": "code",
   "execution_count": null,
   "metadata": {
    "collapsed": false,
    "pycharm": {
     "is_executing": true
    }
   },
   "outputs": [],
   "source": [
    "plt.figure(figsize=(15, 12))\n",
    "plt.subplots_adjust(hspace=1)\n",
    "\n",
    "for i, col in enumerate(finalIndexMonthly.columns):\n",
    "    ax = plt.subplot(10, 3, i + 1)\n",
    "\n",
    "    finalIndexMonthly[col].plot(ax=ax)\n",
    "\n",
    "    ax.set_title(col.upper())\n",
    "    ax.set_xlabel(\"\")"
   ]
  },
  {
   "cell_type": "code",
   "execution_count": null,
   "metadata": {
    "collapsed": false,
    "pycharm": {
     "is_executing": true
    }
   },
   "outputs": [],
   "source": [
    "plt.figure(figsize=(15, 12))\n",
    "plt.subplots_adjust(hspace=1)\n",
    "\n",
    "for i, col in enumerate(finalIndexMonthly.columns):\n",
    "    ax = plt.subplot(10, 3, i + 1)\n",
    "\n",
    "    finalIndexMonthly.plot.scatter(x=col, y=\"K1\", ax=ax)\n",
    "\n",
    "    ax.set_title(col.upper())\n",
    "    ax.set_xlabel(\"\")"
   ]
  },
  {
   "cell_type": "code",
   "execution_count": null,
   "metadata": {
    "collapsed": false,
    "pycharm": {
     "is_executing": true
    }
   },
   "outputs": [],
   "source": [
    "finalIndexMonthly.describe()"
   ]
  },
  {
   "cell_type": "code",
   "execution_count": null,
   "metadata": {
    "pycharm": {
     "is_executing": true
    }
   },
   "outputs": [],
   "source": [
    "#addingsStarts\n",
    "def addStars(data):\n",
    "    if data <= 0.01:\n",
    "        return str(data) + \"***\"\n",
    "    elif data <= 0.05:\n",
    "        return str(data) + \"**\"\n",
    "    elif data <= 0.1:\n",
    "        return str(data) + \"*\"\n",
    "    else:\n",
    "        return str(data)\n",
    "  "
   ]
  },
  {
   "attachments": {},
   "cell_type": "markdown",
   "metadata": {},
   "source": [
    "Univariate insample results"
   ]
  },
  {
   "cell_type": "code",
   "execution_count": null,
   "metadata": {
    "pycharm": {
     "is_executing": true
    }
   },
   "outputs": [],
   "source": [
    "# I first make a listoflist to dynamically fill the table with strings and integers\n",
    "# afterwards I convert it to a DataFrame\n",
    "listoflist = list()\n",
    "\n",
    "# For every independent variable\n",
    "for i in finalmonthlyOnlyIV.columns:\n",
    "    listoflist.append([\"Variable\", i, \"-\", \"-\", \"-\"])\n",
    "    #in the end i calculate the average coefficient of all the time periods\n",
    "    averageOfCoefficients = list()\n",
    "    \n",
    "    #for all the time periods: K1, K12, K24, K36, K48\n",
    "    for j in finalIndexMonthly.iloc[:,-5:].columns:\n",
    "        olsString = '' + j + ' ~ 1 + Q(\"' + i + '\")'\n",
    "\n",
    "        #I fit with newey west standard errors and lag of 1\n",
    "        ols = smf.ols(olsString, data = finalIndexMonthly).fit(cov_type = 'HAC', cov_kwds={'maxlags':1})\n",
    "\n",
    "        #add Stars to pvalue according to their significance levels\n",
    "        pval = addStars(round(ols.pvalues[1],3))\n",
    "\n",
    "        #period, coefficient of variable, newey west tstat, pvalue, r^2 adj value\n",
    "        listoflist.append([j, round(ols.params[1],2), round(ols.tvalues[1],2), pval, round(ols.rsquared_adj,2)])\n",
    "\n",
    "        averageOfCoefficients.append(ols.params[1])\n",
    "    listoflist.append([\"Avg\", round(np.mean(averageOfCoefficients),2), \"-\", \"-\", \"-\"])\n",
    "\n",
    "resultsUV = pd.DataFrame(listoflist)\n",
    "resultsUV.columns = [\"Time Horizon\", \"Coefficient (b)\", \"NW t-stat\", \"pval\", \"R^2 adj\"]\n",
    "\n",
    "#set first column as index of dataframe\n",
    "resultsUV = resultsUV.set_index(resultsUV.iloc[:,0].values)\n",
    "resultsUV = resultsUV.drop(resultsUV.columns[0], axis=1)     \n",
    "resultsUV"
   ]
  },
  {
   "attachments": {},
   "cell_type": "markdown",
   "metadata": {},
   "source": [
    "Multivariate insample results"
   ]
  },
  {
   "cell_type": "code",
   "execution_count": null,
   "metadata": {
    "collapsed": false,
    "pycharm": {
     "is_executing": true
    }
   },
   "outputs": [],
   "source": [
    "test = finalIndexMonthly.iloc[:, :-5]\n",
    "features = list(test.columns)\n",
    "features.insert(0, \"const\")\n",
    "\n",
    "timePeriod = \"K1\" #change this to K12, K24, K36, K48\n",
    "olsString = timePeriod + ' ~ 1'\n",
    "for i in finalmonthlyOnlyIV.columns:\n",
    "    olsString = olsString + ' + Q(\"' + i + '\")'\n",
    "\n",
    "#I fit with newey west standard errors and lag of 1\n",
    "ols = smf.ols(olsString, data = finalIndexMonthly).fit(cov_type = 'HAC', cov_kwds={'maxlags':1})\n",
    "\n",
    "print(ols.summary(xname=features))"
   ]
  },
  {
   "cell_type": "markdown",
   "metadata": {
    "collapsed": false
   },
   "source": [
    "Correlations"
   ]
  },
  {
   "cell_type": "code",
   "execution_count": null,
   "metadata": {
    "collapsed": false,
    "pycharm": {
     "is_executing": true
    }
   },
   "outputs": [],
   "source": [
    "correlations = test.corr()\n",
    "\n",
    "correlations"
   ]
  },
  {
   "cell_type": "markdown",
   "metadata": {
    "collapsed": false
   },
   "source": [
    "VIF"
   ]
  },
  {
   "cell_type": "code",
   "execution_count": null,
   "metadata": {
    "collapsed": false,
    "pycharm": {
     "is_executing": true
    }
   },
   "outputs": [],
   "source": [
    "vif_df = finalmonthlyOnlyIV\n",
    "vif = pd.DataFrame()\n",
    "vif[\"Variable\"] = vif_df.columns\n",
    "vif[\"VIF\"] = [variance_inflation_factor(vif_df.values, column) for column in range(len(vif_df.columns))]\n",
    "\n",
    "maxim = vif.loc[vif[\"VIF\"] == vif[\"VIF\"].max()].reset_index(drop=True)\n",
    "\n",
    "maxim\n",
    "\n",
    "while maxim[\"VIF\"][0] > 10:\n",
    "    vif_df = vif_df.drop(columns={maxim[\"Variable\"][0]})\n",
    "    vif = pd.DataFrame()\n",
    "    vif[\"Variable\"] = vif_df.columns\n",
    "    vif[\"VIF\"] = [variance_inflation_factor(vif_df.values, column) for column in range(len(vif_df.columns))]\n",
    "    maxim = vif.loc[vif[\"VIF\"] == vif[\"VIF\"].max()].reset_index(drop=True)\n",
    "\n",
    "vif"
   ]
  },
  {
   "cell_type": "code",
   "execution_count": null,
   "metadata": {
    "collapsed": false,
    "pycharm": {
     "is_executing": true
    }
   },
   "outputs": [],
   "source": [
    "timePeriod = \"K48\" #change this to K12, K24, K36, K48\n",
    "olsString = timePeriod + ' ~ 1'\n",
    "for i in vif_df.columns:\n",
    "    olsString = olsString + ' + Q(\"' + i + '\")'\n",
    "\n",
    "#I fit with newey west standard errors and lag of 1\n",
    "vif_ols = smf.ols(olsString, data = finalIndexMonthly).fit(cov_type = 'HAC', cov_kwds={'maxlags':1})\n",
    "\n",
    "print(vif_ols.summary())"
   ]
  },
  {
   "cell_type": "markdown",
   "metadata": {},
   "source": [
    "Utility Calculation"
   ]
  },
  {
   "cell_type": "code",
   "execution_count": null,
   "metadata": {
    "pycharm": {
     "is_executing": true
    }
   },
   "outputs": [],
   "source": [
    "indexTemp = finalIndexMonthly.index\n",
    "#historical average market return\n",
    "hmean = list()\n",
    "for i in indexTemp:\n",
    "    hmean.append(finalIndexMonthly.loc[:,\"K1\"].loc[\"1990-11\":i].mean())\n",
    "\n",
    "#historical average market return\n",
    "rhmean = pd.Series(hmean[finalIndexMonthly.index.get_loc(\"2001-12\"):-1])\n",
    "\n",
    "\n",
    "\n",
    "#utility gain\n",
    "riskAversion = 3\n",
    "varianceUT = finalIndexMonthly.loc[:,\"K1\"]*100\n",
    "#utilityDF\n",
    "varianceUT = varianceUT.rolling(len(varianceUT),min_periods=12*10).var().loc[\"2002-01\":]\n",
    "rhmean.index = varianceUT.index\n",
    "wVariable = (rhmean*100).div(varianceUT)*(1/riskAversion)\n",
    "\n",
    "\n",
    "#restrict wVariable to max 0% or 150%\n",
    "wVariable\n",
    "for i in wVariable.index:\n",
    "    if wVariable[i] < 0:\n",
    "        wVariable[i] = 0\n",
    "    elif wVariable[i] > 1.5:\n",
    "        wVariable[i] = 1.5\n",
    "    else:\n",
    "        True\n",
    "        #do nothing\n",
    "historicUtility = wVariable.mean()-(1/2*riskAversion*wVariable.var())"
   ]
  },
  {
   "attachments": {},
   "cell_type": "markdown",
   "metadata": {
    "collapsed": false
   },
   "source": [
    "Out of sample predictions"
   ]
  },
  {
   "cell_type": "code",
   "execution_count": null,
   "outputs": [],
   "source": [
    "# Add constants to the model\n",
    "finalmonthlyOnlyIVConst = finalmonthlyOnlyIV.copy(deep=True)\n",
    "finalmonthlyOnlyIVConst.insert(0, \"const\", 1)\n",
    "\n",
    "finalIndexMonthlyConst = finalIndexMonthly.copy(deep=True)\n",
    "finalIndexMonthlyConst.insert(0, \"const\", 1)\n",
    "finalIndexMonthlyConst"
   ],
   "metadata": {
    "collapsed": false,
    "pycharm": {
     "is_executing": true
    }
   }
  },
  {
   "cell_type": "code",
   "execution_count": null,
   "metadata": {
    "collapsed": false,
    "pycharm": {
     "is_executing": true
    }
   },
   "outputs": [],
   "source": [
    "dates = finalIndexMonthly.loc[\"2002-01\":].index\n",
    "results = np.empty(shape=(0, 4))\n",
    "predictions = []\n",
    "\n",
    "for date in dates:\n",
    "    out_of_sample = finalIndexMonthlyConst.loc[date].iloc[:-5]\n",
    "\n",
    "    df = finalIndexMonthlyConst.loc[:date].iloc[:-1, :-4]\n",
    "    X = df.iloc[:, :-1]\n",
    "    y = df.iloc[:, -1:]\n",
    "    ols = sm.OLS(y, X).fit()\n",
    "    temp = np.matrix([[date] * len(ols.params)] + [ols.params.tolist()] + [ols.tvalues.tolist()] + [ols.params.index.tolist()])\n",
    "\n",
    "    temp = np.transpose(temp)\n",
    "    results = np.vstack((results, temp))\n",
    "\n",
    "    prediction = [date, ols.predict(out_of_sample)[0]]\n",
    "    predictions.append(prediction) #same as oospread\n",
    "\n",
    "pred_df = pd.DataFrame(predictions)\n",
    "pred_df = pred_df.rename(columns={0: \"Date\", 1: \"Pred\"})\n",
    "pred_df.set_index('Date', inplace=True)\n",
    "\n",
    "results = pd.DataFrame(results)\n",
    "results = results.rename(columns={0: \"Date\", 1: \"Coef\", 2: \"T-val\", 3: \"Variable\"})\n",
    "results.set_index(\"Date\", inplace=True)\n",
    "\n",
    "results[[\"Coef\", \"T-val\"]] = results[[\"Coef\", \"T-val\"]].apply(pd.to_numeric)\n",
    "results = results.round(2)\n",
    "#results"
   ]
  },
  {
   "cell_type": "code",
   "execution_count": null,
   "outputs": [],
   "source": [
    "plt.figure(figsize=(15, 12))\n",
    "plt.subplots_adjust(hspace=1)\n",
    "\n",
    "for i, variable in enumerate(features[0:]):\n",
    "    ax = plt.subplot(10, 3, i + 1)\n",
    "\n",
    "    results[results[\"Variable\"] == variable].plot(ax=ax)\n",
    "\n",
    "    ax.set_title(variable.upper())\n",
    "    ax.get_legend().remove()\n",
    "    ax.set_xlabel(\"\")\n",
    "\n",
    "plt.legend(loc=\"lower center\", bbox_to_anchor=(1.2, 0))\n",
    "plt.show()"
   ],
   "metadata": {
    "collapsed": false,
    "pycharm": {
     "is_executing": true
    }
   }
  },
  {
   "cell_type": "code",
   "execution_count": null,
   "outputs": [],
   "source": [
    "cols = vif_df.columns\n",
    "cols = cols.insert(0, \"const\")\n",
    "cols = cols.insert(0, \"K1\")\n",
    "\n",
    "dates = finalIndexMonthly.loc[\"2002-01\":].index\n",
    "results_vif = np.empty(shape=(0, 4))\n",
    "predictions_vif = []\n",
    "\n",
    "for date in dates:\n",
    "    out_of_sample = finalIndexMonthlyConst.loc[date, cols[1:]]\n",
    "\n",
    "    df = finalIndexMonthlyConst.loc[:date, cols].iloc[:-1]\n",
    "    X = df.iloc[:, 1:]\n",
    "    y = df.iloc[:, 0]\n",
    "    ols = sm.OLS(y, X).fit()\n",
    "    temp = np.matrix([[date] * len(ols.params)] + [ols.params.tolist()] + [ols.tvalues.tolist()] + [ols.params.index.tolist()])\n",
    "\n",
    "    temp = np.transpose(temp)\n",
    "    results_vif = np.vstack((results_vif, temp))\n",
    "\n",
    "    prediction_vif = [date, ols.predict(out_of_sample)[0]]\n",
    "    predictions_vif.append(prediction_vif) #same as oospread\n",
    "\n",
    "pred_df_vif = pd.DataFrame(predictions_vif)\n",
    "pred_df_vif = pred_df_vif.rename(columns={0: \"Date\", 1: \"Pred_vif\"})\n",
    "pred_df_vif.set_index('Date', inplace=True)\n",
    "\n",
    "results_vif = pd.DataFrame(results_vif)\n",
    "results_vif = results_vif.rename(columns={0: \"Date\", 1: \"Coef\", 2: \"T-val\", 3: \"Variable\"})\n",
    "results_vif.set_index(\"Date\", inplace=True)\n",
    "\n",
    "results_vif[[\"Coef\", \"T-val\"]] = results_vif[[\"Coef\", \"T-val\"]].apply(pd.to_numeric)\n",
    "results_vif = results_vif.round(2)"
   ],
   "metadata": {
    "collapsed": false,
    "pycharm": {
     "is_executing": true
    }
   }
  },
  {
   "cell_type": "code",
   "execution_count": null,
   "outputs": [],
   "source": [
    "plt.figure(figsize=(15, 12))\n",
    "plt.subplots_adjust(hspace=1)\n",
    "\n",
    "for i, variable in enumerate(cols[1:]):\n",
    "    ax = plt.subplot(10, 3, i + 1)\n",
    "\n",
    "    results_vif[results_vif[\"Variable\"] == variable].plot(ax=ax)\n",
    "\n",
    "    ax.set_title(variable.upper())\n",
    "    ax.get_legend().remove()\n",
    "    ax.set_xlabel(\"\")\n",
    "\n",
    "plt.legend(loc=\"lower center\", bbox_to_anchor=(1.2, 0))\n",
    "plt.show()"
   ],
   "metadata": {
    "collapsed": false,
    "pycharm": {
     "is_executing": true
    }
   }
  },
  {
   "cell_type": "markdown",
   "metadata": {},
   "source": [
    "Calculation of R^2"
   ]
  },
  {
   "cell_type": "code",
   "execution_count": null,
   "metadata": {
    "pycharm": {
     "is_executing": true
    }
   },
   "outputs": [],
   "source": [
    "realReturns = finalIndexMonthly.loc[\"2002-01\":,\"K1\"]\n",
    "realReturns"
   ]
  },
  {
   "cell_type": "code",
   "execution_count": null,
   "metadata": {
    "pycharm": {
     "is_executing": true
    }
   },
   "outputs": [],
   "source": [
    "dates = finalIndexMonthly.loc[\"2002-01\":\"2020-08\"].index\n",
    "anzahlIV = len(finalmonthlyOnlyIV.columns)\n",
    "resultsForecastUV = np.zeros((anzahlIV,4))\n",
    "\n",
    "figuresOosUV = list()\n",
    "\n",
    "#real return\n",
    "realReturns = finalIndexMonthly.loc[\"2002-01\":,\"K1\"]\n",
    "realReturns.index = rhmean.index\n",
    "\n",
    "rapachTabelle = np.zeros((len(finalIndexMonthly.loc[\"2002-01\":,]),anzahlIV))\n",
    "rapachCounter = 0\n",
    "\n",
    "for i, IV in enumerate(finalmonthlyOnlyIV.columns):\n",
    "    oospread = list()\n",
    "    oospreadCampbell = list()\n",
    "    for counter, j in enumerate(dates):\n",
    "        X = finalIndexMonthly.loc[:j,IV].iloc[:-1]\n",
    "        y = finalIndexMonthly.loc[:j,\"K1\"].iloc[:-1]\n",
    "        X = sm.add_constant(X, has_constant = 'add')\n",
    "        ols = sm.OLS(y, X).fit()\n",
    "        olsTemp = ols.params[0] + ols.params[1]*finalIndexMonthly.loc[j][i]\n",
    "        oospread.append(olsTemp)\n",
    "\n",
    "        rapachTabelle[rapachCounter, i] = olsTemp\n",
    "        rapachCounter += 1\n",
    "\n",
    "        temp = finalIndexMonthly.loc[:j,IV].mean()\n",
    "        temp2 = None\n",
    "        ols = sm.OLS(y, X).fit()\n",
    "        if (temp < 0 and ols.params[1] < 0 ) or (temp > 0 and  ols.params[1] > 0):\n",
    "            temp2 = olsTemp\n",
    "        else:\n",
    "            temp2 = ols.params[0] * ols.params[1]*finalIndexMonthly.loc[j,IV]\n",
    "        if temp2 < 0:\n",
    "            temp2 = 0\n",
    "        else:\n",
    "            temp2 = temp2\n",
    "        oospreadCampbell.append(temp2)\n",
    "    rapachCounter = 0\n",
    "\n",
    "    #R^2 os\n",
    "    oospread = pd.Series(oospread)\n",
    "    oospread.index = rhmean.index\n",
    "    rNormalR2os = 1 -(np.square(realReturns-oospread)).sum()/(np.square(realReturns-rhmean)).sum()\n",
    "    resultsForecastUV[i,0] = round(rNormalR2os*100,2)\n",
    "\n",
    "    #adjusted MSPE following Clark and West (2007) to get pval\n",
    "    rAdjustMspe = np.square(realReturns-rhmean) - (np.square(realReturns-oospread) - np.square(rhmean - oospread))\n",
    "    rAdjustMspeTest_statistic, rAdjustMspeTest_pval = stats.ttest_1samp(rAdjustMspe, popmean = 0,alternative = 'greater')\n",
    "    resultsForecastUV[i,1] = round(rAdjustMspeTest_pval,3)\n",
    "\n",
    "    #R^2 os Campbell\n",
    "    rNormalMspeCampbell = 1-(np.square(realReturns-oospreadCampbell)).sum()/(np.square(realReturns-rhmean)).sum()\n",
    "    resultsForecastUV[i,2] = round(rNormalMspeCampbell*100,2)\n",
    "\n",
    "    #data for figures (normal ones)\n",
    "    sqm = list()\n",
    "    for k in oospread.index:\n",
    "        sqm.append(np.square(realReturns.loc[:k] - rhmean.loc[:k]).sum() - np.square(realReturns.loc[:k] - oospread.loc[:k]).sum())\n",
    "    figuresOosUV.append(sqm)\n",
    "\n",
    "    #utility gain: here portfolio with forecast\n",
    "    varianceUT.index = oospread.index\n",
    "    wVariable = (oospread*100).div(varianceUT)*(1/riskAversion)\n",
    "    #restrict wVariable to max 0% or 150%\n",
    "    wVariable\n",
    "    for a in wVariable.index:\n",
    "        if wVariable[a] < 0:\n",
    "            wVariable[a] = 0\n",
    "        elif wVariable[a] > 1.5:\n",
    "            wVariable[a] = 1.5\n",
    "        else:\n",
    "            True\n",
    "            #do nothing\n",
    "    utilityPred = wVariable.mean()-(1/2*riskAversion*wVariable.var())\n",
    "    gain = (utilityPred - historicUtility)*1200\n",
    "    resultsForecastUV[i,3] = round(gain,2)\n",
    "\n",
    "resultsForecastUV = pd.DataFrame(resultsForecastUV)\n",
    "resultsForecastUV.columns = [\"R^2OS\", \"pval\", \"signRE\", \"Ugain\"]\n",
    "resultsForecastUV.index = finalmonthlyOnlyIV.columns\n",
    "#resultsForecastUV"
   ]
  },
  {
   "cell_type": "code",
   "execution_count": null,
   "outputs": [],
   "source": [
    "figuresOosUVDF = pd.DataFrame(np.transpose(figuresOosUV))\n",
    "figuresOosUVDF = figuresOosUVDF.set_index(dates)\n",
    "figuresOosUVDF.columns = finalmonthlyOnlyIV.columns\n",
    "\n",
    "plt.figure(figsize=(15, 12))\n",
    "plt.subplots_adjust(hspace=1)\n",
    "\n",
    "for i, col in enumerate(figuresOosUVDF.columns):\n",
    "    ax = plt.subplot(10, 3, i + 1)\n",
    "\n",
    "    figuresOosUVDF[col].plot(ax=ax)\n",
    "\n",
    "    ax.set_title(col.upper())\n",
    "    ax.set_xlabel(\"\")"
   ],
   "metadata": {
    "collapsed": false,
    "pycharm": {
     "is_executing": true
    }
   }
  },
  {
   "attachments": {},
   "cell_type": "markdown",
   "metadata": {},
   "source": [
    "Multivariate Out of Sample approach"
   ]
  },
  {
   "cell_type": "code",
   "execution_count": null,
   "metadata": {
    "pycharm": {
     "is_executing": true
    }
   },
   "outputs": [],
   "source": [
    "tempRapach = rapachTabelle.copy()\n",
    "rapachTabelle = pd.DataFrame(rapachTabelle)\n",
    "rapachTabelle.round(5)\n",
    "rapachTabelle.columns = finalmonthlyOnlyIV.columns\n",
    "\n",
    "#mean\n",
    "rapachTabelle[\"mean\"] = rapachTabelle.mean(axis=1)\n",
    "#median\n",
    "rapachTabelle[\"median\"] = rapachTabelle.median(axis = 1)\n",
    "\n",
    "#trimmed mean\n",
    "tempRapach[np.arange(len(rapachTabelle)), rapachTabelle.values.argmax(1)] = 0\n",
    "tempRapach[np.arange(len(rapachTabelle)), rapachTabelle.values.argmin(1)] = 0\n",
    "tempRapach = pd.DataFrame(tempRapach)\n",
    "rapachTabelle[\"trimmedMean\"] = tempRapach.sum(axis = 1) / (anzahlIV - 2)"
   ]
  },
  {
   "cell_type": "code",
   "execution_count": null,
   "outputs": [],
   "source": [
    "# Set index\n",
    "rapachTabelle = rapachTabelle.set_index(dates)\n",
    "rapachTabelle"
   ],
   "metadata": {
    "collapsed": false,
    "pycharm": {
     "is_executing": true
    }
   }
  },
  {
   "cell_type": "code",
   "execution_count": null,
   "metadata": {
    "pycharm": {
     "is_executing": true
    }
   },
   "outputs": [],
   "source": [
    "###DMPSE combination\n",
    "discountFactor1 = 0.9\n",
    "discountFactor2 = 1.0\n",
    "m = 134\n",
    "t = len(finalIndexMonthly.index)\n",
    "\n",
    "\n",
    "weightsV1 = list() #discount factor 1\n",
    "weightsV2 = list() #discount factor 2\n",
    "\n",
    "#calculating phi eq 13\n",
    "for i in finalmonthlyOnlyIV.columns:\n",
    "    tempComb = pd.Series(rapachTabelle.loc[:,i])\n",
    "    tempComb.index = realReturns.index\n",
    "    weightsV1.append((discountFactor1**np.arange(t-m-1,t-1-(t-1)-1,-1) * np.square(realReturns - tempComb)).sum())\n",
    "    weightsV2.append((discountFactor2**np.arange(t-m-1,t-1-(t-1)-1,-1) * np.square(realReturns - tempComb)).sum())\n",
    "\n",
    "#calculating omega eq 12\n",
    "tempComb1 = weightsV1\n",
    "tempComb2 = weightsV2\n",
    "tmp1 = list()\n",
    "tmp2 = list()\n",
    "for counter, value in enumerate(weightsV1):\n",
    "    tmp1.append(value/sum(weightsV1))\n",
    "    tmp2.append(weightsV2[counter]/sum(weightsV2))\n",
    "\n",
    "#returns are formed with corresponding weights\n",
    "tabelle1 = rapachTabelle.copy()\n",
    "tabelle2 = rapachTabelle.copy()\n",
    "for i in rapachTabelle.index:\n",
    "    for counter, j in enumerate(rapachTabelle.columns[:-3]):\n",
    "        tabelle1.loc[i,j] = tmp1[counter]*rapachTabelle.loc[i,j]\n",
    "        tabelle2.loc[i,j] = tmp2[counter]*rapachTabelle.loc[i,j]\n",
    "\n",
    "rapachTabelle[\"combDMPSE1\"] = np.sum(tabelle1, axis = 1)\n",
    "rapachTabelle[\"combDMPSE2\"] = np.sum(tabelle2, axis = 1)"
   ]
  },
  {
   "cell_type": "markdown",
   "metadata": {
    "collapsed": false
   },
   "source": [
    "Logistic regression"
   ]
  },
  {
   "cell_type": "code",
   "execution_count": null,
   "metadata": {
    "collapsed": false,
    "pycharm": {
     "is_executing": true
    }
   },
   "outputs": [],
   "source": [
    "results_log = np.empty(shape=(0, 4))\n",
    "predictions_log = []\n",
    "\n",
    "log_df = finalIndexMonthlyConst.iloc[:, :-4].copy()\n",
    "log_df.loc[log_df[\"K1\"] < 0, \"K1\" ] = 0\n",
    "log_df.loc[log_df[\"K1\"] > 0, \"K1\" ] = 1\n",
    "\n",
    "for date in dates:\n",
    "    out_of_sample = log_df.loc[date].iloc[:-1]\n",
    "    df = log_df.loc[:date]\n",
    "    X = df.iloc[:, :-1].iloc[:-1]\n",
    "    y = df.iloc[:, -1:].iloc[:-1]\n",
    "    glm = sm.GLM(y, X, family=sm.families.Binomial()).fit()\n",
    "    temp = np.matrix([[date] * len(glm.params)] + [glm.params.tolist()] + [glm.tvalues.tolist()] + [glm.params.index.tolist()])\n",
    "\n",
    "    temp = np.transpose(temp)\n",
    "    results_log = np.vstack((results_log, temp))\n",
    "\n",
    "    prediction = [date, glm.predict(out_of_sample)[0]]\n",
    "    predictions_log.append(prediction)\n",
    "\n",
    "pred_df_log = pd.DataFrame(predictions_log)\n",
    "pred_df_log = pred_df_log.rename(columns={0: \"Date\", 1: \"Pred_log\"})\n",
    "pred_df_log.set_index('Date', inplace=True)\n",
    "\n",
    "results_log = pd.DataFrame(results_log)\n",
    "results_log = results_log.rename(columns={0: \"Date\", 1: \"Coef\", 2: \"T-val\", 3: \"Variable\"})\n",
    "results_log.set_index(\"Date\", inplace=True)\n",
    "\n",
    "results_log[[\"Coef\", \"T-val\"]] = results_log[[\"Coef\", \"T-val\"]].apply(pd.to_numeric)\n",
    "results_log = results_log.round(2)\n",
    "\n",
    "pred_df_log.loc[pred_df_log[\"Pred_log\"] < 0.5, \"Pred_log\" ] = 0\n",
    "pred_df_log.loc[pred_df_log[\"Pred_log\"] >= 0.5, \"Pred_log\" ] = 1\n",
    "\n",
    "pred_df_log = pred_df_log.merge(log_df[\"K1\"], on=\"Date\")\n",
    "pred_df_log"
   ]
  },
  {
   "cell_type": "code",
   "execution_count": null,
   "metadata": {
    "collapsed": false,
    "pycharm": {
     "is_executing": true
    }
   },
   "outputs": [],
   "source": [
    "confusion_matrix = pd.crosstab(pred_df_log['K1'], pred_df_log['Pred_log'], rownames=['Actual'], colnames=['Predicted'])\n",
    "print(confusion_matrix)"
   ]
  },
  {
   "cell_type": "code",
   "execution_count": null,
   "outputs": [],
   "source": [
    "# I make dataframe from rhmean that I can merge it to df2\n",
    "rhmeanDF = pd.DataFrame(rhmean)\n",
    "rhmeanDF = rhmeanDF.set_index(dates)\n",
    "rhmeanDF = rhmeanDF.rename(columns={0: \"rhmean\"})\n",
    "\n",
    "# Final df2 contains rhmean, realized return and \"all\" multivariate predictions\n",
    "df2 = pd.DataFrame(finalIndexMonthly[\"K1\"]).merge(rhmeanDF, on=\"Date\")\n",
    "df2 = df2.merge(pred_df, on=\"Date\")\n",
    "df2 = df2.merge(rapachTabelle.iloc[:, -5:], on=\"Date\")\n",
    "df2 = df2.merge(pred_df_log[\"Pred_log\"], on=\"Date\")\n",
    "df2 = df2.merge(pred_df_vif, on=\"Date\")\n",
    "\n",
    "# Make binary estimate continious\n",
    "df2[\"Pred_log\"] = df2[\"Pred_log\"] * df2[\"rhmean\"]\n",
    "\n",
    "resultsForecastMV = np.zeros((len(df2.columns) - 2, 3))\n",
    "figuresOosMV = list()\n",
    "\n",
    "varianceUT.index = df2.index\n",
    "\n",
    "i = 0\n",
    "row_names = []\n",
    "\n",
    "for prediction in df2.iloc[:,2:]:\n",
    "    #R^2 os\n",
    "    rNormalR2os = 1 - ((np.square(df2[\"K1\"] - df2[prediction])).sum()/(np.square(df2[\"K1\"] - df2[\"rhmean\"])).sum())\n",
    "\n",
    "    resultsForecastMV[i,0] = round(rNormalR2os*100,2)\n",
    "\n",
    "    #adjusted MSPE following Clark and West (2007) to get pval\n",
    "    rAdjustMspe = np.square(df2[\"K1\"]-df2[\"rhmean\"]) - (np.square(df2[\"K1\"]-df2[prediction]) - np.square(df2[\"rhmean\"] - df2[prediction]))\n",
    "    rAdjustMspeTest_statistic, rAdjustMspeTest_pval = stats.ttest_1samp(rAdjustMspe, popmean = 0, alternative = 'greater')\n",
    "\n",
    "    resultsForecastMV[i,1] = round(rAdjustMspeTest_pval, 3)\n",
    "\n",
    "\n",
    "    sqm = list()\n",
    "    for k in df2.index:\n",
    "        sqm.append(np.square(df2.loc[:k, \"K1\"] - df2.loc[:k, \"rhmean\"]).sum() - np.square(df2.loc[:k, \"K1\"] - df2.loc[:k, prediction]).sum())\n",
    "    figuresOosMV.append(sqm)\n",
    "\n",
    "\n",
    "    wVariableKIT = (df2[prediction]*100).div(varianceUT)*(1/riskAversion)\n",
    "\n",
    "    #restrict wVariable to max 0% or 150%\n",
    "    wVariableKIT\n",
    "    for a in wVariableKIT.index:\n",
    "        if wVariableKIT[a] < 0:\n",
    "            wVariableKIT[a] = 0\n",
    "        elif wVariableKIT[a] > 1.5:\n",
    "            wVariableKIT[a] = 1.5\n",
    "        else:\n",
    "            True\n",
    "            #do nothing\n",
    "\n",
    "    utilityPredKIT = wVariableKIT.mean()-(1/2*riskAversion*wVariableKIT.var())\n",
    "    gainKIT = (utilityPredKIT - historicUtility)*1200\n",
    "    resultsForecastMV[i,2] = round(gainKIT,2)\n",
    "    row_names.append(prediction)\n",
    "    i += 1\n",
    "\n",
    "resultsForecastMV = pd.DataFrame(resultsForecastMV)\n",
    "resultsForecastMV.columns = [\"R^2OS\", \"pval\", \"Ugain\"]\n",
    "resultsForecastMV.index = row_names\n",
    "\n",
    "resultsForecastMV"
   ],
   "metadata": {
    "collapsed": false,
    "pycharm": {
     "is_executing": true
    }
   }
  },
  {
   "cell_type": "code",
   "execution_count": null,
   "outputs": [],
   "source": [
    "figuresOosMVDF = pd.DataFrame(np.transpose(figuresOosMV))\n",
    "figuresOosMVDF = figuresOosMVDF.set_index(dates)\n",
    "figuresOosMVDF.columns = df2.columns[2:]\n",
    "\n",
    "\n",
    "plt.figure(figsize=(15, 12))\n",
    "plt.subplots_adjust(hspace=1)\n",
    "\n",
    "for i, col in enumerate(figuresOosMVDF.columns):\n",
    "    ax = plt.subplot(4, 2, i + 1)\n",
    "\n",
    "    figuresOosMVDF[col].plot(ax=ax)\n",
    "\n",
    "    ax.set_title(col.upper())\n",
    "    ax.set_xlabel(\"\")"
   ],
   "metadata": {
    "collapsed": false,
    "pycharm": {
     "is_executing": true
    }
   }
  },
  {
   "cell_type": "code",
   "execution_count": null,
   "metadata": {
    "collapsed": false,
    "pycharm": {
     "is_executing": true
    }
   },
   "outputs": [],
   "source": []
  }
 ],
 "metadata": {
  "kernelspec": {
   "display_name": "Python 3.10.8 ('Seminar-Finance-in-Python-py310')",
   "language": "python",
   "name": "python3"
  },
  "language_info": {
   "codemirror_mode": {
    "name": "ipython",
    "version": 3
   },
   "file_extension": ".py",
   "mimetype": "text/x-python",
   "name": "python",
   "nbconvert_exporter": "python",
   "pygments_lexer": "ipython3",
   "version": "3.10.8"
  },
  "vscode": {
   "interpreter": {
    "hash": "b72820495530e8dbad918a4f19ee6850dd99aa894a41394b9d7e3816a9e659fc"
   }
  }
 },
 "nbformat": 4,
 "nbformat_minor": 0
}
